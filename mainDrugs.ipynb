{
 "cells": [
  {
   "cell_type": "markdown",
   "id": "4c58589c-7775-487d-bd44-2e93f7267c4f",
   "metadata": {},
   "source": [
    "# Import external libraries"
   ]
  },
  {
   "cell_type": "code",
   "execution_count": 3,
   "id": "d6193f98-4375-41d7-8720-f48c1cbc0c7d",
   "metadata": {},
   "outputs": [],
   "source": [
    "import numpy as np\n",
    "import pandas as pd\n",
    "import seaborn as sns\n",
    "import matplotlib.pyplot as plt\n",
    "%matplotlib inline\n",
    "# Graphics in retina format are more sharp and legible\n",
    "%config InlineBackend.figure_format='retina'\n",
    "\n",
    "from pathlib import Path"
   ]
  },
  {
   "cell_type": "markdown",
   "id": "5b3cf6de-9d3d-40e8-acd7-b0bc88daedc6",
   "metadata": {},
   "source": [
    "# Load data"
   ]
  },
  {
   "cell_type": "code",
   "execution_count": 23,
   "id": "6dba0d22-1121-4bec-a680-0e820d82dd90",
   "metadata": {},
   "outputs": [],
   "source": [
    "# Load the dataset\n",
    "DATA_FOLDER = Path() / \"hospitalized-patients-with-heart-failure-integrating-electronic-healthcare-records-and-external-outcome-data-1.2\"\n",
    "df = pd.read_csv((DATA_FOLDER / \"dat_md.csv\"), index_col=0)"
   ]
  },
  {
   "cell_type": "markdown",
   "id": "d30ebb0d-5f4c-41cf-8ac2-7d59f3852714",
   "metadata": {},
   "source": [
    "# Data exploration"
   ]
  },
  {
   "cell_type": "code",
   "execution_count": 24,
   "id": "56bda8ae-3496-45f9-9a5d-ac81035772e6",
   "metadata": {},
   "outputs": [
    {
     "name": "stdout",
     "output_type": "stream",
     "text": [
      "<class 'pandas.core.frame.DataFrame'>\n",
      "Int64Index: 12654 entries, 1 to 12654\n",
      "Data columns (total 2 columns):\n",
      " #   Column            Dtype \n",
      "---  ------            ----- \n",
      " 0   inpatient.number  int64 \n",
      " 1   Drug_name         object\n",
      "dtypes: int64(1), object(1)\n",
      "memory usage: 296.6+ KB\n"
     ]
    }
   ],
   "source": [
    "df.info(verbose=True, show_counts=False)"
   ]
  },
  {
   "cell_type": "code",
   "execution_count": 25,
   "id": "c6fea239-be65-4ae4-881a-2c33488a9293",
   "metadata": {},
   "outputs": [
    {
     "data": {
      "text/plain": [
       "(12654, 2)"
      ]
     },
     "execution_count": 25,
     "metadata": {},
     "output_type": "execute_result"
    }
   ],
   "source": [
    "df.shape"
   ]
  },
  {
   "cell_type": "code",
   "execution_count": 26,
   "id": "282cd129-dbf8-466c-9a4c-33d524af0fb6",
   "metadata": {},
   "outputs": [
    {
     "data": {
      "text/plain": [
       "0"
      ]
     },
     "execution_count": 26,
     "metadata": {},
     "output_type": "execute_result"
    }
   ],
   "source": [
    "df.duplicated().sum()"
   ]
  },
  {
   "cell_type": "code",
   "execution_count": 27,
   "id": "66d6c112-bec0-417a-9d58-9b9b20a4d3ea",
   "metadata": {},
   "outputs": [
    {
     "data": {
      "text/html": [
       "<div>\n",
       "<style scoped>\n",
       "    .dataframe tbody tr th:only-of-type {\n",
       "        vertical-align: middle;\n",
       "    }\n",
       "\n",
       "    .dataframe tbody tr th {\n",
       "        vertical-align: top;\n",
       "    }\n",
       "\n",
       "    .dataframe thead th {\n",
       "        text-align: right;\n",
       "    }\n",
       "</style>\n",
       "<table border=\"1\" class=\"dataframe\">\n",
       "  <thead>\n",
       "    <tr style=\"text-align: right;\">\n",
       "      <th></th>\n",
       "      <th>inpatient.number</th>\n",
       "      <th>Drug_name</th>\n",
       "    </tr>\n",
       "  </thead>\n",
       "  <tbody>\n",
       "    <tr>\n",
       "      <th>1</th>\n",
       "      <td>857781</td>\n",
       "      <td>sulfotanshinone sodium injection</td>\n",
       "    </tr>\n",
       "    <tr>\n",
       "      <th>2</th>\n",
       "      <td>857781</td>\n",
       "      <td>Furosemide tablet</td>\n",
       "    </tr>\n",
       "    <tr>\n",
       "      <th>3</th>\n",
       "      <td>857781</td>\n",
       "      <td>Meglumine Adenosine Cyclophosphate for injection</td>\n",
       "    </tr>\n",
       "    <tr>\n",
       "      <th>4</th>\n",
       "      <td>857781</td>\n",
       "      <td>Furosemide injection</td>\n",
       "    </tr>\n",
       "    <tr>\n",
       "      <th>5</th>\n",
       "      <td>857781</td>\n",
       "      <td>Milrinone injection</td>\n",
       "    </tr>\n",
       "  </tbody>\n",
       "</table>\n",
       "</div>"
      ],
      "text/plain": [
       "   inpatient.number                                         Drug_name\n",
       "1            857781                  sulfotanshinone sodium injection\n",
       "2            857781                                 Furosemide tablet\n",
       "3            857781  Meglumine Adenosine Cyclophosphate for injection\n",
       "4            857781                              Furosemide injection\n",
       "5            857781                               Milrinone injection"
      ]
     },
     "execution_count": 27,
     "metadata": {},
     "output_type": "execute_result"
    }
   ],
   "source": [
    "df.head()"
   ]
  },
  {
   "cell_type": "code",
   "execution_count": 28,
   "id": "6e111ea0-cb1a-4b04-988b-9093c9ec44b1",
   "metadata": {},
   "outputs": [
    {
     "data": {
      "text/plain": [
       "array(['sulfotanshinone sodium injection', 'Furosemide tablet',\n",
       "       'Meglumine Adenosine Cyclophosphate for injection',\n",
       "       'Furosemide injection', 'Milrinone injection',\n",
       "       'Deslanoside injection', 'Torasemide tablet',\n",
       "       'Benazepril hydrochloride tablet', 'Atorvastatin calcium tablet',\n",
       "       'Digoxin tablet', 'Hydrochlorothiazide tablet',\n",
       "       'Spironolactone tablet', 'Valsartan Dispersible tablet',\n",
       "       'Dobutamine hydrochloride injection',\n",
       "       'Isoprenaline Hydrochloride injection', 'Nitroglycerin injection',\n",
       "       'Shenfu injection',\n",
       "       'Isosorbide Mononitrate Sustained Release tablet'], dtype=object)"
      ]
     },
     "execution_count": 28,
     "metadata": {},
     "output_type": "execute_result"
    }
   ],
   "source": [
    "df['Drug_name'].unique()"
   ]
  },
  {
   "cell_type": "markdown",
   "id": "47176b7d-c7b0-4800-a986-168b6cdb2b33",
   "metadata": {},
   "source": [
    "Injection or tablet --> create a new column"
   ]
  },
  {
   "cell_type": "code",
   "execution_count": 32,
   "id": "4e1e0a44-fafe-4652-82b2-f04846809694",
   "metadata": {},
   "outputs": [],
   "source": [
    "df['Administration'] = df['Drug_name'].apply(lambda x: 'injection' if 'injection' in x.lower() else 'tablet')\n",
    "df['Drug_name'] = df['Drug_name'].apply(lambda x: x.replace('injection', '').replace('tablet', ''))"
   ]
  }
 ],
 "metadata": {
  "kernelspec": {
   "display_name": "Python 3 (ipykernel)",
   "language": "python",
   "name": "python3"
  },
  "language_info": {
   "codemirror_mode": {
    "name": "ipython",
    "version": 3
   },
   "file_extension": ".py",
   "mimetype": "text/x-python",
   "name": "python",
   "nbconvert_exporter": "python",
   "pygments_lexer": "ipython3",
   "version": "3.10.6"
  }
 },
 "nbformat": 4,
 "nbformat_minor": 5
}

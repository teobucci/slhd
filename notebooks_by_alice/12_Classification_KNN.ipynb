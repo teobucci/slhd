{
 "cells": [
  {
   "cell_type": "markdown",
   "metadata": {},
   "source": [
    "# Classification: k-Nearest Neighbors"
   ]
  },
  {
   "cell_type": "markdown",
   "metadata": {},
   "source": [
    "## Data import"
   ]
  },
  {
   "cell_type": "code",
   "execution_count": 1,
   "metadata": {},
   "outputs": [],
   "source": [
    "import pandas as pd\n",
    "df = pd.read_csv('diabetes.csv')\n",
    "#any further infos on the diabetes dataset:\n",
    "#https://www.kaggle.com/uciml/pima-indians-diabetes-database"
   ]
  },
  {
   "cell_type": "markdown",
   "metadata": {},
   "source": [
    "The datasets consist of several medical predictor (independent) variables and one target (dependent) variable, Outcome. Independent variables include the number of pregnancies the patient has had, their BMI, insulin level, age, and so on.\n",
    "\n",
    "- Pregnancies:  Number of times pregnant\n",
    "- Glucose: Plasma glucose concentration a 2 hours in an oral glucose tolerance test\n",
    "- BloodPressure: Diastolic blood pressure (mm Hg)\n",
    "- SkinThickness: Triceps skin fold thickness (mm)\n",
    "- Insulin: 2-Hour serum insulin (mu U/ml)\n",
    "- BMI: Body mass index (weight in kg/(height in m)^2)\n",
    "- DiabetesPedigreeFunction: Diabetes pedigree function\n",
    "- Age: (years)\n",
    "- Outcome\n"
   ]
  },
  {
   "cell_type": "code",
   "execution_count": 2,
   "metadata": {},
   "outputs": [
    {
     "data": {
      "text/plain": [
       "(768, 9)"
      ]
     },
     "execution_count": 2,
     "metadata": {},
     "output_type": "execute_result"
    }
   ],
   "source": [
    "df.shape"
   ]
  },
  {
   "cell_type": "markdown",
   "metadata": {},
   "source": [
    "## Exploratory Data Analysis"
   ]
  },
  {
   "cell_type": "code",
   "execution_count": 3,
   "metadata": {},
   "outputs": [
    {
     "name": "stdout",
     "output_type": "stream",
     "text": [
      "<class 'pandas.core.frame.DataFrame'>\n",
      "RangeIndex: 768 entries, 0 to 767\n",
      "Data columns (total 9 columns):\n",
      " #   Column     Non-Null Count  Dtype  \n",
      "---  ------     --------------  -----  \n",
      " 0   timespreg  768 non-null    int64  \n",
      " 1   gluctol    768 non-null    int64  \n",
      " 2   diaspb     768 non-null    int64  \n",
      " 3   triceps    768 non-null    int64  \n",
      " 4   insulin    768 non-null    int64  \n",
      " 5   massindex  768 non-null    float64\n",
      " 6   pedigree   768 non-null    float64\n",
      " 7   age        768 non-null    int64  \n",
      " 8   target     768 non-null    int64  \n",
      "dtypes: float64(2), int64(7)\n",
      "memory usage: 54.1 KB\n"
     ]
    }
   ],
   "source": [
    "#gives information about the data types,columns, null value counts, memory usage etc\n",
    "df.info(verbose=True)"
   ]
  },
  {
   "cell_type": "code",
   "execution_count": 4,
   "metadata": {},
   "outputs": [
    {
     "data": {
      "text/plain": [
       "timespreg    0\n",
       "gluctol      0\n",
       "diaspb       0\n",
       "triceps      0\n",
       "insulin      0\n",
       "massindex    0\n",
       "pedigree     0\n",
       "age          0\n",
       "target       0\n",
       "dtype: int64"
      ]
     },
     "execution_count": 4,
     "metadata": {},
     "output_type": "execute_result"
    }
   ],
   "source": [
    "df.isna().sum()"
   ]
  },
  {
   "cell_type": "code",
   "execution_count": 5,
   "metadata": {},
   "outputs": [
    {
     "data": {
      "text/html": [
       "<div>\n",
       "<style scoped>\n",
       "    .dataframe tbody tr th:only-of-type {\n",
       "        vertical-align: middle;\n",
       "    }\n",
       "\n",
       "    .dataframe tbody tr th {\n",
       "        vertical-align: top;\n",
       "    }\n",
       "\n",
       "    .dataframe thead th {\n",
       "        text-align: right;\n",
       "    }\n",
       "</style>\n",
       "<table border=\"1\" class=\"dataframe\">\n",
       "  <thead>\n",
       "    <tr style=\"text-align: right;\">\n",
       "      <th></th>\n",
       "      <th>timespreg</th>\n",
       "      <th>gluctol</th>\n",
       "      <th>diaspb</th>\n",
       "      <th>triceps</th>\n",
       "      <th>insulin</th>\n",
       "      <th>massindex</th>\n",
       "      <th>pedigree</th>\n",
       "      <th>age</th>\n",
       "      <th>target</th>\n",
       "    </tr>\n",
       "  </thead>\n",
       "  <tbody>\n",
       "    <tr>\n",
       "      <th>count</th>\n",
       "      <td>768.000000</td>\n",
       "      <td>768.000000</td>\n",
       "      <td>768.000000</td>\n",
       "      <td>768.000000</td>\n",
       "      <td>768.000000</td>\n",
       "      <td>768.000000</td>\n",
       "      <td>768.000000</td>\n",
       "      <td>768.000000</td>\n",
       "      <td>768.000000</td>\n",
       "    </tr>\n",
       "    <tr>\n",
       "      <th>mean</th>\n",
       "      <td>3.845052</td>\n",
       "      <td>120.894531</td>\n",
       "      <td>69.105469</td>\n",
       "      <td>20.536458</td>\n",
       "      <td>79.799479</td>\n",
       "      <td>31.992578</td>\n",
       "      <td>0.471876</td>\n",
       "      <td>33.240885</td>\n",
       "      <td>0.348958</td>\n",
       "    </tr>\n",
       "    <tr>\n",
       "      <th>std</th>\n",
       "      <td>3.369578</td>\n",
       "      <td>31.972618</td>\n",
       "      <td>19.355807</td>\n",
       "      <td>15.952218</td>\n",
       "      <td>115.244002</td>\n",
       "      <td>7.884160</td>\n",
       "      <td>0.331329</td>\n",
       "      <td>11.760232</td>\n",
       "      <td>0.476951</td>\n",
       "    </tr>\n",
       "    <tr>\n",
       "      <th>min</th>\n",
       "      <td>0.000000</td>\n",
       "      <td>0.000000</td>\n",
       "      <td>0.000000</td>\n",
       "      <td>0.000000</td>\n",
       "      <td>0.000000</td>\n",
       "      <td>0.000000</td>\n",
       "      <td>0.078000</td>\n",
       "      <td>21.000000</td>\n",
       "      <td>0.000000</td>\n",
       "    </tr>\n",
       "    <tr>\n",
       "      <th>25%</th>\n",
       "      <td>1.000000</td>\n",
       "      <td>99.000000</td>\n",
       "      <td>62.000000</td>\n",
       "      <td>0.000000</td>\n",
       "      <td>0.000000</td>\n",
       "      <td>27.300000</td>\n",
       "      <td>0.243750</td>\n",
       "      <td>24.000000</td>\n",
       "      <td>0.000000</td>\n",
       "    </tr>\n",
       "    <tr>\n",
       "      <th>50%</th>\n",
       "      <td>3.000000</td>\n",
       "      <td>117.000000</td>\n",
       "      <td>72.000000</td>\n",
       "      <td>23.000000</td>\n",
       "      <td>30.500000</td>\n",
       "      <td>32.000000</td>\n",
       "      <td>0.372500</td>\n",
       "      <td>29.000000</td>\n",
       "      <td>0.000000</td>\n",
       "    </tr>\n",
       "    <tr>\n",
       "      <th>75%</th>\n",
       "      <td>6.000000</td>\n",
       "      <td>140.250000</td>\n",
       "      <td>80.000000</td>\n",
       "      <td>32.000000</td>\n",
       "      <td>127.250000</td>\n",
       "      <td>36.600000</td>\n",
       "      <td>0.626250</td>\n",
       "      <td>41.000000</td>\n",
       "      <td>1.000000</td>\n",
       "    </tr>\n",
       "    <tr>\n",
       "      <th>max</th>\n",
       "      <td>17.000000</td>\n",
       "      <td>199.000000</td>\n",
       "      <td>122.000000</td>\n",
       "      <td>99.000000</td>\n",
       "      <td>846.000000</td>\n",
       "      <td>67.100000</td>\n",
       "      <td>2.420000</td>\n",
       "      <td>81.000000</td>\n",
       "      <td>1.000000</td>\n",
       "    </tr>\n",
       "  </tbody>\n",
       "</table>\n",
       "</div>"
      ],
      "text/plain": [
       "        timespreg     gluctol      diaspb     triceps     insulin   massindex  \\\n",
       "count  768.000000  768.000000  768.000000  768.000000  768.000000  768.000000   \n",
       "mean     3.845052  120.894531   69.105469   20.536458   79.799479   31.992578   \n",
       "std      3.369578   31.972618   19.355807   15.952218  115.244002    7.884160   \n",
       "min      0.000000    0.000000    0.000000    0.000000    0.000000    0.000000   \n",
       "25%      1.000000   99.000000   62.000000    0.000000    0.000000   27.300000   \n",
       "50%      3.000000  117.000000   72.000000   23.000000   30.500000   32.000000   \n",
       "75%      6.000000  140.250000   80.000000   32.000000  127.250000   36.600000   \n",
       "max     17.000000  199.000000  122.000000   99.000000  846.000000   67.100000   \n",
       "\n",
       "         pedigree         age      target  \n",
       "count  768.000000  768.000000  768.000000  \n",
       "mean     0.471876   33.240885    0.348958  \n",
       "std      0.331329   11.760232    0.476951  \n",
       "min      0.078000   21.000000    0.000000  \n",
       "25%      0.243750   24.000000    0.000000  \n",
       "50%      0.372500   29.000000    0.000000  \n",
       "75%      0.626250   41.000000    1.000000  \n",
       "max      2.420000   81.000000    1.000000  "
      ]
     },
     "execution_count": 5,
     "metadata": {},
     "output_type": "execute_result"
    }
   ],
   "source": [
    "#basic statistic details about the data\n",
    "df.describe(include=\"all\")"
   ]
  },
  {
   "cell_type": "code",
   "execution_count": 6,
   "metadata": {},
   "outputs": [
    {
     "data": {
      "text/plain": [
       "<AxesSubplot:>"
      ]
     },
     "execution_count": 6,
     "metadata": {},
     "output_type": "execute_result"
    },
    {
     "data": {
      "image/png": "[encoded data removed]",
      "text/plain": [
       "<Figure size 432x288 with 1 Axes>"
      ]
     },
     "metadata": {
      "needs_background": "light"
     },
     "output_type": "display_data"
    }
   ],
   "source": [
    "%matplotlib inline\n",
    "df.boxplot(rot=90)"
   ]
  },
  {
   "cell_type": "code",
   "execution_count": 7,
   "metadata": {},
   "outputs": [
    {
     "data": {
      "text/plain": [
       "array([[<AxesSubplot:title={'center':'timespreg'}>,\n",
       "        <AxesSubplot:title={'center':'gluctol'}>,\n",
       "        <AxesSubplot:title={'center':'diaspb'}>],\n",
       "       [<AxesSubplot:title={'center':'triceps'}>,\n",
       "        <AxesSubplot:title={'center':'insulin'}>,\n",
       "        <AxesSubplot:title={'center':'massindex'}>],\n",
       "       [<AxesSubplot:title={'center':'pedigree'}>,\n",
       "        <AxesSubplot:title={'center':'age'}>,\n",
       "        <AxesSubplot:title={'center':'target'}>]], dtype=object)"
      ]
     },
     "execution_count": 7,
     "metadata": {},
     "output_type": "execute_result"
    },
    {
     "data": {
      "image/png": "[encoded data removed]",
      "text/plain": [
       "<Figure size 720x720 with 9 Axes>"
      ]
     },
     "metadata": {
      "needs_background": "light"
     },
     "output_type": "display_data"
    }
   ],
   "source": [
    "df.hist(figsize=(10,10))"
   ]
  },
  {
   "cell_type": "code",
   "execution_count": 8,
   "metadata": {},
   "outputs": [
    {
     "name": "stdout",
     "output_type": "stream",
     "text": [
      "target\n",
      "0    500\n",
      "1    268\n",
      "dtype: int64\n"
     ]
    },
    {
     "data": {
      "text/plain": [
       "<AxesSubplot:title={'center':'Distribution of target'}, xlabel='target'>"
      ]
     },
     "execution_count": 8,
     "metadata": {},
     "output_type": "execute_result"
    },
    {
     "data": {
      "image/png": "[encoded data removed]",
      "text/plain": [
       "<Figure size 432x288 with 1 Axes>"
      ]
     },
     "metadata": {
      "needs_background": "light"
     },
     "output_type": "display_data"
    }
   ],
   "source": [
    "#Print class freq. through pandas: we group the data by the column target and we count the number of rows \n",
    "target_dist=df.groupby('target').size()\n",
    "print(target_dist)\n",
    "\n",
    "#some imports to plot \n",
    "import matplotlib.pyplot as plt\n",
    "import seaborn as sns\n",
    "%matplotlib inline\n",
    "\n",
    "#Visualize Class Counts\n",
    "target_dist.plot.bar(x='',y='',title='Distribution of target')"
   ]
  },
  {
   "cell_type": "markdown",
   "metadata": {},
   "source": [
    "## Data Preparation "
   ]
  },
  {
   "cell_type": "markdown",
   "metadata": {},
   "source": [
    "### Separate Train/Test sets"
   ]
  },
  {
   "cell_type": "code",
   "execution_count": 9,
   "metadata": {},
   "outputs": [
    {
     "data": {
      "text/plain": [
       "0    1\n",
       "1    0\n",
       "2    1\n",
       "3    0\n",
       "4    1\n",
       "Name: target, dtype: int64"
      ]
     },
     "execution_count": 9,
     "metadata": {},
     "output_type": "execute_result"
    }
   ],
   "source": [
    "#Separate X and y (explanatory variables and target variable)\n",
    "X = df.iloc[:,:-1]\n",
    "y = df.iloc[:,-1] #[-1]]\n",
    "\n",
    "#X.head()\n",
    "y.head()"
   ]
  },
  {
   "cell_type": "code",
   "execution_count": 10,
   "metadata": {},
   "outputs": [
    {
     "name": "stdout",
     "output_type": "stream",
     "text": [
      "(537, 8) (231, 8)\n"
     ]
    }
   ],
   "source": [
    "from sklearn.model_selection import train_test_split\n",
    "\n",
    "#SPLIT DATA INTO TRAIN AND TEST SET\n",
    "X_train, X_test, y_train, y_test = train_test_split(X, y, \n",
    "                                                    test_size =0.30, #by default is 75%-25%\n",
    "                                                    #shuffle is set True by default,\n",
    "                                                    stratify=y,\n",
    "                                                    random_state= 123\n",
    "                                                   ) #fix random seed for replicability\n",
    "\n",
    "print(X_train.shape,X_test.shape)"
   ]
  },
  {
   "cell_type": "code",
   "execution_count": 11,
   "metadata": {},
   "outputs": [
    {
     "data": {
      "image/png": "[encoded data removed]",
      "text/plain": [
       "<Figure size 432x288 with 1 Axes>"
      ]
     },
     "metadata": {
      "needs_background": "light"
     },
     "output_type": "display_data"
    }
   ],
   "source": [
    "y_train_dist=y_train.groupby(y_train.iloc[:]).size()/y_train.size\n",
    "y_test_dist=y_test.groupby(y_test.iloc[:]).size()/y_test.size\n",
    "\n",
    "train_test_dist = pd.DataFrame({'train': y_train_dist, 'test': y_test_dist})\n",
    "ax = train_test_dist.plot.bar(rot=0) # rotation of the labels"
   ]
  },
  {
   "cell_type": "code",
   "execution_count": 12,
   "metadata": {},
   "outputs": [
    {
     "data": {
      "image/png": "[encoded data removed]",
      "text/plain": [
       "<Figure size 432x288 with 1 Axes>"
      ]
     },
     "metadata": {
      "needs_background": "light"
     },
     "output_type": "display_data"
    }
   ],
   "source": [
    "import matplotlib.pyplot as plt\n",
    "\n",
    "x1 = X_train.iloc[:,1]\n",
    "x2 = X_train.iloc[:,3]\n",
    "\n",
    "plt.scatter(x1, x2,alpha=0.2,c=y_train )\n",
    "plt.show()"
   ]
  },
  {
   "cell_type": "markdown",
   "metadata": {},
   "source": [
    "# A first model: K-Nearest Neighbor\n",
    "\n",
    "The K-Nearest Neighbor classification model simply assign to new observation the most common value among its k-nearest neighbors\n",
    "\n",
    "![KNN](KnnClassification.svg)"
   ]
  },
  {
   "cell_type": "code",
   "execution_count": 13,
   "metadata": {},
   "outputs": [],
   "source": [
    "#DEFINE YOUR CLASSIFIER and THE PARAMETERS GRID\n",
    "from sklearn.neighbors import KNeighborsClassifier\n",
    "import numpy as np\n",
    "\n",
    "#Create KNN Classifier\n",
    "knn40 = KNeighborsClassifier(n_neighbors=40)\n",
    "\n",
    "#Train the model using the training sets\n",
    "knn40.fit(X_train, y_train)\n",
    "\n",
    "#Predict the response for test dataset\n",
    "y_pred = knn40.predict(X_test)\n"
   ]
  },
  {
   "cell_type": "code",
   "execution_count": 14,
   "metadata": {},
   "outputs": [
    {
     "data": {
      "text/plain": [
       "array([0, 0, 0, 0, 0, 0, 0, 0, 0, 0, 0, 0, 0, 0, 1, 0, 0, 0, 0, 0, 0, 0,\n",
       "       1, 0, 0, 0, 0, 0, 0, 0, 0, 1, 0, 0, 0, 0, 0, 1, 0, 0, 0, 0, 0, 0,\n",
       "       0, 0, 0, 0, 0, 0, 0, 0, 1, 0, 0, 0, 0, 0, 0, 0, 0, 0, 0, 0, 0, 0,\n",
       "       0, 0, 0, 0, 0, 0, 1, 0, 0, 0, 0, 1, 0, 0, 1, 0, 0, 0, 1, 0, 0, 0,\n",
       "       0, 1, 0, 0, 0, 1, 0, 0, 0, 1, 0, 0, 0, 1, 0, 0, 0, 0, 0, 0, 0, 0,\n",
       "       0, 0, 0, 0, 1, 0, 0, 0, 0, 0, 0, 0, 0, 0, 0, 0, 0, 0, 0, 0, 0, 0,\n",
       "       0, 1, 0, 0, 0, 0, 0, 0, 0, 0, 1, 1, 0, 1, 0, 0, 1, 0, 0, 0, 0, 0,\n",
       "       1, 0, 0, 1, 0, 0, 0, 0, 0, 0, 0, 0, 0, 0, 0, 0, 1, 1, 0, 1, 0, 0,\n",
       "       0, 0, 0, 1, 1, 0, 0, 1, 0, 0, 1, 0, 0, 0, 0, 0, 0, 0, 0, 0, 0, 0,\n",
       "       0, 0, 0, 1, 0, 0, 0, 0, 1, 0, 0, 1, 1, 0, 0, 0, 1, 0, 0, 0, 0, 0,\n",
       "       0, 0, 0, 0, 0, 0, 0, 0, 0, 0, 0])"
      ]
     },
     "execution_count": 14,
     "metadata": {},
     "output_type": "execute_result"
    }
   ],
   "source": [
    "y_pred"
   ]
  },
  {
   "cell_type": "markdown",
   "metadata": {},
   "source": [
    "### Classification measures\n",
    "\n",
    "![ClassMeasures](classification_measures.png)"
   ]
  },
  {
   "cell_type": "code",
   "execution_count": 15,
   "metadata": {},
   "outputs": [
    {
     "name": "stdout",
     "output_type": "stream",
     "text": [
      "[[141   9]\n",
      " [ 57  24]]\n"
     ]
    },
    {
     "data": {
      "image/png": "[encoded data removed]",
      "text/plain": [
       "<Figure size 432x288 with 2 Axes>"
      ]
     },
     "metadata": {
      "needs_background": "light"
     },
     "output_type": "display_data"
    }
   ],
   "source": [
    "from sklearn.metrics import confusion_matrix\n",
    "print(confusion_matrix(y_test, y_pred))\n",
    "\n",
    "sns.heatmap(confusion_matrix(y_test, y_pred), annot=True, fmt='d', cmap=\"Blues\"); #annot=True to annotate cells fmt: format\n",
    "\n",
    "\n",
    "# rows: true values\n",
    "# column: predicted\n",
    "# e.g. [0,1] false positives (9)"
   ]
  },
  {
   "cell_type": "code",
   "execution_count": 16,
   "metadata": {},
   "outputs": [
    {
     "name": "stdout",
     "output_type": "stream",
     "text": [
      "***RESULTS ON TEST SET***\n",
      "F1_score:  0.42105263157894735\n",
      "Accuracy 0.7142857142857143\n",
      "Recall 0.2962962962962963\n"
     ]
    }
   ],
   "source": [
    "#EVALUATE OUR PREDICTION\n",
    "from sklearn import metrics\n",
    "\n",
    "print('***RESULTS ON TEST SET***')\n",
    "print(\"F1_score: \",metrics.f1_score(y_test, y_pred))\n",
    "print(\"Accuracy\",metrics.accuracy_score(y_test, y_pred))\n",
    "print(\"Recall\",metrics.recall_score(y_test, y_pred))\n"
   ]
  },
  {
   "cell_type": "markdown",
   "metadata": {},
   "source": [
    "## Searching the best parameters"
   ]
  },
  {
   "cell_type": "markdown",
   "metadata": {},
   "source": [
    "#### DEFINE YOUR GRIDSEARCH \n",
    "\n",
    "GS perfoms an exhaustive search over specified parameter values for an estimator.\n",
    "GS uses a Stratified K-Folds cross-validator\n",
    "(The folds are made by preserving the percentage of samples for each class.)\n",
    "\n",
    "Some Parameters:\n",
    "\n",
    "- estimator : estimator object.\n",
    "- param_grid : dict or list of dictionaries\n",
    "\n",
    "- scoring : scoring parameter\n",
    "- n_jobs : Number of jobs to run in parallel. -1 means using all processors\n",
    "- cv : cross-validation generator (default 3-fold cross validation)\n",
    "- verbose : Controls the verbosity: the higher, the more messages.\n"
   ]
  },
  {
   "cell_type": "code",
   "execution_count": 17,
   "metadata": {},
   "outputs": [],
   "source": [
    "from sklearn.model_selection import GridSearchCV\n",
    "\n",
    "#Create KNN Classifier\n",
    "classifier = KNeighborsClassifier()\n",
    "parameters = {'n_neighbors':np.arange(1,40)}\n",
    "\n",
    "gs = GridSearchCV(classifier, parameters, cv=3, scoring = 'f1', verbose=90, n_jobs=-1)"
   ]
  },
  {
   "cell_type": "code",
   "execution_count": 18,
   "metadata": {},
   "outputs": [
    {
     "name": "stdout",
     "output_type": "stream",
     "text": [
      "Fitting 3 folds for each of 39 candidates, totalling 117 fits\n"
     ]
    }
   ],
   "source": [
    "#TRAIN YOUR CLASSIFIER\n",
    "gs = gs.fit(X_train, y_train)"
   ]
  },
  {
   "cell_type": "code",
   "execution_count": 19,
   "metadata": {},
   "outputs": [
    {
     "name": "stdout",
     "output_type": "stream",
     "text": [
      "Best score: 0.599885 using {'n_neighbors': 7}\n",
      "Mean 0.503441 Std (0.011175) with: {'n_neighbors': 1}\n",
      "Mean 0.416544 Std (0.032890) with: {'n_neighbors': 2}\n",
      "Mean 0.523167 Std (0.053226) with: {'n_neighbors': 3}\n",
      "Mean 0.477595 Std (0.068925) with: {'n_neighbors': 4}\n",
      "Mean 0.557810 Std (0.058966) with: {'n_neighbors': 5}\n",
      "Mean 0.549743 Std (0.041694) with: {'n_neighbors': 6}\n",
      "Mean 0.599885 Std (0.044016) with: {'n_neighbors': 7}\n",
      "Mean 0.562180 Std (0.027379) with: {'n_neighbors': 8}\n",
      "Mean 0.582689 Std (0.038996) with: {'n_neighbors': 9}\n",
      "Mean 0.528314 Std (0.049196) with: {'n_neighbors': 10}\n",
      "Mean 0.571196 Std (0.063104) with: {'n_neighbors': 11}\n",
      "Mean 0.533911 Std (0.072331) with: {'n_neighbors': 12}\n",
      "Mean 0.558187 Std (0.051875) with: {'n_neighbors': 13}\n",
      "Mean 0.513482 Std (0.083722) with: {'n_neighbors': 14}\n",
      "Mean 0.545210 Std (0.078716) with: {'n_neighbors': 15}\n",
      "Mean 0.512032 Std (0.082881) with: {'n_neighbors': 16}\n",
      "Mean 0.510927 Std (0.064095) with: {'n_neighbors': 17}\n",
      "Mean 0.484862 Std (0.079813) with: {'n_neighbors': 18}\n",
      "Mean 0.525498 Std (0.077377) with: {'n_neighbors': 19}\n",
      "Mean 0.517022 Std (0.084282) with: {'n_neighbors': 20}\n",
      "Mean 0.545702 Std (0.075043) with: {'n_neighbors': 21}\n",
      "Mean 0.515934 Std (0.070024) with: {'n_neighbors': 22}\n",
      "Mean 0.528547 Std (0.079005) with: {'n_neighbors': 23}\n",
      "Mean 0.494579 Std (0.065166) with: {'n_neighbors': 24}\n",
      "Mean 0.517428 Std (0.075943) with: {'n_neighbors': 25}\n",
      "Mean 0.470468 Std (0.058164) with: {'n_neighbors': 26}\n",
      "Mean 0.523060 Std (0.087023) with: {'n_neighbors': 27}\n",
      "Mean 0.481782 Std (0.093384) with: {'n_neighbors': 28}\n",
      "Mean 0.488921 Std (0.095318) with: {'n_neighbors': 29}\n",
      "Mean 0.484118 Std (0.092804) with: {'n_neighbors': 30}\n",
      "Mean 0.530937 Std (0.096494) with: {'n_neighbors': 31}\n",
      "Mean 0.513333 Std (0.098432) with: {'n_neighbors': 32}\n",
      "Mean 0.543572 Std (0.102238) with: {'n_neighbors': 33}\n",
      "Mean 0.502147 Std (0.093031) with: {'n_neighbors': 34}\n",
      "Mean 0.531402 Std (0.087418) with: {'n_neighbors': 35}\n",
      "Mean 0.518869 Std (0.077055) with: {'n_neighbors': 36}\n",
      "Mean 0.538623 Std (0.096113) with: {'n_neighbors': 37}\n",
      "Mean 0.519664 Std (0.080264) with: {'n_neighbors': 38}\n",
      "Mean 0.535761 Std (0.086005) with: {'n_neighbors': 39}\n"
     ]
    }
   ],
   "source": [
    "#summarize the results of your GRIDSEARCH\n",
    "print(\"Best score: %f using %s\" % (gs.best_score_, gs.best_params_))\n",
    "\n",
    "means = gs.cv_results_['mean_test_score']\n",
    "stds = gs.cv_results_['std_test_score']\n",
    "params = gs.cv_results_['params']\n",
    "for mean, stdev, param in zip(means, stds, params):\n",
    "    print(\"Mean %f Std (%f) with: %r\" % (mean, stdev, param))"
   ]
  },
  {
   "cell_type": "code",
   "execution_count": 20,
   "metadata": {},
   "outputs": [
    {
     "data": {
      "image/png": "[encoded data removed]",
      "text/plain": [
       "<Figure size 432x288 with 1 Axes>"
      ]
     },
     "metadata": {
      "needs_background": "light"
     },
     "output_type": "display_data"
    },
    {
     "name": "stdout",
     "output_type": "stream",
     "text": [
      "0.5998848467508062\n"
     ]
    }
   ],
   "source": [
    "import matplotlib.pyplot as plt\n",
    "\n",
    "plt.plot (means, color='blue', alpha=1.00)\n",
    "plt.show()\n",
    "\n",
    "print(gs.best_score_)"
   ]
  },
  {
   "cell_type": "code",
   "execution_count": 21,
   "metadata": {},
   "outputs": [],
   "source": [
    "#TEST ON YOUR TEST SET \n",
    "best_model = gs.best_estimator_\n",
    "\n",
    "y_pred_train = best_model.predict(X_train)\n",
    "y_pred = best_model.predict(X_test)"
   ]
  },
  {
   "cell_type": "code",
   "execution_count": 22,
   "metadata": {
    "scrolled": true
   },
   "outputs": [
    {
     "data": {
      "text/plain": [
       "array([0, 0, 0, 0, 0, 0, 0, 0, 0, 0, 1, 0, 1, 0, 1, 1, 0, 0, 0, 0, 1, 0,\n",
       "       1, 1, 1, 0, 0, 0, 1, 1, 0, 0, 0, 0, 0, 0, 0, 1, 1, 1, 0, 1, 0, 0,\n",
       "       1, 0, 0, 0, 0, 0, 0, 0, 1, 0, 1, 1, 0, 0, 0, 0, 1, 0, 0, 0, 1, 0,\n",
       "       1, 0, 0, 1, 0, 0, 1, 0, 1, 0, 0, 1, 0, 1, 1, 1, 0, 0, 1, 0, 0, 0,\n",
       "       0, 0, 0, 0, 0, 1, 0, 0, 0, 1, 0, 0, 0, 1, 1, 0, 1, 0, 0, 1, 1, 0,\n",
       "       0, 0, 0, 1, 1, 0, 0, 0, 1, 0, 1, 1, 0, 0, 0, 0, 0, 0, 0, 0, 0, 0,\n",
       "       0, 1, 0, 1, 0, 1, 1, 0, 0, 0, 1, 1, 0, 1, 0, 0, 1, 0, 1, 0, 0, 0,\n",
       "       1, 1, 0, 1, 0, 0, 0, 0, 0, 0, 1, 0, 0, 0, 1, 0, 1, 1, 0, 1, 0, 0,\n",
       "       1, 1, 0, 1, 1, 0, 0, 1, 0, 0, 1, 0, 0, 0, 1, 0, 0, 0, 0, 0, 0, 0,\n",
       "       0, 0, 0, 0, 0, 0, 0, 0, 1, 1, 0, 0, 1, 0, 0, 1, 1, 1, 0, 0, 0, 0,\n",
       "       0, 0, 1, 0, 0, 0, 0, 0, 0, 0, 0])"
      ]
     },
     "execution_count": 22,
     "metadata": {},
     "output_type": "execute_result"
    }
   ],
   "source": [
    "#This is your prediction on the TEST SET\n",
    "y_pred"
   ]
  },
  {
   "cell_type": "code",
   "execution_count": 23,
   "metadata": {},
   "outputs": [
    {
     "name": "stdout",
     "output_type": "stream",
     "text": [
      "***RESULTS ON TRAIN SET***\n",
      "precision:  0.7300613496932515\n",
      "recall:  0.6363636363636364\n",
      "f1_score:  0.6799999999999999\n",
      "accuracy:  0.7914338919925512\n"
     ]
    }
   ],
   "source": [
    "#EVALUATE YOUR PREDICTION IN THE TRAINING SET\n",
    "y_pred_train = best_model.predict(X_train)\n",
    "\n",
    "print('***RESULTS ON TRAIN SET***')\n",
    "print(\"precision: \", metrics.precision_score(y_train, y_pred_train)) # tp / (tp + fp)\n",
    "print(\"recall: \", metrics.recall_score(y_train, y_pred_train)) # tp / (tp + fn)\n",
    "print(\"f1_score: \", metrics.f1_score(y_train, y_pred_train)) #F1 = 2 * (precision * recall) / (precision + recall)\n",
    "print(\"accuracy: \", metrics.accuracy_score(y_train, y_pred_train)) # (tp+tn)/m"
   ]
  },
  {
   "cell_type": "code",
   "execution_count": 24,
   "metadata": {},
   "outputs": [
    {
     "name": "stdout",
     "output_type": "stream",
     "text": [
      "***RESULTS ON TEST SET***\n",
      "precision:  0.6388888888888888\n",
      "recall:  0.5679012345679012\n",
      "f1_score:  0.6013071895424836\n",
      "accuracy:  0.7359307359307359\n"
     ]
    }
   ],
   "source": [
    "#EVALUATE YOUR PREDICTION IN THE TEST SET\n",
    "from sklearn import metrics \n",
    "\n",
    "print('***RESULTS ON TEST SET***')\n",
    "print(\"precision: \", metrics.precision_score(y_test, y_pred)) # tp / (tp + fp)\n",
    "print(\"recall: \", metrics.recall_score(y_test, y_pred)) # tp / (tp + fn)\n",
    "print(\"f1_score: \", metrics.f1_score(y_test, y_pred)) #F1 = 2 * (precision * recall) / (precision + recall)\n",
    "print(\"accuracy: \", metrics.accuracy_score(y_test, y_pred)) # (tp+tn)/m"
   ]
  },
  {
   "cell_type": "code",
   "execution_count": 25,
   "metadata": {},
   "outputs": [
    {
     "name": "stdout",
     "output_type": "stream",
     "text": [
      "              precision    recall  f1-score   support\n",
      "\n",
      "           0       0.78      0.83      0.80       150\n",
      "           1       0.64      0.57      0.60        81\n",
      "\n",
      "    accuracy                           0.74       231\n",
      "   macro avg       0.71      0.70      0.70       231\n",
      "weighted avg       0.73      0.74      0.73       231\n",
      "\n"
     ]
    }
   ],
   "source": [
    "#PRINT SOME FURTHER METRICS\n",
    "from sklearn.metrics import classification_report\n",
    "print(classification_report(y_test, y_pred))"
   ]
  },
  {
   "cell_type": "code",
   "execution_count": 26,
   "metadata": {},
   "outputs": [
    {
     "name": "stdout",
     "output_type": "stream",
     "text": [
      "[[124  26]\n",
      " [ 35  46]]\n"
     ]
    }
   ],
   "source": [
    "from sklearn.metrics import confusion_matrix\n",
    "print(confusion_matrix(y_test, y_pred))"
   ]
  },
  {
   "cell_type": "code",
   "execution_count": 27,
   "metadata": {},
   "outputs": [
    {
     "data": {
      "image/png": "[encoded data removed]",
      "text/plain": [
       "<Figure size 432x288 with 2 Axes>"
      ]
     },
     "metadata": {
      "needs_background": "light"
     },
     "output_type": "display_data"
    }
   ],
   "source": [
    "# Plot normalized confusion matrix\n",
    "sns.heatmap(confusion_matrix(y_test, y_pred), annot=True, fmt='d', cmap=\"Blues\"); #annot=True to annotate cells fmt: format\n"
   ]
  },
  {
   "cell_type": "markdown",
   "metadata": {},
   "source": [
    "## ROC Curve"
   ]
  },
  {
   "cell_type": "markdown",
   "metadata": {},
   "source": [
    "![ROCcurve](roc_auc.png)"
   ]
  },
  {
   "cell_type": "code",
   "execution_count": 28,
   "metadata": {},
   "outputs": [
    {
     "data": {
      "image/png": "[encoded data removed]",
      "text/plain": [
       "<Figure size 432x288 with 1 Axes>"
      ]
     },
     "metadata": {
      "needs_background": "light"
     },
     "output_type": "display_data"
    },
    {
     "name": "stdout",
     "output_type": "stream",
     "text": [
      "AUC: 0.77\n"
     ]
    }
   ],
   "source": [
    "model = KNeighborsClassifier(n_neighbors=7)\n",
    "model.fit(X_train, y_train)\n",
    "y_pred = model.predict(X_test)\n",
    "\n",
    "y_probs = model.predict_proba(X_test) #predict_proba gives the probabilities for the target (0 and 1 in your case) \n",
    "\n",
    "fpr, tpr, thresholds=metrics.roc_curve(y_test,  y_probs[:,1])\n",
    "\n",
    "import matplotlib.pyplot as plt\n",
    "plt.plot(fpr, tpr, label='ROC')\n",
    "plt.plot([0, 1], [0, 1], color='darkblue', linestyle='--')\n",
    "plt.xlabel('False Positive Rate')\n",
    "plt.ylabel('True Positive Rate')\n",
    "plt.title('Receiver Operating Characteristic (ROC) Curve')\n",
    "plt.legend()\n",
    "plt.show()\n",
    "\n",
    "auc = metrics.roc_auc_score(y_test, y_probs[:,1])\n",
    "print('AUC: %.2f' % auc)"
   ]
  },
  {
   "cell_type": "markdown",
   "metadata": {},
   "source": [
    "### Train test curve"
   ]
  },
  {
   "cell_type": "markdown",
   "metadata": {},
   "source": [
    "![TrainTestCurve](under_overfit.png)"
   ]
  },
  {
   "cell_type": "code",
   "execution_count": 29,
   "metadata": {},
   "outputs": [
    {
     "data": {
      "image/png": "[encoded data removed]",
      "text/plain": [
       "<Figure size 432x288 with 1 Axes>"
      ]
     },
     "metadata": {
      "needs_background": "light"
     },
     "output_type": "display_data"
    }
   ],
   "source": [
    "score_train=[]\n",
    "score_test=[]\n",
    "\n",
    "neighbors=range(1,180,7)\n",
    "\n",
    "for i in neighbors:\n",
    "    knn = KNeighborsClassifier(n_neighbors=i)\n",
    "    knn.fit(X_train,y_train)\n",
    "    y_pred_train = knn.predict(X_train)\n",
    "    y_pred_test = knn.predict(X_test)\n",
    "    score_train.append( metrics.f1_score(y_train, y_pred_train))\n",
    "    score_test.append( metrics.f1_score(y_test, y_pred_test))\n",
    "\n",
    "plt.xlabel('Neighbors')\n",
    "plt.ylabel('F1')\n",
    "plt.plot (neighbors,score_train, color='blue', alpha=1.00)\n",
    "plt.plot (neighbors,score_test, color='red', alpha=1.00)\n",
    "\n",
    "plt.show()"
   ]
  },
  {
   "cell_type": "code",
   "execution_count": 30,
   "metadata": {},
   "outputs": [
    {
     "data": {
      "image/png": "[encoded data removed]",
      "text/plain": [
       "<Figure size 432x288 with 1 Axes>"
      ]
     },
     "metadata": {
      "needs_background": "light"
     },
     "output_type": "display_data"
    }
   ],
   "source": [
    "plt.plot (neighbors,score_train, color='blue', alpha=1.00)\n",
    "plt.plot (neighbors,score_test, color='red', alpha=1.00)\n",
    "plt.xlabel('Neighbors (increasing complexity)')\n",
    "plt.ylabel('F1 (error)')\n",
    "plt.xlim(175,0)\n",
    "plt.ylim(1,-0.05)\n",
    "\n",
    "plt.show()"
   ]
  },
  {
   "cell_type": "code",
   "execution_count": 31,
   "metadata": {},
   "outputs": [
    {
     "data": {
      "text/html": [
       "<img src=\"http://web.cse.ohio-state.edu/~stiff.4/cse3521/images/effect-of-k.png\"/>"
      ],
      "text/plain": [
       "<IPython.core.display.Image object>"
      ]
     },
     "execution_count": 31,
     "metadata": {},
     "output_type": "execute_result"
    }
   ],
   "source": [
    "from IPython.display import Image\n",
    "from IPython.core.display import HTML \n",
    "Image(url= \"http://web.cse.ohio-state.edu/~stiff.4/cse3521/images/effect-of-k.png\")"
   ]
  },
  {
   "cell_type": "code",
   "execution_count": 32,
   "metadata": {},
   "outputs": [
    {
     "data": {
      "text/plain": [
       "KNeighborsClassifier(n_neighbors=90)"
      ]
     },
     "execution_count": 32,
     "metadata": {},
     "output_type": "execute_result"
    }
   ],
   "source": [
    "model = KNeighborsClassifier(n_neighbors=90)\n",
    "model.fit(X_train, y_train)\n"
   ]
  },
  {
   "cell_type": "code",
   "execution_count": 33,
   "metadata": {},
   "outputs": [
    {
     "name": "stdout",
     "output_type": "stream",
     "text": [
      "***RESULTS ON TRAIN SET***\n",
      "precision:  0.7676767676767676\n",
      "recall:  0.40641711229946526\n",
      "f1_score:  0.5314685314685315\n",
      "accuracy:  0.750465549348231\n",
      "---\n",
      "***RESULTS ON TEST SET***\n",
      "precision:  0.6888888888888889\n",
      "recall:  0.38271604938271603\n",
      "f1_score:  0.49206349206349204\n",
      "accuracy:  0.7229437229437229\n"
     ]
    }
   ],
   "source": [
    "#EVALUATE YOUR PREDICTION\n",
    "y_pred_train = model.predict(X_train)\n",
    "y_pred = model.predict(X_test)\n",
    "\n",
    "print('***RESULTS ON TRAIN SET***')\n",
    "print(\"precision: \", metrics.precision_score(y_train, y_pred_train)) # tp / (tp + fp)\n",
    "print(\"recall: \", metrics.recall_score(y_train, y_pred_train)) # tp / (tp + fn)\n",
    "print(\"f1_score: \", metrics.f1_score(y_train, y_pred_train)) #F1 = 2 * (precision * recall) / (precision + recall)\n",
    "print(\"accuracy: \", metrics.accuracy_score(y_train, y_pred_train)) # (tp+tn)/m\n",
    "print(\"---\")\n",
    "print('***RESULTS ON TEST SET***')\n",
    "print(\"precision: \", metrics.precision_score(y_test, y_pred)) # tp / (tp + fp)\n",
    "print(\"recall: \", metrics.recall_score(y_test, y_pred)) # tp / (tp + fn)\n",
    "print(\"f1_score: \", metrics.f1_score(y_test, y_pred)) #F1 = 2 * (precision * recall) / (precision + recall)\n",
    "print(\"accuracy: \", metrics.accuracy_score(y_test, y_pred)) # (tp+tn)/m\n"
   ]
  },
  {
   "cell_type": "code",
   "execution_count": 34,
   "metadata": {},
   "outputs": [
    {
     "data": {
      "image/png": "[encoded data removed]",
      "text/plain": [
       "<Figure size 432x288 with 2 Axes>"
      ]
     },
     "metadata": {
      "needs_background": "light"
     },
     "output_type": "display_data"
    }
   ],
   "source": [
    "sns.heatmap(confusion_matrix(y_test, y_pred), annot=True, fmt='d', cmap=\"Reds\"); #annot=True to annotate cells fmt: format"
   ]
  },
  {
   "cell_type": "code",
   "execution_count": 35,
   "metadata": {},
   "outputs": [
    {
     "data": {
      "image/png": "[encoded data removed]",
      "text/plain": [
       "<Figure size 432x288 with 1 Axes>"
      ]
     },
     "metadata": {
      "needs_background": "light"
     },
     "output_type": "display_data"
    },
    {
     "name": "stdout",
     "output_type": "stream",
     "text": [
      "AUC: 0.78\n"
     ]
    }
   ],
   "source": [
    "y_probs = model.predict_proba(X_test) #predict_proba gives the probabilities for the target (0 and 1 in your case) \n",
    "\n",
    "fpr, tpr, thresholds=metrics.roc_curve(y_test,  y_probs[:,1])\n",
    "\n",
    "import matplotlib.pyplot as plt\n",
    "plt.plot(fpr, tpr, label='ROC')\n",
    "plt.plot([0, 1], [0, 1], color='darkblue', linestyle='--')\n",
    "plt.xlabel('False Positive Rate')\n",
    "plt.ylabel('True Positive Rate')\n",
    "plt.title('Receiver Operating Characteristic (ROC) Curve')\n",
    "plt.legend()\n",
    "plt.show()\n",
    "\n",
    "auc = metrics.roc_auc_score(y_test, y_probs[:,1])\n",
    "print('AUC: %.2f' % auc)"
   ]
  },
  {
   "cell_type": "markdown",
   "metadata": {},
   "source": [
    "## Scaling"
   ]
  },
  {
   "cell_type": "code",
   "execution_count": 36,
   "metadata": {},
   "outputs": [
    {
     "data": {
      "text/plain": [
       "<AxesSubplot:>"
      ]
     },
     "execution_count": 36,
     "metadata": {},
     "output_type": "execute_result"
    },
    {
     "data": {
      "image/png": "[encoded data removed]",
      "text/plain": [
       "<Figure size 432x288 with 1 Axes>"
      ]
     },
     "metadata": {
      "needs_background": "light"
     },
     "output_type": "display_data"
    }
   ],
   "source": [
    "# Scale data\n",
    "from sklearn.preprocessing import StandardScaler\n",
    "scaler = StandardScaler().fit(X)\n",
    "\n",
    "# We compute the scaler\n",
    "scaled_data = scaler.transform(X.astype(float))\n",
    "scaled_X = pd.DataFrame(scaled_data.astype(float))\n",
    "scaled_X.columns = X.columns\n",
    "\n",
    "# We apply the same scaler to the data \n",
    "scaled_data = scaler.transform(X_train.astype(float))\n",
    "scaled_X_train = pd.DataFrame(scaled_data.astype(float))\n",
    "scaled_X_train.columns = X_train.columns\n",
    "\n",
    "scaled_data = scaler.transform(X_test.astype(float))\n",
    "scaled_X_test = pd.DataFrame(scaled_data.astype(float))\n",
    "scaled_X_test.columns = X_test.columns\n",
    "\n",
    "scaled_X.boxplot()"
   ]
  },
  {
   "cell_type": "code",
   "execution_count": 37,
   "metadata": {},
   "outputs": [
    {
     "name": "stdout",
     "output_type": "stream",
     "text": [
      "Fitting 3 folds for each of 140 candidates, totalling 420 fits\n",
      "[CV 3/3; 1/39] START n_neighbors=1..............................................\n",
      "[CV 3/3; 1/39] END ...............n_neighbors=1;, score=0.492 total time=   0.0s\n",
      "[CV 2/3; 2/39] START n_neighbors=2..............................................\n",
      "[CV 2/3; 2/39] END ...............n_neighbors=2;, score=0.384 total time=   0.0s\n",
      "[CV 3/3; 2/39] START n_neighbors=2..............................................\n",
      "[CV 3/3; 2/39] END ...............n_neighbors=2;, score=0.404 total time=   0.0s\n",
      "[CV 1/3; 3/39] START n_neighbors=3..............................................\n",
      "[CV 1/3; 3/39] END ...............n_neighbors=3;, score=0.597 total time=   0.0s\n",
      "[CV 3/3; 3/39] START n_neighbors=3..............................................\n",
      "[CV 3/3; 3/39] END ...............n_neighbors=3;, score=0.473 total time=   0.0s\n",
      "[CV 2/3; 4/39] START n_neighbors=4..............................................\n",
      "[CV 2/3; 4/39] END ...............n_neighbors=4;, score=0.481 total time=   0.0s\n",
      "[CV 2/3; 5/39] START n_neighbors=5..............................................\n",
      "[CV 2/3; 5/39] END ...............n_neighbors=5;, score=0.529 total time=   0.0s\n",
      "[CV 1/3; 6/39] START n_neighbors=6..............................................\n",
      "[CV 1/3; 6/39] END ...............n_neighbors=6;, score=0.606 total time=   0.0s\n",
      "[CV 1/3; 7/39] START n_neighbors=7..............................................\n",
      "[CV 1/3; 7/39] END ...............n_neighbors=7;, score=0.639 total time=   0.0s\n",
      "[CV 1/3; 8/39] START n_neighbors=8..............................................\n",
      "[CV 1/3; 8/39] END ...............n_neighbors=8;, score=0.550 total time=   0.0s\n",
      "[CV 2/3; 9/39] START n_neighbors=9..............................................\n",
      "[CV 2/3; 9/39] END ...............n_neighbors=9;, score=0.633 total time=   0.0s\n",
      "[CV 1/3; 11/39] START n_neighbors=11............................................\n",
      "[CV 1/3; 11/39] END .............n_neighbors=11;, score=0.569 total time=   0.0s\n",
      "[CV 2/3; 11/39] START n_neighbors=11............................................\n",
      "[CV 2/3; 11/39] END .............n_neighbors=11;, score=0.650 total time=   0.0s\n",
      "[CV 1/3; 13/39] START n_neighbors=13............................................\n",
      "[CV 1/3; 13/39] END .............n_neighbors=13;, score=0.593 total time=   0.0s\n",
      "[CV 2/3; 13/39] START n_neighbors=13............................................\n",
      "[CV 2/3; 13/39] END .............n_neighbors=13;, score=0.596 total time=   0.0s\n",
      "[CV 2/3; 18/39] START n_neighbors=18............................................\n",
      "[CV 2/3; 18/39] END .............n_neighbors=18;, score=0.537 total time=   0.0s\n",
      "[CV 3/3; 18/39] START n_neighbors=18............................................\n",
      "[CV 3/3; 18/39] END .............n_neighbors=18;, score=0.372 total time=   0.0s\n",
      "[CV 1/3; 19/39] START n_neighbors=19............................................\n",
      "[CV 1/3; 19/39] END .............n_neighbors=19;, score=0.624 total time=   0.0s\n",
      "[CV 2/3; 19/39] START n_neighbors=19............................................\n",
      "[CV 2/3; 19/39] END .............n_neighbors=19;, score=0.518 total time=   0.0s\n",
      "[CV 2/3; 22/39] START n_neighbors=22............................................\n",
      "[CV 2/3; 22/39] END .............n_neighbors=22;, score=0.519 total time=   0.0s\n",
      "[CV 3/3; 22/39] START n_neighbors=22............................................\n",
      "[CV 3/3; 22/39] END .............n_neighbors=22;, score=0.429 total time=   0.0s\n",
      "[CV 1/3; 23/39] START n_neighbors=23............................................\n",
      "[CV 1/3; 23/39] END .............n_neighbors=23;, score=0.630 total time=   0.0s\n",
      "[CV 2/3; 23/39] START n_neighbors=23............................................\n",
      "[CV 2/3; 23/39] END .............n_neighbors=23;, score=0.519 total time=   0.0s\n",
      "[CV 1/3; 29/39] START n_neighbors=29............................................\n",
      "[CV 1/3; 29/39] END .............n_neighbors=29;, score=0.610 total time=   0.0s\n",
      "[CV 2/3; 29/39] START n_neighbors=29............................................\n",
      "[CV 2/3; 29/39] END .............n_neighbors=29;, score=0.481 total time=   0.0s\n",
      "[CV 3/3; 29/39] START n_neighbors=29............................................\n",
      "[CV 3/3; 29/39] END .............n_neighbors=29;, score=0.376 total time=   0.0s\n",
      "[CV 1/3; 30/39] START n_neighbors=30............................................\n",
      "[CV 1/3; 30/39] END .............n_neighbors=30;, score=0.586 total time=   0.0s\n",
      "[CV 2/3; 30/39] START n_neighbors=30............................................\n",
      "[CV 2/3; 30/39] END .............n_neighbors=30;, score=0.505 total time=   0.0s\n",
      "[CV 3/3; 30/39] START n_neighbors=30............................................\n",
      "[CV 3/3; 30/39] END .............n_neighbors=30;, score=0.361 total time=   0.0s\n",
      "[CV 1/3; 31/39] START n_neighbors=31............................................\n",
      "[CV 1/3; 31/39] END .............n_neighbors=31;, score=0.654 total time=   0.0s\n",
      "[CV 2/3; 31/39] START n_neighbors=31............................................\n",
      "[CV 2/3; 31/39] END .............n_neighbors=31;, score=0.520 total time=   0.0s\n",
      "[CV 2/3; 37/39] START n_neighbors=37............................................\n",
      "[CV 2/3; 37/39] END .............n_neighbors=37;, score=0.554 total time=   0.0s\n",
      "[CV 1/3; 38/39] START n_neighbors=38............................................\n",
      "[CV 1/3; 38/39] END .............n_neighbors=38;, score=0.620 total time=   0.0s\n",
      "[CV 3/3; 38/39] START n_neighbors=38............................................\n",
      "[CV 3/3; 38/39] END .............n_neighbors=38;, score=0.424 total time=   0.0s\n",
      "[CV 3/3; 39/39] START n_neighbors=39............................................\n",
      "[CV 3/3; 39/39] END .............n_neighbors=39;, score=0.419 total time=   0.0s\n",
      "[CV 3/3; 1/140] START n_neighbors=10............................................\n",
      "[CV 3/3; 1/140] END .............n_neighbors=10;, score=0.372 total time=   0.0s\n",
      "[CV 3/3; 2/140] START n_neighbors=11............................................\n",
      "[CV 3/3; 2/140] END .............n_neighbors=11;, score=0.396 total time=   0.0s\n",
      "[CV 2/3; 4/140] START n_neighbors=13............................................\n",
      "[CV 2/3; 4/140] END .............n_neighbors=13;, score=0.527 total time=   0.0s\n",
      "[CV 3/3; 4/140] START n_neighbors=13............................................\n",
      "[CV 3/3; 4/140] END .............n_neighbors=13;, score=0.427 total time=   0.0s\n",
      "[CV 1/3; 7/140] START n_neighbors=16............................................\n",
      "[CV 1/3; 7/140] END .............n_neighbors=16;, score=0.626 total time=   0.0s\n",
      "[CV 2/3; 7/140] START n_neighbors=16............................................\n",
      "[CV 2/3; 7/140] END .............n_neighbors=16;, score=0.495 total time=   0.0s\n",
      "[CV 2/3; 10/140] START n_neighbors=19...........................................\n",
      "[CV 2/3; 10/140] END ............n_neighbors=19;, score=0.524 total time=   0.0s\n",
      "[CV 3/3; 10/140] START n_neighbors=19...........................................\n",
      "[CV 3/3; 10/140] END ............n_neighbors=19;, score=0.432 total time=   0.0s\n",
      "[CV 1/3; 11/140] START n_neighbors=20...........................................\n",
      "[CV 1/3; 11/140] END ............n_neighbors=20;, score=0.620 total time=   0.0s\n",
      "[CV 2/3; 11/140] START n_neighbors=20...........................................\n",
      "[CV 2/3; 11/140] END ............n_neighbors=20;, score=0.465 total time=   0.0s\n",
      "[CV 1/3; 17/140] START n_neighbors=26...........................................\n",
      "[CV 1/3; 17/140] END ............n_neighbors=26;, score=0.557 total time=   0.0s\n",
      "[CV 2/3; 17/140] START n_neighbors=26...........................................\n",
      "[CV 2/3; 17/140] END ............n_neighbors=26;, score=0.409 total time=   0.0s\n",
      "[CV 3/3; 17/140] START n_neighbors=26...........................................\n",
      "[CV 3/3; 17/140] END ............n_neighbors=26;, score=0.447 total time=   0.0s\n",
      "[CV 1/3; 18/140] START n_neighbors=27...........................................\n",
      "[CV 1/3; 18/140] END ............n_neighbors=27;, score=0.614 total time=   0.0s\n",
      "[CV 1/3; 25/140] START n_neighbors=34...........................................\n",
      "[CV 1/3; 25/140] END ............n_neighbors=34;, score=0.553 total time=   0.0s\n",
      "[CV 2/3; 25/140] START n_neighbors=34...........................................\n",
      "[CV 2/3; 1/39] START n_neighbors=1..............................................\n",
      "[CV 2/3; 1/39] END ...............n_neighbors=1;, score=0.519 total time=   0.0s\n",
      "[CV 2/3; 3/39] START n_neighbors=3..............................................\n",
      "[CV 2/3; 3/39] END ...............n_neighbors=3;, score=0.500 total time=   0.0s\n",
      "[CV 1/3; 4/39] START n_neighbors=4..............................................\n",
      "[CV 1/3; 4/39] END ...............n_neighbors=4;, score=0.560 total time=   0.0s\n",
      "[CV 1/3; 5/39] START n_neighbors=5..............................................\n",
      "[CV 1/3; 5/39] END ...............n_neighbors=5;, score=0.640 total time=   0.0s\n",
      "[CV 2/3; 6/39] START n_neighbors=6..............................................\n",
      "[CV 2/3; 6/39] END ...............n_neighbors=6;, score=0.538 total time=   0.0s\n",
      "[CV 2/3; 7/39] START n_neighbors=7..............................................\n",
      "[CV 2/3; 7/39] END ...............n_neighbors=7;, score=0.622 total time=   0.0s\n",
      "[CV 2/3; 8/39] START n_neighbors=8..............................................\n",
      "[CV 2/3; 8/39] END ...............n_neighbors=8;, score=0.600 total time=   0.0s\n",
      "[CV 3/3; 9/39] START n_neighbors=9..............................................\n",
      "[CV 3/3; 9/39] END ...............n_neighbors=9;, score=0.538 total time=   0.0s\n",
      "[CV 3/3; 11/39] START n_neighbors=11............................................\n",
      "[CV 3/3; 11/39] END .............n_neighbors=11;, score=0.495 total time=   0.0s\n",
      "[CV 1/3; 12/39] START n_neighbors=12............................................\n",
      "[CV 1/3; 12/39] END .............n_neighbors=12;, score=0.579 total time=   0.0s\n",
      "[CV 2/3; 14/39] START n_neighbors=14............................................\n",
      "[CV 2/3; 14/39] END .............n_neighbors=14;, score=0.579 total time=   0.0s\n",
      "[CV 3/3; 14/39] START n_neighbors=14............................................\n",
      "[CV 3/3; 14/39] END .............n_neighbors=14;, score=0.395 total time=   0.0s\n",
      "[CV 3/3; 19/39] START n_neighbors=19............................................\n",
      "[CV 3/3; 19/39] END .............n_neighbors=19;, score=0.435 total time=   0.0s\n",
      "[CV 1/3; 20/39] START n_neighbors=20............................................\n",
      "[CV 1/3; 20/39] END .............n_neighbors=20;, score=0.608 total time=   0.0s\n",
      "[CV 2/3; 20/39] START n_neighbors=20............................................\n",
      "[CV 2/3; 20/39] END .............n_neighbors=20;, score=0.538 total time=   0.0s\n",
      "[CV 3/3; 20/39] START n_neighbors=20............................................\n",
      "[CV 3/3; 20/39] END .............n_neighbors=20;, score=0.405 total time=   0.0s\n",
      "[CV 1/3; 25/39] START n_neighbors=25............................................\n",
      "[CV 1/3; 25/39] END .............n_neighbors=25;, score=0.610 total time=   0.0s\n",
      "[CV 2/3; 25/39] START n_neighbors=25............................................\n",
      "[CV 2/3; 25/39] END .............n_neighbors=25;, score=0.519 total time=   0.0s\n",
      "[CV 3/3; 25/39] START n_neighbors=25............................................\n",
      "[CV 3/3; 25/39] END .............n_neighbors=25;, score=0.424 total time=   0.0s\n",
      "[CV 1/3; 26/39] START n_neighbors=26............................................\n",
      "[CV 1/3; 26/39] END .............n_neighbors=26;, score=0.526 total time=   0.0s\n",
      "[CV 2/3; 34/39] START n_neighbors=34............................................\n",
      "[CV 2/3; 34/39] END .............n_neighbors=34;, score=0.474 total time=   0.0s\n",
      "[CV 3/3; 34/39] START n_neighbors=34............................................\n",
      "[CV 3/3; 34/39] END .............n_neighbors=34;, score=0.405 total time=   0.0s\n",
      "[CV 1/3; 35/39] START n_neighbors=35............................................\n",
      "[CV 1/3; 35/39] END .............n_neighbors=35;, score=0.648 total time=   0.0s\n",
      "[CV 2/3; 35/39] START n_neighbors=35............................................\n",
      "[CV 2/3; 35/39] END .............n_neighbors=35;, score=0.510 total time=   0.0s\n",
      "[CV 3/3; 35/39] START n_neighbors=35............................................\n",
      "[CV 3/3; 35/39] END .............n_neighbors=35;, score=0.437 total time=   0.0s\n",
      "[CV 1/3; 36/39] START n_neighbors=36............................................\n",
      "[CV 1/3; 36/39] END .............n_neighbors=36;, score=0.612 total time=   0.0s\n",
      "[CV 2/3; 36/39] START n_neighbors=36............................................\n",
      "[CV 2/3; 36/39] END .............n_neighbors=36;, score=0.521 total time=   0.0s\n",
      "[CV 3/3; 36/39] START n_neighbors=36............................................\n",
      "[CV 3/3; 36/39] END .............n_neighbors=36;, score=0.424 total time=   0.0s\n",
      "[CV 1/3; 39/39] START n_neighbors=39............................................\n",
      "[CV 1/3; 39/39] END .............n_neighbors=39;, score=0.623 total time=   0.0s\n",
      "[CV 1/3; 1/140] START n_neighbors=10............................................\n",
      "[CV 1/3; 1/140] END .............n_neighbors=10;, score=0.529 total time=   0.0s\n",
      "[CV 1/3; 3/140] START n_neighbors=12............................................\n",
      "[CV 1/3; 3/140] END .............n_neighbors=12;, score=0.547 total time=   0.0s\n",
      "[CV 1/3; 5/140] START n_neighbors=14............................................\n",
      "[CV 1/3; 5/140] END .............n_neighbors=14;, score=0.602 total time=   0.0s\n",
      "[CV 2/3; 5/140] START n_neighbors=14............................................\n",
      "[CV 2/3; 5/140] END .............n_neighbors=14;, score=0.475 total time=   0.0s\n",
      "[CV 3/3; 7/140] START n_neighbors=16............................................\n",
      "[CV 3/3; 7/140] END .............n_neighbors=16;, score=0.419 total time=   0.0s\n",
      "[CV 1/3; 8/140] START n_neighbors=17............................................\n",
      "[CV 1/3; 8/140] END .............n_neighbors=17;, score=0.702 total time=   0.0s\n",
      "[CV 3/3; 11/140] START n_neighbors=20...........................................\n",
      "[CV 3/3; 11/140] END ............n_neighbors=20;, score=0.386 total time=   0.0s\n",
      "[CV 1/3; 12/140] START n_neighbors=21...........................................\n",
      "[CV 1/3; 12/140] END ............n_neighbors=21;, score=0.660 total time=   0.0s\n",
      "[CV 2/3; 12/140] START n_neighbors=21...........................................\n",
      "[CV 2/3; 12/140] END ............n_neighbors=21;, score=0.519 total time=   0.0s\n",
      "[CV 3/3; 12/140] START n_neighbors=21...........................................\n",
      "[CV 3/3; 12/140] END ............n_neighbors=21;, score=0.437 total time=   0.0s\n",
      "[CV 3/3; 15/140] START n_neighbors=24...........................................\n",
      "[CV 3/3; 15/140] END ............n_neighbors=24;, score=0.410 total time=   0.0s\n",
      "[CV 1/3; 16/140] START n_neighbors=25...........................................\n",
      "[CV 1/3; 16/140] END ............n_neighbors=25;, score=0.615 total time=   0.0s\n",
      "[CV 2/3; 16/140] START n_neighbors=25...........................................\n",
      "[CV 2/3; 16/140] END ............n_neighbors=25;, score=0.480 total time=   0.0s\n",
      "[CV 3/3; 16/140] START n_neighbors=25...........................................\n",
      "[CV 3/3; 16/140] END ............n_neighbors=25;, score=0.447 total time=   0.0s\n",
      "[CV 2/3; 22/140] START n_neighbors=31...........................................\n",
      "[CV 2/3; 22/140] END ............n_neighbors=31;, score=0.510 total time=   0.0s\n",
      "[CV 3/3; 22/140] START n_neighbors=31...........................................\n",
      "[CV 3/3; 22/140] END ............n_neighbors=31;, score=0.429 total time=   0.0s\n",
      "[CV 1/3; 23/140] START n_neighbors=32...........................................\n",
      "[CV 1/3; 23/140] END ............n_neighbors=32;, score=0.547 total time=   0.0s\n",
      "[CV 2/3; 23/140] START n_neighbors=32...........................................\n",
      "[CV 2/3; 23/140] END ............n_neighbors=32;, score=0.479 total time=   0.0s\n",
      "[CV 3/3; 23/140] START n_neighbors=32...........................................\n",
      "[CV 3/3; 23/140] END ............n_neighbors=32;, score=0.390 total time=   0.0s\n",
      "[CV 1/3; 24/140] START n_neighbors=33...........................................\n",
      "[CV 1/3; 24/140] END ............n_neighbors=33;, score=0.586 total time=   0.0s\n",
      "[CV 2/3; 24/140] START n_neighbors=33...........................................\n",
      "[CV 2/3; 24/140] END ............n_neighbors=33;, score=0.485 total time=   0.0s\n",
      "[CV 3/3; 24/140] START n_neighbors=33...........................................\n"
     ]
    },
    {
     "name": "stdout",
     "output_type": "stream",
     "text": [
      "[CV 1/3; 2/39] START n_neighbors=2..............................................\n",
      "[CV 1/3; 2/39] END ...............n_neighbors=2;, score=0.462 total time=   0.0s\n",
      "[CV 1/3; 9/39] START n_neighbors=9..............................................\n",
      "[CV 1/3; 9/39] END ...............n_neighbors=9;, score=0.576 total time=   0.0s\n",
      "[CV 2/3; 10/39] START n_neighbors=10............................................\n",
      "[CV 2/3; 10/39] END .............n_neighbors=10;, score=0.593 total time=   0.0s\n",
      "[CV 3/3; 10/39] START n_neighbors=10............................................\n",
      "[CV 3/3; 10/39] END .............n_neighbors=10;, score=0.473 total time=   0.0s\n",
      "[CV 3/3; 13/39] START n_neighbors=13............................................\n",
      "[CV 3/3; 13/39] END .............n_neighbors=13;, score=0.485 total time=   0.0s\n",
      "[CV 1/3; 14/39] START n_neighbors=14............................................\n",
      "[CV 1/3; 14/39] END .............n_neighbors=14;, score=0.566 total time=   0.0s\n",
      "[CV 3/3; 15/39] START n_neighbors=15............................................\n",
      "[CV 3/3; 15/39] END .............n_neighbors=15;, score=0.435 total time=   0.0s\n",
      "[CV 1/3; 16/39] START n_neighbors=16............................................\n",
      "[CV 1/3; 16/39] END .............n_neighbors=16;, score=0.580 total time=   0.0s\n",
      "[CV 2/3; 16/39] START n_neighbors=16............................................\n",
      "[CV 2/3; 16/39] END .............n_neighbors=16;, score=0.561 total time=   0.0s\n",
      "[CV 3/3; 16/39] START n_neighbors=16............................................\n",
      "[CV 3/3; 16/39] END .............n_neighbors=16;, score=0.395 total time=   0.0s\n",
      "[CV 1/3; 21/39] START n_neighbors=21............................................\n",
      "[CV 1/3; 21/39] END .............n_neighbors=21;, score=0.624 total time=   0.0s\n",
      "[CV 2/3; 21/39] START n_neighbors=21............................................\n",
      "[CV 2/3; 21/39] END .............n_neighbors=21;, score=0.569 total time=   0.0s\n",
      "[CV 3/3; 21/39] START n_neighbors=21............................................\n",
      "[CV 3/3; 21/39] END .............n_neighbors=21;, score=0.444 total time=   0.0s\n",
      "[CV 1/3; 22/39] START n_neighbors=22............................................\n",
      "[CV 1/3; 22/39] END .............n_neighbors=22;, score=0.600 total time=   0.0s\n",
      "[CV 2/3; 26/39] START n_neighbors=26............................................\n",
      "[CV 2/3; 26/39] END .............n_neighbors=26;, score=0.495 total time=   0.0s\n",
      "[CV 3/3; 26/39] START n_neighbors=26............................................\n",
      "[CV 3/3; 26/39] END .............n_neighbors=26;, score=0.390 total time=   0.0s\n",
      "[CV 1/3; 27/39] START n_neighbors=27............................................\n",
      "[CV 1/3; 27/39] END .............n_neighbors=27;, score=0.642 total time=   0.0s\n",
      "[CV 2/3; 27/39] START n_neighbors=27............................................\n",
      "[CV 2/3; 27/39] END .............n_neighbors=27;, score=0.490 total time=   0.0s\n",
      "[CV 3/3; 27/39] START n_neighbors=27............................................\n",
      "[CV 3/3; 27/39] END .............n_neighbors=27;, score=0.437 total time=   0.0s\n",
      "[CV 1/3; 28/39] START n_neighbors=28............................................\n",
      "[CV 1/3; 28/39] END .............n_neighbors=28;, score=0.606 total time=   0.0s\n",
      "[CV 2/3; 28/39] START n_neighbors=28............................................\n",
      "[CV 2/3; 28/39] END .............n_neighbors=28;, score=0.458 total time=   0.0s\n",
      "[CV 3/3; 28/39] START n_neighbors=28............................................\n",
      "[CV 3/3; 28/39] END .............n_neighbors=28;, score=0.381 total time=   0.0s\n",
      "[CV 1/3; 37/39] START n_neighbors=37............................................\n",
      "[CV 1/3; 37/39] END .............n_neighbors=37;, score=0.648 total time=   0.0s\n",
      "[CV 3/3; 37/39] START n_neighbors=37............................................\n",
      "[CV 3/3; 37/39] END .............n_neighbors=37;, score=0.414 total time=   0.0s\n",
      "[CV 2/3; 38/39] START n_neighbors=38............................................\n",
      "[CV 2/3; 38/39] END .............n_neighbors=38;, score=0.515 total time=   0.0s\n",
      "[CV 2/3; 39/39] START n_neighbors=39............................................\n",
      "[CV 2/3; 39/39] END .............n_neighbors=39;, score=0.566 total time=   0.0s\n",
      "[CV 2/3; 1/140] START n_neighbors=10............................................\n",
      "[CV 2/3; 1/140] END .............n_neighbors=10;, score=0.505 total time=   0.0s\n",
      "[CV 2/3; 3/140] START n_neighbors=12............................................\n",
      "[CV 2/3; 3/140] END .............n_neighbors=12;, score=0.485 total time=   0.0s\n",
      "[CV 3/3; 5/140] START n_neighbors=14............................................\n",
      "[CV 3/3; 5/140] END .............n_neighbors=14;, score=0.419 total time=   0.0s\n",
      "[CV 1/3; 6/140] START n_neighbors=15............................................\n",
      "[CV 1/3; 6/140] END .............n_neighbors=15;, score=0.690 total time=   0.0s\n",
      "[CV 2/3; 8/140] START n_neighbors=17............................................\n",
      "[CV 2/3; 8/140] END .............n_neighbors=17;, score=0.509 total time=   0.0s\n",
      "[CV 3/3; 8/140] START n_neighbors=17............................................\n",
      "[CV 3/3; 8/140] END .............n_neighbors=17;, score=0.422 total time=   0.0s\n",
      "[CV 1/3; 13/140] START n_neighbors=22...........................................\n",
      "[CV 1/3; 13/140] END ............n_neighbors=22;, score=0.592 total time=   0.0s\n",
      "[CV 2/3; 13/140] START n_neighbors=22...........................................\n",
      "[CV 2/3; 13/140] END ............n_neighbors=22;, score=0.458 total time=   0.0s\n",
      "[CV 3/3; 13/140] START n_neighbors=22...........................................\n",
      "[CV 3/3; 13/140] END ............n_neighbors=22;, score=0.390 total time=   0.0s\n",
      "[CV 1/3; 14/140] START n_neighbors=23...........................................\n",
      "[CV 1/3; 14/140] END ............n_neighbors=23;, score=0.635 total time=   0.0s\n",
      "[CV 2/3; 18/140] START n_neighbors=27...........................................\n",
      "[CV 2/3; 18/140] END ............n_neighbors=27;, score=0.485 total time=   0.0s\n",
      "[CV 3/3; 18/140] START n_neighbors=27...........................................\n",
      "[CV 3/3; 18/140] END ............n_neighbors=27;, score=0.460 total time=   0.0s\n",
      "[CV 1/3; 19/140] START n_neighbors=28...........................................\n",
      "[CV 1/3; 19/140] END ............n_neighbors=28;, score=0.606 total time=   0.0s\n",
      "[CV 2/3; 19/140] START n_neighbors=28...........................................\n",
      "[CV 2/3; 19/140] END ............n_neighbors=28;, score=0.442 total time=   0.0s\n",
      "[CV 3/3; 27/140] START n_neighbors=36...........................................\n",
      "[CV 3/3; 27/140] END ............n_neighbors=36;, score=0.405 total time=   0.0s\n",
      "[CV 1/3; 28/140] START n_neighbors=37...........................................\n",
      "[CV 1/3; 28/140] END ............n_neighbors=37;, score=0.583 total time=   0.0s\n",
      "[CV 2/3; 28/140] START n_neighbors=37...........................................\n",
      "[CV 2/3; 28/140] END ............n_neighbors=37;, score=0.495 total time=   0.0s\n",
      "[CV 3/3; 28/140] START n_neighbors=37...........................................\n",
      "[CV 3/3; 28/140] END ............n_neighbors=37;, score=0.405 total time=   0.0s\n",
      "[CV 1/3; 29/140] START n_neighbors=38...........................................\n",
      "[CV 1/3; 29/140] END ............n_neighbors=38;, score=0.574 total time=   0.0s\n",
      "[CV 2/3; 29/140] START n_neighbors=38...........................................\n",
      "[CV 2/3; 29/140] END ............n_neighbors=38;, score=0.473 total time=   0.0s\n",
      "[CV 3/3; 29/140] START n_neighbors=38...........................................\n",
      "[CV 3/3; 29/140] END ............n_neighbors=38;, score=0.390 total time=   0.0s\n",
      "[CV 1/3; 30/140] START n_neighbors=39...........................................\n",
      "[CV 1/3; 30/140] END ............n_neighbors=39;, score=0.574 total time=   0.0s\n",
      "[CV 3/3; 35/140] START n_neighbors=44...........................................\n",
      "[CV 3/3; 35/140] END ............n_neighbors=44;, score=0.386 total time=   0.0s\n",
      "[CV 1/3; 36/140] START n_neighbors=45...........................................\n",
      "[CV 1/3; 36/140] END ............n_neighbors=45;, score=0.527 total time=   0.0s\n",
      "[CV 2/3; 36/140] START n_neighbors=45...........................................\n",
      "[CV 1/3; 1/39] START n_neighbors=1..............................................\n",
      "[CV 1/3; 1/39] END ...............n_neighbors=1;, score=0.500 total time=   0.0s\n",
      "[CV 3/3; 4/39] START n_neighbors=4..............................................\n",
      "[CV 3/3; 4/39] END ...............n_neighbors=4;, score=0.391 total time=   0.0s\n",
      "[CV 3/3; 5/39] START n_neighbors=5..............................................\n",
      "[CV 3/3; 5/39] END ...............n_neighbors=5;, score=0.505 total time=   0.0s\n",
      "[CV 3/3; 6/39] START n_neighbors=6..............................................\n",
      "[CV 3/3; 6/39] END ...............n_neighbors=6;, score=0.505 total time=   0.0s\n",
      "[CV 3/3; 7/39] START n_neighbors=7..............................................\n",
      "[CV 3/3; 7/39] END ...............n_neighbors=7;, score=0.538 total time=   0.0s\n",
      "[CV 3/3; 8/39] START n_neighbors=8..............................................\n",
      "[CV 3/3; 8/39] END ...............n_neighbors=8;, score=0.536 total time=   0.0s\n",
      "[CV 1/3; 10/39] START n_neighbors=10............................................\n",
      "[CV 1/3; 10/39] END .............n_neighbors=10;, score=0.519 total time=   0.0s\n",
      "[CV 2/3; 12/39] START n_neighbors=12............................................\n",
      "[CV 2/3; 12/39] END .............n_neighbors=12;, score=0.590 total time=   0.0s\n",
      "[CV 3/3; 12/39] START n_neighbors=12............................................\n",
      "[CV 3/3; 12/39] END .............n_neighbors=12;, score=0.432 total time=   0.0s\n",
      "[CV 1/3; 15/39] START n_neighbors=15............................................\n",
      "[CV 1/3; 15/39] END .............n_neighbors=15;, score=0.613 total time=   0.0s\n",
      "[CV 2/3; 15/39] START n_neighbors=15............................................\n",
      "[CV 2/3; 15/39] END .............n_neighbors=15;, score=0.588 total time=   0.0s\n",
      "[CV 1/3; 17/39] START n_neighbors=17............................................\n",
      "[CV 1/3; 17/39] END .............n_neighbors=17;, score=0.571 total time=   0.0s\n",
      "[CV 2/3; 17/39] START n_neighbors=17............................................\n",
      "[CV 2/3; 17/39] END .............n_neighbors=17;, score=0.539 total time=   0.0s\n",
      "[CV 3/3; 17/39] START n_neighbors=17............................................\n",
      "[CV 3/3; 17/39] END .............n_neighbors=17;, score=0.422 total time=   0.0s\n",
      "[CV 1/3; 18/39] START n_neighbors=18............................................\n",
      "[CV 1/3; 18/39] END .............n_neighbors=18;, score=0.545 total time=   0.0s\n",
      "[CV 3/3; 23/39] START n_neighbors=23............................................\n",
      "[CV 3/3; 23/39] END .............n_neighbors=23;, score=0.437 total time=   0.0s\n",
      "[CV 1/3; 24/39] START n_neighbors=24............................................\n",
      "[CV 1/3; 24/39] END .............n_neighbors=24;, score=0.574 total time=   0.0s\n",
      "[CV 2/3; 24/39] START n_neighbors=24............................................\n",
      "[CV 2/3; 24/39] END .............n_neighbors=24;, score=0.495 total time=   0.0s\n",
      "[CV 3/3; 24/39] START n_neighbors=24............................................\n",
      "[CV 3/3; 24/39] END .............n_neighbors=24;, score=0.415 total time=   0.0s\n",
      "[CV 3/3; 31/39] START n_neighbors=31............................................\n",
      "[CV 3/3; 31/39] END .............n_neighbors=31;, score=0.419 total time=   0.0s\n",
      "[CV 1/3; 32/39] START n_neighbors=32............................................\n",
      "[CV 1/3; 32/39] END .............n_neighbors=32;, score=0.640 total time=   0.0s\n",
      "[CV 2/3; 32/39] START n_neighbors=32............................................\n",
      "[CV 2/3; 32/39] END .............n_neighbors=32;, score=0.500 total time=   0.0s\n",
      "[CV 3/3; 32/39] START n_neighbors=32............................................\n",
      "[CV 3/3; 32/39] END .............n_neighbors=32;, score=0.400 total time=   0.0s\n",
      "[CV 1/3; 33/39] START n_neighbors=33............................................\n",
      "[CV 1/3; 33/39] END .............n_neighbors=33;, score=0.679 total time=   0.0s\n",
      "[CV 2/3; 33/39] START n_neighbors=33............................................\n",
      "[CV 2/3; 33/39] END .............n_neighbors=33;, score=0.520 total time=   0.1s\n",
      "[CV 3/3; 33/39] START n_neighbors=33............................................\n",
      "[CV 3/3; 33/39] END .............n_neighbors=33;, score=0.432 total time=   0.0s\n",
      "[CV 1/3; 34/39] START n_neighbors=34............................................\n",
      "[CV 1/3; 34/39] END .............n_neighbors=34;, score=0.627 total time=   0.0s\n",
      "[CV 1/3; 2/140] START n_neighbors=11............................................\n",
      "[CV 1/3; 2/140] END .............n_neighbors=11;, score=0.619 total time=   0.0s\n",
      "[CV 2/3; 2/140] START n_neighbors=11............................................\n",
      "[CV 2/3; 2/140] END .............n_neighbors=11;, score=0.566 total time=   0.0s\n",
      "[CV 3/3; 3/140] START n_neighbors=12............................................\n",
      "[CV 3/3; 3/140] END .............n_neighbors=12;, score=0.381 total time=   0.0s\n",
      "[CV 1/3; 4/140] START n_neighbors=13............................................\n",
      "[CV 1/3; 4/140] END .............n_neighbors=13;, score=0.613 total time=   0.0s\n",
      "[CV 2/3; 6/140] START n_neighbors=15............................................\n",
      "[CV 2/3; 6/140] END .............n_neighbors=15;, score=0.523 total time=   0.0s\n",
      "[CV 3/3; 6/140] START n_neighbors=15............................................\n",
      "[CV 3/3; 6/140] END .............n_neighbors=15;, score=0.422 total time=   0.0s\n",
      "[CV 1/3; 9/140] START n_neighbors=18............................................\n",
      "[CV 1/3; 9/140] END .............n_neighbors=18;, score=0.577 total time=   0.0s\n",
      "[CV 2/3; 9/140] START n_neighbors=18............................................\n",
      "[CV 2/3; 9/140] END .............n_neighbors=18;, score=0.500 total time=   0.0s\n",
      "[CV 3/3; 9/140] START n_neighbors=18............................................\n",
      "[CV 3/3; 9/140] END .............n_neighbors=18;, score=0.376 total time=   0.0s\n",
      "[CV 1/3; 10/140] START n_neighbors=19...........................................\n",
      "[CV 1/3; 10/140] END ............n_neighbors=19;, score=0.621 total time=   0.0s\n",
      "[CV 2/3; 14/140] START n_neighbors=23...........................................\n",
      "[CV 2/3; 14/140] END ............n_neighbors=23;, score=0.490 total time=   0.0s\n",
      "[CV 3/3; 14/140] START n_neighbors=23...........................................\n",
      "[CV 3/3; 14/140] END ............n_neighbors=23;, score=0.442 total time=   0.0s\n",
      "[CV 1/3; 15/140] START n_neighbors=24...........................................\n",
      "[CV 1/3; 15/140] END ............n_neighbors=24;, score=0.606 total time=   0.0s\n",
      "[CV 2/3; 15/140] START n_neighbors=24...........................................\n",
      "[CV 2/3; 15/140] END ............n_neighbors=24;, score=0.463 total time=   0.0s\n",
      "[CV 3/3; 19/140] START n_neighbors=28...........................................\n",
      "[CV 3/3; 19/140] END ............n_neighbors=28;, score=0.410 total time=   0.0s\n",
      "[CV 1/3; 20/140] START n_neighbors=29...........................................\n",
      "[CV 1/3; 20/140] END ............n_neighbors=29;, score=0.594 total time=   0.0s\n",
      "[CV 2/3; 20/140] START n_neighbors=29...........................................\n",
      "[CV 2/3; 20/140] END ............n_neighbors=29;, score=0.485 total time=   0.0s\n",
      "[CV 3/3; 20/140] START n_neighbors=29...........................................\n",
      "[CV 3/3; 20/140] END ............n_neighbors=29;, score=0.483 total time=   0.0s\n",
      "[CV 1/3; 21/140] START n_neighbors=30...........................................\n",
      "[CV 1/3; 21/140] END ............n_neighbors=30;, score=0.562 total time=   0.0s\n",
      "[CV 2/3; 21/140] START n_neighbors=30...........................................\n",
      "[CV 2/3; 21/140] END ............n_neighbors=30;, score=0.430 total time=   0.0s\n",
      "[CV 3/3; 21/140] START n_neighbors=30...........................................\n",
      "[CV 3/3; 21/140] END ............n_neighbors=30;, score=0.410 total time=   0.0s\n",
      "[CV 1/3; 22/140] START n_neighbors=31...........................................\n",
      "[CV 1/3; 22/140] END ............n_neighbors=31;, score=0.588 total time=   0.0s\n",
      "[CV 2/3; 38/140] START n_neighbors=47...........................................\n",
      "[CV 2/3; 38/140] END ............n_neighbors=47;, score=0.435 total time=   0.0s\n",
      "[CV 3/3; 38/140] START n_neighbors=47...........................................\n"
     ]
    },
    {
     "name": "stdout",
     "output_type": "stream",
     "text": [
      "[CV 3/3; 38/140] END ............n_neighbors=47;, score=0.400 total time=   0.0s\n",
      "[CV 1/3; 39/140] START n_neighbors=48...........................................\n",
      "[CV 1/3; 39/140] END ............n_neighbors=48;, score=0.500 total time=   0.0s\n",
      "[CV 2/3; 39/140] START n_neighbors=48...........................................\n",
      "[CV 2/3; 39/140] END ............n_neighbors=48;, score=0.382 total time=   0.0s\n",
      "[CV 3/3; 39/140] START n_neighbors=48...........................................\n",
      "[CV 3/3; 39/140] END ............n_neighbors=48;, score=0.405 total time=   0.0s\n",
      "[CV 1/3; 40/140] START n_neighbors=49...........................................\n",
      "[CV 1/3; 40/140] END ............n_neighbors=49;, score=0.549 total time=   0.0s\n",
      "[CV 2/3; 40/140] START n_neighbors=49...........................................\n",
      "[CV 2/3; 40/140] END ............n_neighbors=49;, score=0.413 total time=   0.0s\n",
      "[CV 3/3; 40/140] START n_neighbors=49...........................................\n",
      "[CV 3/3; 40/140] END ............n_neighbors=49;, score=0.400 total time=   0.0s\n",
      "[CV 1/3; 49/140] START n_neighbors=58...........................................\n",
      "[CV 1/3; 49/140] END ............n_neighbors=58;, score=0.488 total time=   0.0s\n",
      "[CV 2/3; 49/140] START n_neighbors=58...........................................\n",
      "[CV 2/3; 49/140] END ............n_neighbors=58;, score=0.368 total time=   0.0s\n",
      "[CV 3/3; 49/140] START n_neighbors=58...........................................\n",
      "[CV 3/3; 49/140] END ............n_neighbors=58;, score=0.350 total time=   0.0s\n",
      "[CV 1/3; 50/140] START n_neighbors=59...........................................\n",
      "[CV 1/3; 50/140] END ............n_neighbors=59;, score=0.533 total time=   0.0s\n",
      "[CV 2/3; 50/140] START n_neighbors=59...........................................\n",
      "[CV 2/3; 50/140] END ............n_neighbors=59;, score=0.382 total time=   0.0s\n",
      "[CV 3/3; 50/140] START n_neighbors=59...........................................\n",
      "[CV 3/3; 50/140] END ............n_neighbors=59;, score=0.346 total time=   0.0s\n",
      "[CV 1/3; 51/140] START n_neighbors=60...........................................\n",
      "[CV 1/3; 51/140] END ............n_neighbors=60;, score=0.483 total time=   0.0s\n",
      "[CV 2/3; 51/140] START n_neighbors=60...........................................\n",
      "[CV 2/3; 51/140] END ............n_neighbors=60;, score=0.386 total time=   0.0s\n",
      "[CV 1/3; 57/140] START n_neighbors=66...........................................\n",
      "[CV 1/3; 57/140] END ............n_neighbors=66;, score=0.429 total time=   0.1s\n",
      "[CV 2/3; 57/140] START n_neighbors=66...........................................\n",
      "[CV 2/3; 57/140] END ............n_neighbors=66;, score=0.372 total time=   0.0s\n",
      "[CV 3/3; 57/140] START n_neighbors=66...........................................\n",
      "[CV 3/3; 57/140] END ............n_neighbors=66;, score=0.333 total time=   0.0s\n",
      "[CV 1/3; 58/140] START n_neighbors=67...........................................\n",
      "[CV 1/3; 58/140] END ............n_neighbors=67;, score=0.429 total time=   0.0s\n",
      "[CV 2/3; 58/140] START n_neighbors=67...........................................\n",
      "[CV 2/3; 58/140] END ............n_neighbors=67;, score=0.391 total time=   0.0s\n",
      "[CV 3/3; 58/140] START n_neighbors=67...........................................\n",
      "[CV 3/3; 58/140] END ............n_neighbors=67;, score=0.329 total time=   0.0s\n",
      "[CV 1/3; 59/140] START n_neighbors=68...........................................\n",
      "[CV 1/3; 59/140] END ............n_neighbors=68;, score=0.429 total time=   0.0s\n",
      "[CV 2/3; 59/140] START n_neighbors=68...........................................\n",
      "[CV 2/3; 59/140] END ............n_neighbors=68;, score=0.391 total time=   0.0s\n",
      "[CV 2/3; 70/140] START n_neighbors=79...........................................\n",
      "[CV 2/3; 70/140] END ............n_neighbors=79;, score=0.376 total time=   0.0s\n",
      "[CV 3/3; 70/140] START n_neighbors=79...........................................\n",
      "[CV 3/3; 70/140] END ............n_neighbors=79;, score=0.289 total time=   0.0s\n",
      "[CV 1/3; 71/140] START n_neighbors=80...........................................\n",
      "[CV 1/3; 71/140] END ............n_neighbors=80;, score=0.410 total time=   0.0s\n",
      "[CV 2/3; 71/140] START n_neighbors=80...........................................\n",
      "[CV 2/3; 71/140] END ............n_neighbors=80;, score=0.357 total time=   0.0s\n",
      "[CV 3/3; 71/140] START n_neighbors=80...........................................\n",
      "[CV 3/3; 71/140] END ............n_neighbors=80;, score=0.289 total time=   0.0s\n",
      "[CV 1/3; 72/140] START n_neighbors=81...........................................\n",
      "[CV 1/3; 72/140] END ............n_neighbors=81;, score=0.429 total time=   0.0s\n",
      "[CV 2/3; 72/140] START n_neighbors=81...........................................\n",
      "[CV 2/3; 72/140] END ............n_neighbors=81;, score=0.357 total time=   0.0s\n",
      "[CV 3/3; 72/140] START n_neighbors=81...........................................\n",
      "[CV 3/3; 72/140] END ............n_neighbors=81;, score=0.289 total time=   0.0s\n",
      "[CV 3/3; 75/140] START n_neighbors=84...........................................\n",
      "[CV 3/3; 75/140] END ............n_neighbors=84;, score=0.270 total time=   0.0s\n",
      "[CV 1/3; 76/140] START n_neighbors=85...........................................\n",
      "[CV 1/3; 76/140] END ............n_neighbors=85;, score=0.390 total time=   0.0s\n",
      "[CV 2/3; 76/140] START n_neighbors=85...........................................\n",
      "[CV 2/3; 76/140] END ............n_neighbors=85;, score=0.381 total time=   0.0s\n",
      "[CV 3/3; 76/140] START n_neighbors=85...........................................\n",
      "[CV 3/3; 76/140] END ............n_neighbors=85;, score=0.270 total time=   0.0s\n",
      "[CV 1/3; 77/140] START n_neighbors=86...........................................\n",
      "[CV 1/3; 77/140] END ............n_neighbors=86;, score=0.333 total time=   0.0s\n",
      "[CV 2/3; 77/140] START n_neighbors=86...........................................\n",
      "[CV 2/3; 77/140] END ............n_neighbors=86;, score=0.321 total time=   0.0s\n",
      "[CV 3/3; 77/140] START n_neighbors=86...........................................\n",
      "[CV 3/3; 77/140] END ............n_neighbors=86;, score=0.270 total time=   0.0s\n",
      "[CV 1/3; 78/140] START n_neighbors=87...........................................\n",
      "[CV 1/3; 78/140] END ............n_neighbors=87;, score=0.354 total time=   0.0s\n",
      "[CV 3/3; 83/140] START n_neighbors=92...........................................\n",
      "[CV 3/3; 83/140] END ............n_neighbors=92;, score=0.222 total time=   0.0s\n",
      "[CV 1/3; 84/140] START n_neighbors=93...........................................\n",
      "[CV 1/3; 84/140] END ............n_neighbors=93;, score=0.354 total time=   0.0s\n",
      "[CV 2/3; 84/140] START n_neighbors=93...........................................\n",
      "[CV 2/3; 84/140] END ............n_neighbors=93;, score=0.308 total time=   0.0s\n",
      "[CV 3/3; 84/140] START n_neighbors=93...........................................\n",
      "[CV 3/3; 84/140] END ............n_neighbors=93;, score=0.247 total time=   0.0s\n",
      "[CV 1/3; 85/140] START n_neighbors=94...........................................\n",
      "[CV 1/3; 85/140] END ............n_neighbors=94;, score=0.338 total time=   0.0s\n",
      "[CV 2/3; 85/140] START n_neighbors=94...........................................\n",
      "[CV 2/3; 85/140] END ............n_neighbors=94;, score=0.286 total time=   0.0s\n",
      "[CV 3/3; 85/140] START n_neighbors=94...........................................\n",
      "[CV 3/3; 85/140] END ............n_neighbors=94;, score=0.197 total time=   0.0s\n",
      "[CV 1/3; 86/140] START n_neighbors=95...........................................\n",
      "[CV 1/3; 86/140] END ............n_neighbors=95;, score=0.333 total time=   0.0s\n",
      "[CV 2/3; 94/140] START n_neighbors=103..........................................\n",
      "[CV 2/3; 94/140] END ...........n_neighbors=103;, score=0.282 total time=   0.0s\n",
      "[CV 3/3; 94/140] START n_neighbors=103..........................................\n",
      "[CV 3/3; 94/140] END ...........n_neighbors=103;, score=0.200 total time=   0.0s\n",
      "[CV 1/3; 95/140] START n_neighbors=104..........................................\n",
      "[CV 1/3; 95/140] END ...........n_neighbors=104;, score=0.289 total time=   0.0s\n",
      "[CV 2/3; 95/140] START n_neighbors=104..........................................\n",
      "[CV 2/3; 95/140] END ...........n_neighbors=104;, score=0.263 total time=   0.0s\n",
      "[CV 3/3; 24/140] END ............n_neighbors=33;, score=0.386 total time=   0.0s\n",
      "[CV 2/3; 30/140] START n_neighbors=39...........................................\n",
      "[CV 2/3; 30/140] END ............n_neighbors=39;, score=0.479 total time=   0.0s\n",
      "[CV 3/3; 30/140] START n_neighbors=39...........................................\n",
      "[CV 3/3; 30/140] END ............n_neighbors=39;, score=0.390 total time=   0.0s\n",
      "[CV 1/3; 31/140] START n_neighbors=40...........................................\n",
      "[CV 1/3; 31/140] END ............n_neighbors=40;, score=0.549 total time=   0.0s\n",
      "[CV 2/3; 31/140] START n_neighbors=40...........................................\n",
      "[CV 2/3; 31/140] END ............n_neighbors=40;, score=0.473 total time=   0.0s\n",
      "[CV 3/3; 31/140] START n_neighbors=40...........................................\n",
      "[CV 3/3; 31/140] END ............n_neighbors=40;, score=0.350 total time=   0.0s\n",
      "[CV 1/3; 32/140] START n_neighbors=41...........................................\n",
      "[CV 1/3; 32/140] END ............n_neighbors=41;, score=0.538 total time=   0.0s\n",
      "[CV 2/3; 32/140] START n_neighbors=41...........................................\n",
      "[CV 2/3; 32/140] END ............n_neighbors=41;, score=0.484 total time=   0.0s\n",
      "[CV 3/3; 32/140] START n_neighbors=41...........................................\n",
      "[CV 3/3; 32/140] END ............n_neighbors=41;, score=0.366 total time=   0.0s\n",
      "[CV 1/3; 41/140] START n_neighbors=50...........................................\n",
      "[CV 1/3; 41/140] END ............n_neighbors=50;, score=0.500 total time=   0.0s\n",
      "[CV 2/3; 41/140] START n_neighbors=50...........................................\n",
      "[CV 2/3; 41/140] END ............n_neighbors=50;, score=0.404 total time=   0.0s\n",
      "[CV 3/3; 41/140] START n_neighbors=50...........................................\n",
      "[CV 3/3; 41/140] END ............n_neighbors=50;, score=0.400 total time=   0.0s\n",
      "[CV 1/3; 42/140] START n_neighbors=51...........................................\n",
      "[CV 1/3; 42/140] END ............n_neighbors=51;, score=0.533 total time=   0.0s\n",
      "[CV 2/3; 42/140] START n_neighbors=51...........................................\n",
      "[CV 2/3; 42/140] END ............n_neighbors=51;, score=0.404 total time=   0.0s\n",
      "[CV 3/3; 42/140] START n_neighbors=51...........................................\n",
      "[CV 3/3; 42/140] END ............n_neighbors=51;, score=0.400 total time=   0.0s\n",
      "[CV 1/3; 43/140] START n_neighbors=52...........................................\n",
      "[CV 1/3; 43/140] END ............n_neighbors=52;, score=0.517 total time=   0.0s\n",
      "[CV 2/3; 43/140] START n_neighbors=52...........................................\n",
      "[CV 2/3; 43/140] END ............n_neighbors=52;, score=0.368 total time=   0.0s\n",
      "[CV 2/3; 54/140] START n_neighbors=63...........................................\n",
      "[CV 2/3; 54/140] END ............n_neighbors=63;, score=0.372 total time=   0.0s\n",
      "[CV 3/3; 54/140] START n_neighbors=63...........................................\n",
      "[CV 3/3; 54/140] END ............n_neighbors=63;, score=0.354 total time=   0.0s\n",
      "[CV 1/3; 55/140] START n_neighbors=64...........................................\n",
      "[CV 1/3; 55/140] END ............n_neighbors=64;, score=0.465 total time=   0.0s\n",
      "[CV 2/3; 55/140] START n_neighbors=64...........................................\n",
      "[CV 2/3; 55/140] END ............n_neighbors=64;, score=0.376 total time=   0.0s\n",
      "[CV 3/3; 55/140] START n_neighbors=64...........................................\n",
      "[CV 3/3; 55/140] END ............n_neighbors=64;, score=0.333 total time=   0.0s\n",
      "[CV 1/3; 56/140] START n_neighbors=65...........................................\n",
      "[CV 1/3; 56/140] END ............n_neighbors=65;, score=0.483 total time=   0.0s\n",
      "[CV 2/3; 56/140] START n_neighbors=65...........................................\n",
      "[CV 2/3; 56/140] END ............n_neighbors=65;, score=0.391 total time=   0.0s\n",
      "[CV 3/3; 56/140] START n_neighbors=65...........................................\n",
      "[CV 3/3; 56/140] END ............n_neighbors=65;, score=0.354 total time=   0.0s\n",
      "[CV 2/3; 62/140] START n_neighbors=71...........................................\n",
      "[CV 2/3; 62/140] END ............n_neighbors=71;, score=0.409 total time=   0.0s\n",
      "[CV 3/3; 62/140] START n_neighbors=71...........................................\n",
      "[CV 3/3; 62/140] END ............n_neighbors=71;, score=0.308 total time=   0.0s\n",
      "[CV 1/3; 63/140] START n_neighbors=72...........................................\n",
      "[CV 1/3; 63/140] END ............n_neighbors=72;, score=0.429 total time=   0.0s\n",
      "[CV 2/3; 63/140] START n_neighbors=72...........................................\n",
      "[CV 2/3; 63/140] END ............n_neighbors=72;, score=0.409 total time=   0.0s\n",
      "[CV 3/3; 63/140] START n_neighbors=72...........................................\n",
      "[CV 3/3; 63/140] END ............n_neighbors=72;, score=0.308 total time=   0.0s\n",
      "[CV 1/3; 64/140] START n_neighbors=73...........................................\n",
      "[CV 1/3; 64/140] END ............n_neighbors=73;, score=0.447 total time=   0.0s\n",
      "[CV 2/3; 64/140] START n_neighbors=73...........................................\n",
      "[CV 2/3; 64/140] END ............n_neighbors=73;, score=0.409 total time=   0.0s\n",
      "[CV 3/3; 64/140] START n_neighbors=73...........................................\n",
      "[CV 3/3; 64/140] END ............n_neighbors=73;, score=0.308 total time=   0.0s\n",
      "[CV 1/3; 73/140] START n_neighbors=82...........................................\n",
      "[CV 1/3; 73/140] END ............n_neighbors=82;, score=0.370 total time=   0.0s\n",
      "[CV 2/3; 73/140] START n_neighbors=82...........................................\n",
      "[CV 2/3; 73/140] END ............n_neighbors=82;, score=0.341 total time=   0.0s\n",
      "[CV 3/3; 73/140] START n_neighbors=82...........................................\n",
      "[CV 3/3; 73/140] END ............n_neighbors=82;, score=0.289 total time=   0.0s\n",
      "[CV 1/3; 74/140] START n_neighbors=83...........................................\n",
      "[CV 1/3; 74/140] END ............n_neighbors=83;, score=0.429 total time=   0.0s\n",
      "[CV 2/3; 74/140] START n_neighbors=83...........................................\n",
      "[CV 2/3; 74/140] END ............n_neighbors=83;, score=0.361 total time=   0.0s\n",
      "[CV 3/3; 74/140] START n_neighbors=83...........................................\n",
      "[CV 3/3; 74/140] END ............n_neighbors=83;, score=0.286 total time=   0.0s\n",
      "[CV 1/3; 75/140] START n_neighbors=84...........................................\n",
      "[CV 1/3; 75/140] END ............n_neighbors=84;, score=0.354 total time=   0.0s\n",
      "[CV 2/3; 75/140] START n_neighbors=84...........................................\n",
      "[CV 2/3; 75/140] END ............n_neighbors=84;, score=0.361 total time=   0.0s\n",
      "[CV 2/3; 86/140] START n_neighbors=95...........................................\n",
      "[CV 2/3; 86/140] END ............n_neighbors=95;, score=0.286 total time=   0.0s\n",
      "[CV 3/3; 86/140] START n_neighbors=95...........................................\n",
      "[CV 3/3; 86/140] END ............n_neighbors=95;, score=0.222 total time=   0.0s\n",
      "[CV 1/3; 87/140] START n_neighbors=96...........................................\n",
      "[CV 1/3; 87/140] END ............n_neighbors=96;, score=0.333 total time=   0.0s\n",
      "[CV 2/3; 87/140] START n_neighbors=96...........................................\n",
      "[CV 2/3; 87/140] END ............n_neighbors=96;, score=0.286 total time=   0.0s\n",
      "[CV 3/3; 87/140] START n_neighbors=96...........................................\n",
      "[CV 3/3; 87/140] END ............n_neighbors=96;, score=0.197 total time=   0.0s\n",
      "[CV 1/3; 88/140] START n_neighbors=97...........................................\n",
      "[CV 1/3; 88/140] END ............n_neighbors=97;, score=0.333 total time=   0.0s\n",
      "[CV 2/3; 88/140] START n_neighbors=97...........................................\n",
      "[CV 2/3; 88/140] END ............n_neighbors=97;, score=0.278 total time=   0.0s\n",
      "[CV 3/3; 88/140] START n_neighbors=97...........................................\n",
      "[CV 3/3; 88/140] END ............n_neighbors=97;, score=0.222 total time=   0.0s\n",
      "[CV 1/3; 97/140] START n_neighbors=106..........................................\n",
      "[CV 1/3; 97/140] END ...........n_neighbors=106;, score=0.293 total time=   0.0s\n",
      "[CV 2/3; 97/140] START n_neighbors=106..........................................\n",
      "[CV 2/3; 97/140] END ...........n_neighbors=106;, score=0.263 total time=   0.0s\n",
      "[CV 2/3; 25/140] END ............n_neighbors=34;, score=0.479 total time=   0.0s\n",
      "[CV 3/3; 25/140] START n_neighbors=34...........................................\n",
      "[CV 3/3; 25/140] END ............n_neighbors=34;, score=0.366 total time=   0.0s\n",
      "[CV 1/3; 26/140] START n_neighbors=35...........................................\n",
      "[CV 1/3; 26/140] END ............n_neighbors=35;, score=0.577 total time=   0.0s\n",
      "[CV 2/3; 26/140] START n_neighbors=35...........................................\n",
      "[CV 2/3; 26/140] END ............n_neighbors=35;, score=0.469 total time=   0.0s\n",
      "[CV 3/3; 26/140] START n_neighbors=35...........................................\n",
      "[CV 3/3; 26/140] END ............n_neighbors=35;, score=0.405 total time=   0.0s\n",
      "[CV 1/3; 27/140] START n_neighbors=36...........................................\n",
      "[CV 1/3; 27/140] END ............n_neighbors=36;, score=0.559 total time=   0.0s\n",
      "[CV 2/3; 27/140] START n_neighbors=36...........................................\n",
      "[CV 2/3; 27/140] END ............n_neighbors=36;, score=0.457 total time=   0.0s\n",
      "[CV 1/3; 33/140] START n_neighbors=42...........................................\n",
      "[CV 1/3; 33/140] END ............n_neighbors=42;, score=0.533 total time=   0.0s\n",
      "[CV 2/3; 33/140] START n_neighbors=42...........................................\n",
      "[CV 2/3; 33/140] END ............n_neighbors=42;, score=0.457 total time=   0.0s\n",
      "[CV 3/3; 33/140] START n_neighbors=42...........................................\n",
      "[CV 3/3; 33/140] END ............n_neighbors=42;, score=0.370 total time=   0.0s\n",
      "[CV 1/3; 34/140] START n_neighbors=43...........................................\n",
      "[CV 1/3; 34/140] END ............n_neighbors=43;, score=0.538 total time=   0.1s\n",
      "[CV 2/3; 34/140] START n_neighbors=43...........................................\n",
      "[CV 2/3; 34/140] END ............n_neighbors=43;, score=0.479 total time=   0.0s\n",
      "[CV 3/3; 34/140] START n_neighbors=43...........................................\n",
      "[CV 3/3; 34/140] END ............n_neighbors=43;, score=0.386 total time=   0.0s\n",
      "[CV 1/3; 35/140] START n_neighbors=44...........................................\n",
      "[CV 1/3; 35/140] END ............n_neighbors=44;, score=0.517 total time=   0.0s\n",
      "[CV 2/3; 35/140] START n_neighbors=44...........................................\n",
      "[CV 2/3; 35/140] END ............n_neighbors=44;, score=0.440 total time=   0.0s\n",
      "[CV 3/3; 43/140] START n_neighbors=52...........................................\n",
      "[CV 3/3; 43/140] END ............n_neighbors=52;, score=0.366 total time=   0.0s\n",
      "[CV 1/3; 44/140] START n_neighbors=53...........................................\n",
      "[CV 1/3; 44/140] END ............n_neighbors=53;, score=0.533 total time=   0.0s\n",
      "[CV 2/3; 44/140] START n_neighbors=53...........................................\n",
      "[CV 2/3; 44/140] END ............n_neighbors=53;, score=0.404 total time=   0.0s\n",
      "[CV 3/3; 44/140] START n_neighbors=53...........................................\n",
      "[CV 3/3; 44/140] END ............n_neighbors=53;, score=0.381 total time=   0.0s\n",
      "[CV 1/3; 45/140] START n_neighbors=54...........................................\n",
      "[CV 1/3; 45/140] END ............n_neighbors=54;, score=0.517 total time=   0.0s\n",
      "[CV 2/3; 45/140] START n_neighbors=54...........................................\n",
      "[CV 2/3; 45/140] END ............n_neighbors=54;, score=0.391 total time=   0.0s\n",
      "[CV 3/3; 45/140] START n_neighbors=54...........................................\n",
      "[CV 3/3; 45/140] END ............n_neighbors=54;, score=0.366 total time=   0.0s\n",
      "[CV 1/3; 46/140] START n_neighbors=55...........................................\n",
      "[CV 1/3; 46/140] END ............n_neighbors=55;, score=0.533 total time=   0.0s\n",
      "[CV 3/3; 59/140] START n_neighbors=68...........................................\n",
      "[CV 3/3; 59/140] END ............n_neighbors=68;, score=0.308 total time=   0.0s\n",
      "[CV 1/3; 60/140] START n_neighbors=69...........................................\n",
      "[CV 1/3; 60/140] END ............n_neighbors=69;, score=0.465 total time=   0.0s\n",
      "[CV 2/3; 60/140] START n_neighbors=69...........................................\n",
      "[CV 2/3; 60/140] END ............n_neighbors=69;, score=0.409 total time=   0.0s\n",
      "[CV 3/3; 60/140] START n_neighbors=69...........................................\n",
      "[CV 3/3; 60/140] END ............n_neighbors=69;, score=0.308 total time=   0.0s\n",
      "[CV 1/3; 61/140] START n_neighbors=70...........................................\n",
      "[CV 1/3; 61/140] END ............n_neighbors=70;, score=0.447 total time=   0.0s\n",
      "[CV 2/3; 61/140] START n_neighbors=70...........................................\n",
      "[CV 2/3; 61/140] END ............n_neighbors=70;, score=0.391 total time=   0.0s\n",
      "[CV 3/3; 61/140] START n_neighbors=70...........................................\n",
      "[CV 3/3; 61/140] END ............n_neighbors=70;, score=0.316 total time=   0.0s\n",
      "[CV 1/3; 62/140] START n_neighbors=71...........................................\n",
      "[CV 1/3; 62/140] END ............n_neighbors=71;, score=0.465 total time=   0.0s\n",
      "[CV 3/3; 67/140] START n_neighbors=76...........................................\n",
      "[CV 3/3; 67/140] END ............n_neighbors=76;, score=0.308 total time=   0.0s\n",
      "[CV 1/3; 68/140] START n_neighbors=77...........................................\n",
      "[CV 1/3; 68/140] END ............n_neighbors=77;, score=0.447 total time=   0.0s\n",
      "[CV 2/3; 68/140] START n_neighbors=77...........................................\n",
      "[CV 2/3; 68/140] END ............n_neighbors=77;, score=0.372 total time=   0.0s\n",
      "[CV 3/3; 68/140] START n_neighbors=77...........................................\n",
      "[CV 3/3; 68/140] END ............n_neighbors=77;, score=0.308 total time=   0.0s\n",
      "[CV 1/3; 69/140] START n_neighbors=78...........................................\n",
      "[CV 1/3; 69/140] END ............n_neighbors=78;, score=0.429 total time=   0.0s\n",
      "[CV 2/3; 69/140] START n_neighbors=78...........................................\n",
      "[CV 2/3; 69/140] END ............n_neighbors=78;, score=0.357 total time=   0.0s\n",
      "[CV 3/3; 69/140] START n_neighbors=78...........................................\n",
      "[CV 3/3; 69/140] END ............n_neighbors=78;, score=0.289 total time=   0.0s\n",
      "[CV 1/3; 70/140] START n_neighbors=79...........................................\n",
      "[CV 1/3; 70/140] END ............n_neighbors=79;, score=0.447 total time=   0.0s\n",
      "[CV 2/3; 78/140] START n_neighbors=87...........................................\n",
      "[CV 2/3; 78/140] END ............n_neighbors=87;, score=0.321 total time=   0.0s\n",
      "[CV 3/3; 78/140] START n_neighbors=87...........................................\n",
      "[CV 3/3; 78/140] END ............n_neighbors=87;, score=0.267 total time=   0.0s\n",
      "[CV 1/3; 79/140] START n_neighbors=88...........................................\n",
      "[CV 1/3; 79/140] END ............n_neighbors=88;, score=0.289 total time=   0.0s\n",
      "[CV 2/3; 79/140] START n_neighbors=88...........................................\n",
      "[CV 2/3; 79/140] END ............n_neighbors=88;, score=0.308 total time=   0.0s\n",
      "[CV 3/3; 79/140] START n_neighbors=88...........................................\n",
      "[CV 3/3; 79/140] END ............n_neighbors=88;, score=0.270 total time=   0.0s\n",
      "[CV 1/3; 80/140] START n_neighbors=89...........................................\n",
      "[CV 1/3; 80/140] END ............n_neighbors=89;, score=0.375 total time=   0.0s\n",
      "[CV 2/3; 80/140] START n_neighbors=89...........................................\n",
      "[CV 2/3; 80/140] END ............n_neighbors=89;, score=0.325 total time=   0.0s\n",
      "[CV 3/3; 80/140] START n_neighbors=89...........................................\n",
      "[CV 3/3; 80/140] END ............n_neighbors=89;, score=0.270 total time=   0.0s\n",
      "[CV 3/3; 91/140] START n_neighbors=100..........................................\n",
      "[CV 3/3; 91/140] END ...........n_neighbors=100;, score=0.197 total time=   0.0s\n",
      "[CV 1/3; 92/140] START n_neighbors=101..........................................\n",
      "[CV 1/3; 92/140] END ...........n_neighbors=101;, score=0.289 total time=   0.1s\n",
      "[CV 2/3; 92/140] START n_neighbors=101..........................................\n",
      "[CV 2/3; 92/140] END ...........n_neighbors=101;, score=0.282 total time=   0.0s\n",
      "[CV 3/3; 92/140] START n_neighbors=101..........................................\n",
      "[CV 3/3; 92/140] END ...........n_neighbors=101;, score=0.197 total time=   0.1s\n"
     ]
    },
    {
     "name": "stdout",
     "output_type": "stream",
     "text": [
      "[CV 2/3; 36/140] END ............n_neighbors=45;, score=0.468 total time=   0.0s\n",
      "[CV 3/3; 36/140] START n_neighbors=45...........................................\n",
      "[CV 3/3; 36/140] END ............n_neighbors=45;, score=0.386 total time=   0.0s\n",
      "[CV 1/3; 37/140] START n_neighbors=46...........................................\n",
      "[CV 1/3; 37/140] END ............n_neighbors=46;, score=0.533 total time=   0.0s\n",
      "[CV 2/3; 37/140] START n_neighbors=46...........................................\n",
      "[CV 2/3; 37/140] END ............n_neighbors=46;, score=0.440 total time=   0.0s\n",
      "[CV 3/3; 37/140] START n_neighbors=46...........................................\n",
      "[CV 3/3; 37/140] END ............n_neighbors=46;, score=0.386 total time=   0.0s\n",
      "[CV 1/3; 38/140] START n_neighbors=47...........................................\n",
      "[CV 1/3; 38/140] END ............n_neighbors=47;, score=0.543 total time=   0.0s\n",
      "[CV 2/3; 46/140] START n_neighbors=55...........................................\n",
      "[CV 2/3; 46/140] END ............n_neighbors=55;, score=0.386 total time=   0.0s\n",
      "[CV 3/3; 46/140] START n_neighbors=55...........................................\n",
      "[CV 3/3; 46/140] END ............n_neighbors=55;, score=0.381 total time=   0.0s\n",
      "[CV 1/3; 47/140] START n_neighbors=56...........................................\n",
      "[CV 1/3; 47/140] END ............n_neighbors=56;, score=0.500 total time=   0.0s\n",
      "[CV 2/3; 47/140] START n_neighbors=56...........................................\n",
      "[CV 2/3; 47/140] END ............n_neighbors=56;, score=0.368 total time=   0.0s\n",
      "[CV 3/3; 47/140] START n_neighbors=56...........................................\n",
      "[CV 3/3; 47/140] END ............n_neighbors=56;, score=0.346 total time=   0.0s\n",
      "[CV 1/3; 48/140] START n_neighbors=57...........................................\n",
      "[CV 1/3; 48/140] END ............n_neighbors=57;, score=0.517 total time=   0.0s\n",
      "[CV 2/3; 48/140] START n_neighbors=57...........................................\n",
      "[CV 2/3; 48/140] END ............n_neighbors=57;, score=0.418 total time=   0.0s\n",
      "[CV 3/3; 48/140] START n_neighbors=57...........................................\n",
      "[CV 3/3; 48/140] END ............n_neighbors=57;, score=0.346 total time=   0.0s\n",
      "[CV 3/3; 51/140] START n_neighbors=60...........................................\n",
      "[CV 3/3; 51/140] END ............n_neighbors=60;, score=0.346 total time=   0.0s\n",
      "[CV 1/3; 52/140] START n_neighbors=61...........................................\n",
      "[CV 1/3; 52/140] END ............n_neighbors=61;, score=0.533 total time=   0.0s\n",
      "[CV 2/3; 52/140] START n_neighbors=61...........................................\n",
      "[CV 2/3; 52/140] END ............n_neighbors=61;, score=0.382 total time=   0.0s\n",
      "[CV 3/3; 52/140] START n_neighbors=61...........................................\n",
      "[CV 3/3; 52/140] END ............n_neighbors=61;, score=0.346 total time=   0.0s\n",
      "[CV 1/3; 53/140] START n_neighbors=62...........................................\n",
      "[CV 1/3; 53/140] END ............n_neighbors=62;, score=0.483 total time=   0.0s\n",
      "[CV 2/3; 53/140] START n_neighbors=62...........................................\n",
      "[CV 2/3; 53/140] END ............n_neighbors=62;, score=0.372 total time=   0.0s\n",
      "[CV 3/3; 53/140] START n_neighbors=62...........................................\n",
      "[CV 3/3; 53/140] END ............n_neighbors=62;, score=0.333 total time=   0.0s\n",
      "[CV 1/3; 54/140] START n_neighbors=63...........................................\n",
      "[CV 1/3; 54/140] END ............n_neighbors=63;, score=0.500 total time=   0.0s\n",
      "[CV 1/3; 65/140] START n_neighbors=74...........................................\n",
      "[CV 1/3; 65/140] END ............n_neighbors=74;, score=0.429 total time=   0.0s\n",
      "[CV 2/3; 65/140] START n_neighbors=74...........................................\n",
      "[CV 2/3; 65/140] END ............n_neighbors=74;, score=0.414 total time=   0.0s\n",
      "[CV 3/3; 65/140] START n_neighbors=74...........................................\n",
      "[CV 3/3; 65/140] END ............n_neighbors=74;, score=0.308 total time=   0.0s\n",
      "[CV 1/3; 66/140] START n_neighbors=75...........................................\n",
      "[CV 1/3; 66/140] END ............n_neighbors=75;, score=0.429 total time=   0.0s\n",
      "[CV 2/3; 66/140] START n_neighbors=75...........................................\n",
      "[CV 2/3; 66/140] END ............n_neighbors=75;, score=0.409 total time=   0.0s\n",
      "[CV 3/3; 66/140] START n_neighbors=75...........................................\n",
      "[CV 3/3; 66/140] END ............n_neighbors=75;, score=0.308 total time=   0.1s\n",
      "[CV 1/3; 67/140] START n_neighbors=76...........................................\n",
      "[CV 1/3; 67/140] END ............n_neighbors=76;, score=0.410 total time=   0.1s\n",
      "[CV 2/3; 67/140] START n_neighbors=76...........................................\n",
      "[CV 2/3; 67/140] END ............n_neighbors=76;, score=0.372 total time=   0.0s\n",
      "[CV 1/3; 81/140] START n_neighbors=90...........................................\n",
      "[CV 1/3; 81/140] END ............n_neighbors=90;, score=0.316 total time=   0.0s\n",
      "[CV 2/3; 81/140] START n_neighbors=90...........................................\n",
      "[CV 2/3; 81/140] END ............n_neighbors=90;, score=0.308 total time=   0.0s\n",
      "[CV 3/3; 81/140] START n_neighbors=90...........................................\n",
      "[CV 3/3; 81/140] END ............n_neighbors=90;, score=0.270 total time=   0.0s\n",
      "[CV 1/3; 82/140] START n_neighbors=91...........................................\n",
      "[CV 1/3; 82/140] END ............n_neighbors=91;, score=0.333 total time=   0.0s\n",
      "[CV 2/3; 82/140] START n_neighbors=91...........................................\n",
      "[CV 2/3; 82/140] END ............n_neighbors=91;, score=0.308 total time=   0.0s\n",
      "[CV 3/3; 82/140] START n_neighbors=91...........................................\n",
      "[CV 3/3; 82/140] END ............n_neighbors=91;, score=0.270 total time=   0.0s\n",
      "[CV 1/3; 83/140] START n_neighbors=92...........................................\n",
      "[CV 1/3; 83/140] END ............n_neighbors=92;, score=0.333 total time=   0.0s\n",
      "[CV 2/3; 83/140] START n_neighbors=92...........................................\n",
      "[CV 2/3; 83/140] END ............n_neighbors=92;, score=0.308 total time=   0.0s\n",
      "[CV 1/3; 89/140] START n_neighbors=98...........................................\n",
      "[CV 1/3; 89/140] END ............n_neighbors=98;, score=0.312 total time=   0.0s\n",
      "[CV 2/3; 89/140] START n_neighbors=98...........................................\n",
      "[CV 2/3; 89/140] END ............n_neighbors=98;, score=0.286 total time=   0.0s\n",
      "[CV 3/3; 89/140] START n_neighbors=98...........................................\n",
      "[CV 3/3; 89/140] END ............n_neighbors=98;, score=0.197 total time=   0.0s\n",
      "[CV 1/3; 90/140] START n_neighbors=99...........................................\n",
      "[CV 1/3; 90/140] END ............n_neighbors=99;, score=0.333 total time=   0.0s\n",
      "[CV 2/3; 90/140] START n_neighbors=99...........................................\n",
      "[CV 2/3; 90/140] END ............n_neighbors=99;, score=0.282 total time=   0.0s\n",
      "[CV 3/3; 90/140] START n_neighbors=99...........................................\n",
      "[CV 3/3; 90/140] END ............n_neighbors=99;, score=0.197 total time=   0.0s\n",
      "[CV 1/3; 91/140] START n_neighbors=100..........................................\n",
      "[CV 1/3; 91/140] END ...........n_neighbors=100;, score=0.289 total time=   0.0s\n",
      "[CV 2/3; 91/140] START n_neighbors=100..........................................\n",
      "[CV 2/3; 91/140] END ...........n_neighbors=100;, score=0.286 total time=   0.0s\n",
      "[CV 2/3; 102/140] START n_neighbors=111.........................................\n",
      "[CV 2/3; 102/140] END ..........n_neighbors=111;, score=0.260 total time=   0.0s\n",
      "[CV 3/3; 102/140] START n_neighbors=111.........................................\n",
      "[CV 3/3; 102/140] END ..........n_neighbors=111;, score=0.176 total time=   0.0s\n",
      "[CV 1/3; 103/140] START n_neighbors=112.........................................\n",
      "[CV 1/3; 103/140] END ..........n_neighbors=112;, score=0.316 total time=   0.0s\n",
      "[CV 2/3; 103/140] START n_neighbors=112.........................................\n",
      "[CV 2/3; 103/140] END ..........n_neighbors=112;, score=0.263 total time=   0.1s\n",
      "[CV 3/3; 103/140] START n_neighbors=112.........................................\n",
      "[CV 3/3; 103/140] END ..........n_neighbors=112;, score=0.121 total time=   0.0s\n",
      "Best score: 0.545284 using {'n_neighbors': 15}\n",
      "f1_score:  0.624113475177305\n",
      "accuracy:  0.7705627705627706\n"
     ]
    },
    {
     "data": {
      "image/png": "[encoded data removed]",
      "text/plain": [
       "<Figure size 432x288 with 2 Axes>"
      ]
     },
     "metadata": {
      "needs_background": "light"
     },
     "output_type": "display_data"
    }
   ],
   "source": [
    "#DEFINE  PARAMETERS GRID\n",
    "from sklearn.neighbors import KNeighborsClassifier\n",
    "import numpy as np\n",
    "classifier = KNeighborsClassifier()\n",
    "parameters = {'n_neighbors':np.arange(10,150)} # WE BEGIN FROM 10 TO PREVENT OVERFITTING\n",
    "\n",
    "from sklearn.model_selection import GridSearchCV\n",
    "gs = GridSearchCV(classifier, parameters, cv=3, scoring = 'f1', verbose=50, n_jobs=-1)\n",
    "gs = gs.fit(scaled_X_train, y_train)\n",
    "\n",
    "#Prediction\n",
    "print(\"Best score: %f using %s\" % (gs.best_score_, gs.best_params_))\n",
    "best_model = gs.best_estimator_\n",
    "y_pred = best_model.predict(scaled_X_test)\n",
    "\n",
    "\n",
    "print(\"f1_score: \", metrics.f1_score(y_test, y_pred))\n",
    "print(\"accuracy: \", metrics.accuracy_score(y_test, y_pred))\n",
    "\n",
    "from sklearn.metrics import confusion_matrix\n",
    "confusion_matrix(y_test, y_pred)\n",
    "\n",
    "sns.heatmap(confusion_matrix(y_test, y_pred), annot=True, fmt='d', cmap=\"Blues\"); #annot=True to annotate cells fmt: format\n"
   ]
  },
  {
   "cell_type": "code",
   "execution_count": 38,
   "metadata": {},
   "outputs": [
    {
     "data": {
      "image/png": "[encoded data removed]",
      "text/plain": [
       "<Figure size 432x288 with 1 Axes>"
      ]
     },
     "metadata": {
      "needs_background": "light"
     },
     "output_type": "display_data"
    },
    {
     "name": "stdout",
     "output_type": "stream",
     "text": [
      "AUC: 0.84\n"
     ]
    }
   ],
   "source": [
    "model = KNeighborsClassifier(n_neighbors=15)\n",
    "model.fit(scaled_X_train, y_train)\n",
    "y_pred = model.predict(scaled_X_test)\n",
    "\n",
    "y_probs = model.predict_proba(scaled_X_test) #predict_proba gives the probabilities for the target (0 and 1 in your case) \n",
    "\n",
    "fpr, tpr, thresholds=metrics.roc_curve(y_test,  y_probs[:,1])\n",
    "\n",
    "import matplotlib.pyplot as plt\n",
    "plt.plot(fpr, tpr, label='ROC')\n",
    "plt.plot([0, 1], [0, 1], color='darkblue', linestyle='--')\n",
    "plt.xlabel('False Positive Rate')\n",
    "plt.ylabel('True Positive Rate')\n",
    "plt.title('Receiver Operating Characteristic (ROC) Curve')\n",
    "plt.legend()\n",
    "plt.show()\n",
    "\n",
    "auc = metrics.roc_auc_score(y_test, y_probs[:,1])\n",
    "print('AUC: %.2f' % auc)"
   ]
  },
  {
   "cell_type": "code",
   "execution_count": 40,
   "metadata": {},
   "outputs": [
    {
     "name": "stdout",
     "output_type": "stream",
     "text": [
      "***RESULTS ON TRAIN SET***\n",
      "precision:  0.723404255319149\n",
      "recall:  0.5454545454545454\n",
      "f1_score:  0.6219512195121951\n",
      "accuracy:  0.7690875232774674\n",
      "---\n",
      "***RESULTS ON TEST SET***\n",
      "precision:  0.7333333333333333\n",
      "recall:  0.5432098765432098\n",
      "f1_score:  0.624113475177305\n",
      "accuracy:  0.7705627705627706\n"
     ]
    }
   ],
   "source": [
    "y_pred_train = best_model.predict(scaled_X_train)\n",
    "\n",
    "print('***RESULTS ON TRAIN SET***')\n",
    "print(\"precision: \", metrics.precision_score(y_train, y_pred_train)) # tp / (tp + fp)\n",
    "print(\"recall: \", metrics.recall_score(y_train, y_pred_train)) # tp / (tp + fn)\n",
    "print(\"f1_score: \", metrics.f1_score(y_train, y_pred_train)) #F1 = 2 * (precision * recall) / (precision + recall)\n",
    "print(\"accuracy: \", metrics.accuracy_score(y_train, y_pred_train)) # (tp+tn)/m\n",
    "print('---')\n",
    "print('***RESULTS ON TEST SET***')\n",
    "print(\"precision: \", metrics.precision_score(y_test, y_pred)) # tp / (tp + fp)\n",
    "print(\"recall: \", metrics.recall_score(y_test, y_pred)) # tp / (tp + fn)\n",
    "print(\"f1_score: \", metrics.f1_score(y_test, y_pred)) #F1 = 2 * (precision * recall) / (precision + recall)\n",
    "print(\"accuracy: \", metrics.accuracy_score(y_test, y_pred)) # (tp+tn)/m"
   ]
  },
  {
   "cell_type": "code",
   "execution_count": 41,
   "metadata": {},
   "outputs": [
    {
     "data": {
      "image/png": "[encoded data removed]",
      "text/plain": [
       "<Figure size 432x288 with 1 Axes>"
      ]
     },
     "metadata": {
      "needs_background": "light"
     },
     "output_type": "display_data"
    }
   ],
   "source": [
    "score_train=[]\n",
    "score_test=[]\n",
    "\n",
    "neighbors=range(1,100,1)\n",
    "\n",
    "for i in neighbors:\n",
    "    knn = KNeighborsClassifier(n_neighbors=i)\n",
    "    knn.fit(scaled_X_train,y_train)\n",
    "    y_pred_train = knn.predict(scaled_X_train)\n",
    "    y_pred_test = knn.predict(scaled_X_test)\n",
    "    score_train.append( metrics.f1_score(y_train, y_pred_train))\n",
    "    score_test.append( metrics.f1_score(y_test, y_pred_test))\n",
    "\n",
    "plt.xlabel('Neighbors')\n",
    "plt.ylabel('F1')\n",
    "plt.plot (neighbors,score_train, color='blue', alpha=1.00)\n",
    "plt.plot (neighbors,score_test, color='red', alpha=1.00)\n",
    "\n",
    "plt.show()"
   ]
  },
  {
   "cell_type": "markdown",
   "metadata": {},
   "source": [
    "## Apply PCA"
   ]
  },
  {
   "cell_type": "code",
   "execution_count": 42,
   "metadata": {},
   "outputs": [],
   "source": [
    "#PCA fit\n",
    "from sklearn.decomposition import PCA\n",
    "pca = PCA()\n",
    "pca.fit(scaled_X)\n",
    "df_pca = pd.DataFrame(pca.transform(scaled_X))"
   ]
  },
  {
   "cell_type": "code",
   "execution_count": 43,
   "metadata": {},
   "outputs": [
    {
     "data": {
      "image/png": "[encoded data removed]",
      "text/plain": [
       "<Figure size 432x288 with 1 Axes>"
      ]
     },
     "metadata": {
      "needs_background": "light"
     },
     "output_type": "display_data"
    }
   ],
   "source": [
    "explained_variance=pd.DataFrame(pca.explained_variance_ratio_)\n",
    "%matplotlib inline\n",
    "import seaborn as sns\n",
    "ax = sns.barplot( data=explained_variance.transpose())"
   ]
  },
  {
   "cell_type": "code",
   "execution_count": 44,
   "metadata": {},
   "outputs": [
    {
     "data": {
      "text/html": [
       "<div>\n",
       "<style scoped>\n",
       "    .dataframe tbody tr th:only-of-type {\n",
       "        vertical-align: middle;\n",
       "    }\n",
       "\n",
       "    .dataframe tbody tr th {\n",
       "        vertical-align: top;\n",
       "    }\n",
       "\n",
       "    .dataframe thead th {\n",
       "        text-align: right;\n",
       "    }\n",
       "</style>\n",
       "<table border=\"1\" class=\"dataframe\">\n",
       "  <thead>\n",
       "    <tr style=\"text-align: right;\">\n",
       "      <th></th>\n",
       "      <th>timespreg</th>\n",
       "      <th>gluctol</th>\n",
       "      <th>diaspb</th>\n",
       "      <th>triceps</th>\n",
       "      <th>insulin</th>\n",
       "      <th>massindex</th>\n",
       "      <th>pedigree</th>\n",
       "      <th>age</th>\n",
       "    </tr>\n",
       "  </thead>\n",
       "  <tbody>\n",
       "    <tr>\n",
       "      <th>0</th>\n",
       "      <td>0.128432</td>\n",
       "      <td>0.393083</td>\n",
       "      <td>0.360003</td>\n",
       "      <td>0.439824</td>\n",
       "      <td>0.435026</td>\n",
       "      <td>0.451941</td>\n",
       "      <td>0.270611</td>\n",
       "      <td>0.198027</td>\n",
       "    </tr>\n",
       "    <tr>\n",
       "      <th>1</th>\n",
       "      <td>0.593786</td>\n",
       "      <td>0.174029</td>\n",
       "      <td>0.183892</td>\n",
       "      <td>-0.331965</td>\n",
       "      <td>-0.250781</td>\n",
       "      <td>-0.100960</td>\n",
       "      <td>-0.122069</td>\n",
       "      <td>0.620589</td>\n",
       "    </tr>\n",
       "    <tr>\n",
       "      <th>2</th>\n",
       "      <td>-0.013087</td>\n",
       "      <td>0.467923</td>\n",
       "      <td>-0.535494</td>\n",
       "      <td>-0.237674</td>\n",
       "      <td>0.336709</td>\n",
       "      <td>-0.361865</td>\n",
       "      <td>0.433189</td>\n",
       "      <td>0.075248</td>\n",
       "    </tr>\n",
       "    <tr>\n",
       "      <th>3</th>\n",
       "      <td>0.080691</td>\n",
       "      <td>-0.404329</td>\n",
       "      <td>0.055986</td>\n",
       "      <td>0.037976</td>\n",
       "      <td>-0.349944</td>\n",
       "      <td>0.053646</td>\n",
       "      <td>0.833680</td>\n",
       "      <td>0.071201</td>\n",
       "    </tr>\n",
       "    <tr>\n",
       "      <th>4</th>\n",
       "      <td>-0.475606</td>\n",
       "      <td>0.466328</td>\n",
       "      <td>0.327953</td>\n",
       "      <td>-0.487862</td>\n",
       "      <td>-0.346935</td>\n",
       "      <td>0.253204</td>\n",
       "      <td>0.119810</td>\n",
       "      <td>-0.109290</td>\n",
       "    </tr>\n",
       "    <tr>\n",
       "      <th>5</th>\n",
       "      <td>0.193598</td>\n",
       "      <td>0.094162</td>\n",
       "      <td>-0.634116</td>\n",
       "      <td>0.009589</td>\n",
       "      <td>-0.270651</td>\n",
       "      <td>0.685372</td>\n",
       "      <td>-0.085784</td>\n",
       "      <td>-0.033357</td>\n",
       "    </tr>\n",
       "    <tr>\n",
       "      <th>6</th>\n",
       "      <td>-0.588790</td>\n",
       "      <td>-0.060153</td>\n",
       "      <td>-0.192118</td>\n",
       "      <td>0.282213</td>\n",
       "      <td>-0.132010</td>\n",
       "      <td>-0.035366</td>\n",
       "      <td>-0.086091</td>\n",
       "      <td>0.712085</td>\n",
       "    </tr>\n",
       "    <tr>\n",
       "      <th>7</th>\n",
       "      <td>0.117841</td>\n",
       "      <td>0.450355</td>\n",
       "      <td>-0.011296</td>\n",
       "      <td>0.566284</td>\n",
       "      <td>-0.548621</td>\n",
       "      <td>-0.341518</td>\n",
       "      <td>-0.008259</td>\n",
       "      <td>-0.211662</td>\n",
       "    </tr>\n",
       "  </tbody>\n",
       "</table>\n",
       "</div>"
      ],
      "text/plain": [
       "   timespreg   gluctol    diaspb   triceps   insulin  massindex  pedigree  \\\n",
       "0   0.128432  0.393083  0.360003  0.439824  0.435026   0.451941  0.270611   \n",
       "1   0.593786  0.174029  0.183892 -0.331965 -0.250781  -0.100960 -0.122069   \n",
       "2  -0.013087  0.467923 -0.535494 -0.237674  0.336709  -0.361865  0.433189   \n",
       "3   0.080691 -0.404329  0.055986  0.037976 -0.349944   0.053646  0.833680   \n",
       "4  -0.475606  0.466328  0.327953 -0.487862 -0.346935   0.253204  0.119810   \n",
       "5   0.193598  0.094162 -0.634116  0.009589 -0.270651   0.685372 -0.085784   \n",
       "6  -0.588790 -0.060153 -0.192118  0.282213 -0.132010  -0.035366 -0.086091   \n",
       "7   0.117841  0.450355 -0.011296  0.566284 -0.548621  -0.341518 -0.008259   \n",
       "\n",
       "        age  \n",
       "0  0.198027  \n",
       "1  0.620589  \n",
       "2  0.075248  \n",
       "3  0.071201  \n",
       "4 -0.109290  \n",
       "5 -0.033357  \n",
       "6  0.712085  \n",
       "7 -0.211662  "
      ]
     },
     "execution_count": 44,
     "metadata": {},
     "output_type": "execute_result"
    }
   ],
   "source": [
    "pd.DataFrame(pca.components_,columns=X.columns)"
   ]
  },
  {
   "cell_type": "code",
   "execution_count": 45,
   "metadata": {},
   "outputs": [],
   "source": [
    "X_pca = pd.DataFrame(data = pca.transform(scaled_X)\n",
    "             ,columns = ['pc1', 'pc2','pc3','pc4','pc5', 'pc6','pc7','pc8'])\n",
    "\n",
    "X_train_pca = pd.DataFrame(data = pca.transform(scaled_X_train)\n",
    "             ,columns = ['pc1', 'pc2','pc3','pc4','pc5', 'pc6','pc7','pc8'])\n",
    "\n",
    "X_test_pca = pd.DataFrame(data = pca.transform(scaled_X_test)\n",
    "             ,columns = ['pc1', 'pc2','pc3','pc4','pc5', 'pc6','pc7','pc8'])\n"
   ]
  },
  {
   "cell_type": "code",
   "execution_count": 46,
   "metadata": {},
   "outputs": [
    {
     "data": {
      "image/png": "[encoded data removed]",
      "text/plain": [
       "<Figure size 432x288 with 1 Axes>"
      ]
     },
     "metadata": {
      "needs_background": "light"
     },
     "output_type": "display_data"
    }
   ],
   "source": [
    "import matplotlib.pyplot as plt\n",
    "\n",
    "x = X_train_pca.iloc[:,0]\n",
    "y = X_train_pca.iloc[:,1]\n",
    "\n",
    "plt.scatter(x, y,alpha=0.2,c=y_train )\n",
    "plt.show()"
   ]
  },
  {
   "cell_type": "code",
   "execution_count": 47,
   "metadata": {},
   "outputs": [
    {
     "data": {
      "image/png": "[encoded data removed]",
      "text/plain": [
       "<Figure size 432x288 with 1 Axes>"
      ]
     },
     "metadata": {
      "needs_background": "light"
     },
     "output_type": "display_data"
    }
   ],
   "source": [
    "import matplotlib.pyplot as plt\n",
    "\n",
    "x = X_test_pca.iloc[:,0]\n",
    "y = X_test_pca.iloc[:,1]\n",
    "\n",
    "plt.scatter(x, y,alpha=0.2,c=y_test )\n",
    "plt.show()"
   ]
  },
  {
   "cell_type": "markdown",
   "metadata": {},
   "source": [
    "### Using two PC's"
   ]
  },
  {
   "cell_type": "code",
   "execution_count": 48,
   "metadata": {},
   "outputs": [
    {
     "name": "stdout",
     "output_type": "stream",
     "text": [
      "Fitting 5 folds for each of 90 candidates, totalling 450 fits\n",
      "[CV 3/3; 97/140] START n_neighbors=106..........................................\n",
      "[CV 3/3; 97/140] END ...........n_neighbors=106;, score=0.147 total time=   0.0s\n",
      "[CV 1/3; 98/140] START n_neighbors=107..........................................\n",
      "[CV 1/3; 98/140] END ...........n_neighbors=107;, score=0.316 total time=   0.0s\n",
      "[CV 2/3; 98/140] START n_neighbors=107..........................................\n",
      "[CV 2/3; 98/140] END ...........n_neighbors=107;, score=0.263 total time=   0.0s\n",
      "[CV 3/3; 98/140] START n_neighbors=107..........................................\n",
      "[CV 3/3; 98/140] END ...........n_neighbors=107;, score=0.174 total time=   0.0s\n",
      "[CV 1/3; 99/140] START n_neighbors=108..........................................\n",
      "[CV 1/3; 99/140] END ...........n_neighbors=108;, score=0.293 total time=   0.0s\n",
      "[CV 2/3; 99/140] START n_neighbors=108..........................................\n",
      "[CV 2/3; 99/140] END ...........n_neighbors=108;, score=0.263 total time=   0.0s\n",
      "[CV 3/3; 107/140] START n_neighbors=116.........................................\n",
      "[CV 3/3; 107/140] END ..........n_neighbors=116;, score=0.092 total time=   0.0s\n",
      "[CV 1/3; 108/140] START n_neighbors=117.........................................\n",
      "[CV 1/3; 108/140] END ..........n_neighbors=117;, score=0.316 total time=   0.0s\n",
      "[CV 2/3; 108/140] START n_neighbors=117.........................................\n",
      "[CV 2/3; 108/140] END ..........n_neighbors=117;, score=0.243 total time=   0.0s\n",
      "[CV 3/3; 108/140] START n_neighbors=117.........................................\n",
      "[CV 3/3; 108/140] END ..........n_neighbors=117;, score=0.092 total time=   0.0s\n",
      "[CV 1/3; 109/140] START n_neighbors=118.........................................\n",
      "[CV 1/3; 109/140] END ..........n_neighbors=118;, score=0.293 total time=   0.0s\n",
      "[CV 2/3; 109/140] START n_neighbors=118.........................................\n",
      "[CV 2/3; 109/140] END ..........n_neighbors=118;, score=0.219 total time=   0.0s\n",
      "[CV 3/3; 109/140] START n_neighbors=118.........................................\n",
      "[CV 3/3; 109/140] END ..........n_neighbors=118;, score=0.092 total time=   0.0s\n",
      "[CV 1/3; 110/140] START n_neighbors=119.........................................\n",
      "[CV 1/3; 110/140] END ..........n_neighbors=119;, score=0.316 total time=   0.0s\n",
      "[CV 2/3; 118/140] START n_neighbors=127.........................................\n",
      "[CV 2/3; 118/140] END ..........n_neighbors=127;, score=0.219 total time=   0.0s\n",
      "[CV 3/3; 118/140] START n_neighbors=127.........................................\n",
      "[CV 3/3; 118/140] END ..........n_neighbors=127;, score=0.092 total time=   0.0s\n",
      "[CV 1/3; 119/140] START n_neighbors=128.........................................\n",
      "[CV 1/3; 119/140] END ..........n_neighbors=128;, score=0.247 total time=   0.0s\n",
      "[CV 2/3; 119/140] START n_neighbors=128.........................................\n",
      "[CV 2/3; 119/140] END ..........n_neighbors=128;, score=0.169 total time=   0.0s\n",
      "[CV 3/3; 119/140] START n_neighbors=128.........................................\n",
      "[CV 3/3; 119/140] END ..........n_neighbors=128;, score=0.062 total time=   0.0s\n",
      "[CV 1/3; 120/140] START n_neighbors=129.........................................\n",
      "[CV 1/3; 120/140] END ..........n_neighbors=129;, score=0.293 total time=   0.0s\n",
      "[CV 2/3; 120/140] START n_neighbors=129.........................................\n",
      "[CV 2/3; 120/140] END ..........n_neighbors=129;, score=0.216 total time=   0.0s\n",
      "[CV 3/3; 120/140] START n_neighbors=129.........................................\n",
      "[CV 3/3; 120/140] END ..........n_neighbors=129;, score=0.092 total time=   0.0s\n",
      "[CV 3/3; 123/140] START n_neighbors=132.........................................\n",
      "[CV 3/3; 123/140] END ..........n_neighbors=132;, score=0.062 total time=   0.0s\n",
      "[CV 1/3; 124/140] START n_neighbors=133.........................................\n",
      "[CV 1/3; 124/140] END ..........n_neighbors=133;, score=0.222 total time=   0.0s\n",
      "[CV 2/3; 124/140] START n_neighbors=133.........................................\n",
      "[CV 2/3; 124/140] END ..........n_neighbors=133;, score=0.169 total time=   0.0s\n",
      "[CV 3/3; 124/140] START n_neighbors=133.........................................\n",
      "[CV 3/3; 124/140] END ..........n_neighbors=133;, score=0.062 total time=   0.0s\n",
      "[CV 1/3; 125/140] START n_neighbors=134.........................................\n",
      "[CV 1/3; 125/140] END ..........n_neighbors=134;, score=0.171 total time=   0.0s\n",
      "[CV 2/3; 125/140] START n_neighbors=134.........................................\n",
      "[CV 2/3; 125/140] END ..........n_neighbors=134;, score=0.171 total time=   0.0s\n",
      "[CV 3/3; 125/140] START n_neighbors=134.........................................\n",
      "[CV 3/3; 125/140] END ..........n_neighbors=134;, score=0.062 total time=   0.0s\n",
      "[CV 1/3; 126/140] START n_neighbors=135.........................................\n",
      "[CV 1/3; 126/140] END ..........n_neighbors=135;, score=0.197 total time=   0.0s\n",
      "[CV 2/3; 134/140] START n_neighbors=143.........................................\n",
      "[CV 2/3; 134/140] END ..........n_neighbors=143;, score=0.145 total time=   0.0s\n",
      "[CV 3/3; 134/140] START n_neighbors=143.........................................\n",
      "[CV 3/3; 134/140] END ..........n_neighbors=143;, score=0.092 total time=   0.0s\n",
      "[CV 1/3; 135/140] START n_neighbors=144.........................................\n",
      "[CV 1/3; 135/140] END ..........n_neighbors=144;, score=0.118 total time=   0.0s\n",
      "[CV 2/3; 135/140] START n_neighbors=144.........................................\n",
      "[CV 2/3; 135/140] END ..........n_neighbors=144;, score=0.145 total time=   0.0s\n",
      "[CV 3/3; 135/140] START n_neighbors=144.........................................\n",
      "[CV 3/3; 135/140] END ..........n_neighbors=144;, score=0.092 total time=   0.0s\n",
      "[CV 1/3; 136/140] START n_neighbors=145.........................................\n",
      "[CV 1/3; 136/140] END ..........n_neighbors=145;, score=0.118 total time=   0.0s\n",
      "[CV 2/3; 136/140] START n_neighbors=145.........................................\n",
      "[CV 2/3; 136/140] END ..........n_neighbors=145;, score=0.145 total time=   0.0s\n",
      "[CV 3/3; 136/140] START n_neighbors=145.........................................\n",
      "[CV 3/3; 136/140] END ..........n_neighbors=145;, score=0.092 total time=   0.0s\n",
      "[CV 2/5; 1/90] START n_neighbors=10.............................................\n",
      "[CV 2/5; 1/90] END ..............n_neighbors=10;, score=0.259 total time=   0.0s\n",
      "[CV 2/5; 2/90] START n_neighbors=11.............................................\n",
      "[CV 2/5; 2/90] END ..............n_neighbors=11;, score=0.316 total time=   0.0s\n",
      "[CV 1/5; 3/90] START n_neighbors=12.............................................\n",
      "[CV 1/5; 3/90] END ..............n_neighbors=12;, score=0.554 total time=   0.0s\n",
      "[CV 2/5; 3/90] START n_neighbors=12.............................................\n",
      "[CV 2/5; 3/90] END ..............n_neighbors=12;, score=0.259 total time=   0.0s\n",
      "[CV 4/5; 4/90] START n_neighbors=13.............................................\n",
      "[CV 4/5; 4/90] END ..............n_neighbors=13;, score=0.448 total time=   0.0s\n",
      "[CV 5/5; 4/90] START n_neighbors=13.............................................\n",
      "[CV 5/5; 4/90] END ..............n_neighbors=13;, score=0.542 total time=   0.0s\n",
      "[CV 5/5; 5/90] START n_neighbors=14.............................................\n",
      "[CV 5/5; 5/90] END ..............n_neighbors=14;, score=0.481 total time=   0.0s\n",
      "[CV 1/5; 6/90] START n_neighbors=15.............................................\n",
      "[CV 1/5; 6/90] END ..............n_neighbors=15;, score=0.531 total time=   0.0s\n",
      "[CV 2/5; 6/90] START n_neighbors=15.............................................\n",
      "[CV 2/5; 6/90] END ..............n_neighbors=15;, score=0.373 total time=   0.0s\n",
      "[CV 3/5; 6/90] START n_neighbors=15.............................................\n",
      "[CV 3/5; 6/90] END ..............n_neighbors=15;, score=0.478 total time=   0.0s\n",
      "[CV 1/5; 9/90] START n_neighbors=18.............................................\n",
      "[CV 1/5; 9/90] END ..............n_neighbors=18;, score=0.500 total time=   0.0s\n",
      "[CV 2/5; 9/90] START n_neighbors=18.............................................\n",
      "[CV 2/5; 9/90] END ..............n_neighbors=18;, score=0.296 total time=   0.0s\n",
      "[CV 3/5; 9/90] START n_neighbors=18.............................................\n",
      "[CV 1/3; 93/140] START n_neighbors=102..........................................\n",
      "[CV 1/3; 93/140] END ...........n_neighbors=102;, score=0.289 total time=   0.0s\n",
      "[CV 2/3; 93/140] START n_neighbors=102..........................................\n",
      "[CV 2/3; 93/140] END ...........n_neighbors=102;, score=0.260 total time=   0.0s\n",
      "[CV 3/3; 93/140] START n_neighbors=102..........................................\n",
      "[CV 3/3; 93/140] END ...........n_neighbors=102;, score=0.174 total time=   0.0s\n",
      "[CV 1/3; 94/140] START n_neighbors=103..........................................\n",
      "[CV 1/3; 94/140] END ...........n_neighbors=103;, score=0.289 total time=   0.0s\n",
      "[CV 1/3; 105/140] START n_neighbors=114.........................................\n",
      "[CV 1/3; 105/140] END ..........n_neighbors=114;, score=0.316 total time=   0.0s\n",
      "[CV 2/3; 105/140] START n_neighbors=114.........................................\n",
      "[CV 2/3; 105/140] END ..........n_neighbors=114;, score=0.240 total time=   0.0s\n",
      "[CV 3/3; 105/140] START n_neighbors=114.........................................\n",
      "[CV 3/3; 105/140] END ..........n_neighbors=114;, score=0.121 total time=   0.0s\n",
      "[CV 1/3; 106/140] START n_neighbors=115.........................................\n",
      "[CV 1/3; 106/140] END ..........n_neighbors=115;, score=0.316 total time=   0.0s\n",
      "[CV 2/3; 106/140] START n_neighbors=115.........................................\n",
      "[CV 2/3; 106/140] END ..........n_neighbors=115;, score=0.240 total time=   0.0s\n",
      "[CV 3/3; 106/140] START n_neighbors=115.........................................\n",
      "[CV 3/3; 106/140] END ..........n_neighbors=115;, score=0.121 total time=   0.0s\n",
      "[CV 1/3; 107/140] START n_neighbors=116.........................................\n",
      "[CV 1/3; 107/140] END ..........n_neighbors=116;, score=0.316 total time=   0.0s\n",
      "[CV 2/3; 107/140] START n_neighbors=116.........................................\n",
      "[CV 2/3; 107/140] END ..........n_neighbors=116;, score=0.243 total time=   0.0s\n",
      "[CV 3/3; 115/140] START n_neighbors=124.........................................\n",
      "[CV 3/3; 115/140] END ..........n_neighbors=124;, score=0.092 total time=   0.0s\n",
      "[CV 1/3; 116/140] START n_neighbors=125.........................................\n",
      "[CV 1/3; 116/140] END ..........n_neighbors=125;, score=0.316 total time=   0.0s\n",
      "[CV 2/3; 116/140] START n_neighbors=125.........................................\n",
      "[CV 2/3; 116/140] END ..........n_neighbors=125;, score=0.243 total time=   0.0s\n",
      "[CV 3/3; 116/140] START n_neighbors=125.........................................\n",
      "[CV 3/3; 116/140] END ..........n_neighbors=125;, score=0.092 total time=   0.0s\n",
      "[CV 1/3; 117/140] START n_neighbors=126.........................................\n",
      "[CV 1/3; 117/140] END ..........n_neighbors=126;, score=0.316 total time=   0.0s\n",
      "[CV 2/3; 117/140] START n_neighbors=126.........................................\n",
      "[CV 2/3; 117/140] END ..........n_neighbors=126;, score=0.194 total time=   0.0s\n",
      "[CV 3/3; 117/140] START n_neighbors=126.........................................\n",
      "[CV 3/3; 117/140] END ..........n_neighbors=126;, score=0.092 total time=   0.0s\n",
      "[CV 1/3; 118/140] START n_neighbors=127.........................................\n",
      "[CV 1/3; 118/140] END ..........n_neighbors=127;, score=0.316 total time=   0.0s\n",
      "[CV 1/3; 121/140] START n_neighbors=130.........................................\n",
      "[CV 1/3; 121/140] END ..........n_neighbors=130;, score=0.247 total time=   0.0s\n",
      "[CV 2/3; 121/140] START n_neighbors=130.........................................\n",
      "[CV 2/3; 121/140] END ..........n_neighbors=130;, score=0.167 total time=   0.0s\n",
      "[CV 3/3; 121/140] START n_neighbors=130.........................................\n",
      "[CV 3/3; 121/140] END ..........n_neighbors=130;, score=0.062 total time=   0.0s\n",
      "[CV 1/3; 122/140] START n_neighbors=131.........................................\n",
      "[CV 1/3; 122/140] END ..........n_neighbors=131;, score=0.293 total time=   0.0s\n",
      "[CV 2/3; 122/140] START n_neighbors=131.........................................\n",
      "[CV 2/3; 122/140] END ..........n_neighbors=131;, score=0.192 total time=   0.0s\n",
      "[CV 3/3; 122/140] START n_neighbors=131.........................................\n",
      "[CV 3/3; 122/140] END ..........n_neighbors=131;, score=0.062 total time=   0.0s\n",
      "[CV 1/3; 123/140] START n_neighbors=132.........................................\n",
      "[CV 1/3; 123/140] END ..........n_neighbors=132;, score=0.197 total time=   0.0s\n",
      "[CV 2/3; 123/140] START n_neighbors=132.........................................\n",
      "[CV 2/3; 123/140] END ..........n_neighbors=132;, score=0.169 total time=   0.0s\n",
      "[CV 1/3; 137/140] START n_neighbors=146.........................................\n",
      "[CV 1/3; 137/140] END ..........n_neighbors=146;, score=0.118 total time=   0.0s\n",
      "[CV 3/3; 137/140] START n_neighbors=146.........................................\n",
      "[CV 3/3; 137/140] END ..........n_neighbors=146;, score=0.062 total time=   0.0s\n",
      "[CV 2/3; 138/140] START n_neighbors=147.........................................\n",
      "[CV 2/3; 138/140] END ..........n_neighbors=147;, score=0.171 total time=   0.0s\n",
      "[CV 1/3; 139/140] START n_neighbors=148.........................................\n",
      "[CV 1/3; 139/140] END ..........n_neighbors=148;, score=0.090 total time=   0.0s\n",
      "[CV 3/3; 139/140] START n_neighbors=148.........................................\n",
      "[CV 3/3; 139/140] END ..........n_neighbors=148;, score=0.062 total time=   0.0s\n",
      "[CV 2/3; 140/140] START n_neighbors=149.........................................\n",
      "[CV 2/3; 140/140] END ..........n_neighbors=149;, score=0.145 total time=   0.0s\n",
      "[CV 1/5; 1/90] START n_neighbors=10.............................................\n",
      "[CV 1/5; 1/90] END ..............n_neighbors=10;, score=0.571 total time=   0.0s\n",
      "[CV 3/5; 2/90] START n_neighbors=11.............................................\n",
      "[CV 3/5; 2/90] END ..............n_neighbors=11;, score=0.529 total time=   0.0s\n",
      "[CV 3/5; 3/90] START n_neighbors=12.............................................\n",
      "[CV 3/5; 3/90] END ..............n_neighbors=12;, score=0.516 total time=   0.0s\n",
      "[CV 4/5; 3/90] START n_neighbors=12.............................................\n",
      "[CV 4/5; 3/90] END ..............n_neighbors=12;, score=0.406 total time=   0.0s\n",
      "[CV 1/5; 5/90] START n_neighbors=14.............................................\n",
      "[CV 1/5; 5/90] END ..............n_neighbors=14;, score=0.548 total time=   0.0s\n",
      "[CV 2/5; 5/90] START n_neighbors=14.............................................\n",
      "[CV 2/5; 5/90] END ..............n_neighbors=14;, score=0.340 total time=   0.0s\n",
      "[CV 3/5; 7/90] START n_neighbors=16.............................................\n",
      "[CV 3/5; 7/90] END ..............n_neighbors=16;, score=0.485 total time=   0.0s\n",
      "[CV 4/5; 7/90] START n_neighbors=16.............................................\n",
      "[CV 4/5; 7/90] END ..............n_neighbors=16;, score=0.413 total time=   0.0s\n",
      "[CV 5/5; 7/90] START n_neighbors=16.............................................\n",
      "[CV 5/5; 7/90] END ..............n_neighbors=16;, score=0.453 total time=   0.0s\n",
      "[CV 1/5; 8/90] START n_neighbors=17.............................................\n",
      "[CV 1/5; 8/90] END ..............n_neighbors=17;, score=0.543 total time=   0.0s\n",
      "[CV 5/5; 9/90] START n_neighbors=18.............................................\n",
      "[CV 5/5; 9/90] END ..............n_neighbors=18;, score=0.423 total time=   0.0s\n",
      "[CV 1/5; 10/90] START n_neighbors=19............................................\n",
      "[CV 1/5; 10/90] END .............n_neighbors=19;, score=0.492 total time=   0.0s\n",
      "[CV 2/5; 10/90] START n_neighbors=19............................................\n",
      "[CV 2/5; 10/90] END .............n_neighbors=19;, score=0.345 total time=   0.0s\n",
      "[CV 3/5; 10/90] START n_neighbors=19............................................\n",
      "[CV 3/5; 10/90] END .............n_neighbors=19;, score=0.500 total time=   0.0s\n",
      "[CV 2/5; 12/90] START n_neighbors=21............................................\n",
      "[CV 2/5; 12/90] END .............n_neighbors=21;, score=0.407 total time=   0.0s\n",
      "[CV 3/5; 12/90] START n_neighbors=21............................................\n",
      "[CV 3/5; 12/90] END .............n_neighbors=21;, score=0.500 total time=   0.0s\n",
      "[CV 4/5; 12/90] START n_neighbors=21............................................\n",
      "[CV 3/3; 95/140] START n_neighbors=104..........................................\n",
      "[CV 3/3; 95/140] END ...........n_neighbors=104;, score=0.149 total time=   0.0s\n",
      "[CV 1/3; 96/140] START n_neighbors=105..........................................\n",
      "[CV 1/3; 96/140] END ...........n_neighbors=105;, score=0.289 total time=   0.0s\n",
      "[CV 2/3; 96/140] START n_neighbors=105..........................................\n",
      "[CV 2/3; 96/140] END ...........n_neighbors=105;, score=0.286 total time=   0.0s\n",
      "[CV 3/3; 96/140] START n_neighbors=105..........................................\n",
      "[CV 3/3; 96/140] END ...........n_neighbors=105;, score=0.171 total time=   0.0s\n",
      "[CV 3/3; 99/140] START n_neighbors=108..........................................\n",
      "[CV 3/3; 99/140] END ...........n_neighbors=108;, score=0.147 total time=   0.0s\n",
      "[CV 1/3; 100/140] START n_neighbors=109.........................................\n",
      "[CV 1/3; 100/140] END ..........n_neighbors=109;, score=0.316 total time=   0.1s\n",
      "[CV 2/3; 100/140] START n_neighbors=109.........................................\n",
      "[CV 2/3; 100/140] END ..........n_neighbors=109;, score=0.286 total time=   0.0s\n",
      "[CV 3/3; 100/140] START n_neighbors=109.........................................\n",
      "[CV 3/3; 100/140] END ..........n_neighbors=109;, score=0.147 total time=   0.0s\n",
      "[CV 1/3; 101/140] START n_neighbors=110.........................................\n",
      "[CV 1/3; 101/140] END ..........n_neighbors=110;, score=0.293 total time=   0.0s\n",
      "[CV 2/3; 101/140] START n_neighbors=110.........................................\n",
      "[CV 2/3; 101/140] END ..........n_neighbors=110;, score=0.263 total time=   0.0s\n",
      "[CV 3/3; 101/140] START n_neighbors=110.........................................\n",
      "[CV 3/3; 101/140] END ..........n_neighbors=110;, score=0.149 total time=   0.0s\n",
      "[CV 1/3; 102/140] START n_neighbors=111.........................................\n",
      "[CV 1/3; 102/140] END ..........n_neighbors=111;, score=0.316 total time=   0.0s\n",
      "[CV 2/3; 110/140] START n_neighbors=119.........................................\n",
      "[CV 2/3; 110/140] END ..........n_neighbors=119;, score=0.243 total time=   0.0s\n",
      "[CV 3/3; 110/140] START n_neighbors=119.........................................\n",
      "[CV 3/3; 110/140] END ..........n_neighbors=119;, score=0.092 total time=   0.0s\n",
      "[CV 1/3; 111/140] START n_neighbors=120.........................................\n",
      "[CV 1/3; 111/140] END ..........n_neighbors=120;, score=0.293 total time=   0.0s\n",
      "[CV 2/3; 111/140] START n_neighbors=120.........................................\n",
      "[CV 2/3; 111/140] END ..........n_neighbors=120;, score=0.219 total time=   0.0s\n",
      "[CV 3/3; 111/140] START n_neighbors=120.........................................\n",
      "[CV 3/3; 111/140] END ..........n_neighbors=120;, score=0.062 total time=   0.0s\n",
      "[CV 1/3; 112/140] START n_neighbors=121.........................................\n",
      "[CV 1/3; 112/140] END ..........n_neighbors=121;, score=0.316 total time=   0.0s\n",
      "[CV 2/3; 112/140] START n_neighbors=121.........................................\n",
      "[CV 2/3; 112/140] END ..........n_neighbors=121;, score=0.243 total time=   0.0s\n",
      "[CV 3/3; 112/140] START n_neighbors=121.........................................\n",
      "[CV 3/3; 112/140] END ..........n_neighbors=121;, score=0.062 total time=   0.1s\n",
      "[CV 2/3; 126/140] START n_neighbors=135.........................................\n",
      "[CV 2/3; 126/140] END ..........n_neighbors=135;, score=0.197 total time=   0.0s\n",
      "[CV 3/3; 126/140] START n_neighbors=135.........................................\n",
      "[CV 3/3; 126/140] END ..........n_neighbors=135;, score=0.092 total time=   0.0s\n",
      "[CV 1/3; 127/140] START n_neighbors=136.........................................\n",
      "[CV 1/3; 127/140] END ..........n_neighbors=136;, score=0.171 total time=   0.0s\n",
      "[CV 2/3; 127/140] START n_neighbors=136.........................................\n",
      "[CV 2/3; 127/140] END ..........n_neighbors=136;, score=0.197 total time=   0.0s\n",
      "[CV 3/3; 127/140] START n_neighbors=136.........................................\n",
      "[CV 3/3; 127/140] END ..........n_neighbors=136;, score=0.092 total time=   0.0s\n",
      "[CV 1/3; 128/140] START n_neighbors=137.........................................\n",
      "[CV 1/3; 128/140] END ..........n_neighbors=137;, score=0.171 total time=   0.0s\n",
      "[CV 2/3; 128/140] START n_neighbors=137.........................................\n",
      "[CV 2/3; 128/140] END ..........n_neighbors=137;, score=0.197 total time=   0.0s\n",
      "[CV 3/3; 128/140] START n_neighbors=137.........................................\n",
      "[CV 3/3; 128/140] END ..........n_neighbors=137;, score=0.092 total time=   0.0s\n",
      "[CV 3/3; 131/140] START n_neighbors=140.........................................\n",
      "[CV 3/3; 131/140] END ..........n_neighbors=140;, score=0.092 total time=   0.0s\n",
      "[CV 1/3; 132/140] START n_neighbors=141.........................................\n",
      "[CV 1/3; 132/140] END ..........n_neighbors=141;, score=0.145 total time=   0.0s\n",
      "[CV 2/3; 132/140] START n_neighbors=141.........................................\n",
      "[CV 2/3; 132/140] END ..........n_neighbors=141;, score=0.197 total time=   0.0s\n",
      "[CV 3/3; 132/140] START n_neighbors=141.........................................\n",
      "[CV 3/3; 132/140] END ..........n_neighbors=141;, score=0.092 total time=   0.0s\n",
      "[CV 1/3; 133/140] START n_neighbors=142.........................................\n",
      "[CV 1/3; 133/140] END ..........n_neighbors=142;, score=0.145 total time=   0.0s\n",
      "[CV 2/3; 133/140] START n_neighbors=142.........................................\n",
      "[CV 2/3; 133/140] END ..........n_neighbors=142;, score=0.145 total time=   0.0s\n",
      "[CV 3/3; 133/140] START n_neighbors=142.........................................\n",
      "[CV 3/3; 133/140] END ..........n_neighbors=142;, score=0.092 total time=   0.1s\n",
      "[CV 1/3; 134/140] START n_neighbors=143.........................................\n",
      "[CV 1/3; 134/140] END ..........n_neighbors=143;, score=0.145 total time=   0.0s\n",
      "[CV 4/5; 1/90] START n_neighbors=10.............................................\n",
      "[CV 4/5; 1/90] END ..............n_neighbors=10;, score=0.444 total time=   0.0s\n",
      "[CV 1/5; 2/90] START n_neighbors=11.............................................\n",
      "[CV 1/5; 2/90] END ..............n_neighbors=11;, score=0.571 total time=   0.0s\n",
      "[CV 5/5; 3/90] START n_neighbors=12.............................................\n",
      "[CV 5/5; 3/90] END ..............n_neighbors=12;, score=0.481 total time=   0.0s\n",
      "[CV 1/5; 4/90] START n_neighbors=13.............................................\n",
      "[CV 1/5; 4/90] END ..............n_neighbors=13;, score=0.580 total time=   0.0s\n",
      "[CV 3/5; 5/90] START n_neighbors=14.............................................\n",
      "[CV 3/5; 5/90] END ..............n_neighbors=14;, score=0.492 total time=   0.0s\n",
      "[CV 4/5; 5/90] START n_neighbors=14.............................................\n",
      "[CV 4/5; 5/90] END ..............n_neighbors=14;, score=0.431 total time=   0.0s\n",
      "[CV 2/5; 8/90] START n_neighbors=17.............................................\n",
      "[CV 2/5; 8/90] END ..............n_neighbors=17;, score=0.339 total time=   0.1s\n",
      "[CV 3/5; 8/90] START n_neighbors=17.............................................\n",
      "[CV 3/5; 8/90] END ..............n_neighbors=17;, score=0.522 total time=   0.0s\n",
      "[CV 4/5; 8/90] START n_neighbors=17.............................................\n",
      "[CV 4/5; 8/90] END ..............n_neighbors=17;, score=0.418 total time=   0.0s\n",
      "[CV 5/5; 8/90] START n_neighbors=17.............................................\n",
      "[CV 5/5; 8/90] END ..............n_neighbors=17;, score=0.500 total time=   0.0s\n",
      "[CV 1/5; 17/90] START n_neighbors=26............................................\n",
      "[CV 1/5; 17/90] END .............n_neighbors=26;, score=0.516 total time=   0.0s\n",
      "[CV 2/5; 17/90] START n_neighbors=26............................................\n",
      "[CV 2/5; 17/90] END .............n_neighbors=26;, score=0.407 total time=   0.0s\n",
      "[CV 3/5; 17/90] START n_neighbors=26............................................\n",
      "[CV 3/5; 17/90] END .............n_neighbors=26;, score=0.557 total time=   0.0s\n",
      "[CV 4/5; 17/90] START n_neighbors=26............................................\n",
      "[CV 4/5; 17/90] END .............n_neighbors=26;, score=0.400 total time=   0.0s\n",
      "[CV 5/5; 17/90] START n_neighbors=26............................................\n"
     ]
    },
    {
     "name": "stdout",
     "output_type": "stream",
     "text": [
      "[CV 1/3; 104/140] START n_neighbors=113.........................................\n",
      "[CV 1/3; 104/140] END ..........n_neighbors=113;, score=0.316 total time=   0.0s\n",
      "[CV 2/3; 104/140] START n_neighbors=113.........................................\n",
      "[CV 2/3; 104/140] END ..........n_neighbors=113;, score=0.282 total time=   0.0s\n",
      "[CV 3/3; 104/140] START n_neighbors=113.........................................\n",
      "[CV 3/3; 104/140] END ..........n_neighbors=113;, score=0.121 total time=   0.0s\n",
      "[CV 1/3; 113/140] START n_neighbors=122.........................................\n",
      "[CV 1/3; 113/140] END ..........n_neighbors=122;, score=0.316 total time=   0.0s\n",
      "[CV 2/3; 113/140] START n_neighbors=122.........................................\n",
      "[CV 2/3; 113/140] END ..........n_neighbors=122;, score=0.219 total time=   0.0s\n",
      "[CV 3/3; 113/140] START n_neighbors=122.........................................\n",
      "[CV 3/3; 113/140] END ..........n_neighbors=122;, score=0.062 total time=   0.0s\n",
      "[CV 1/3; 114/140] START n_neighbors=123.........................................\n",
      "[CV 1/3; 114/140] END ..........n_neighbors=123;, score=0.316 total time=   0.0s\n",
      "[CV 2/3; 114/140] START n_neighbors=123.........................................\n",
      "[CV 2/3; 114/140] END ..........n_neighbors=123;, score=0.240 total time=   0.0s\n",
      "[CV 3/3; 114/140] START n_neighbors=123.........................................\n",
      "[CV 3/3; 114/140] END ..........n_neighbors=123;, score=0.092 total time=   0.0s\n",
      "[CV 1/3; 115/140] START n_neighbors=124.........................................\n",
      "[CV 1/3; 115/140] END ..........n_neighbors=124;, score=0.316 total time=   0.0s\n",
      "[CV 2/3; 115/140] START n_neighbors=124.........................................\n",
      "[CV 2/3; 115/140] END ..........n_neighbors=124;, score=0.243 total time=   0.0s\n",
      "[CV 1/3; 129/140] START n_neighbors=138.........................................\n",
      "[CV 1/3; 129/140] END ..........n_neighbors=138;, score=0.118 total time=   0.0s\n",
      "[CV 2/3; 129/140] START n_neighbors=138.........................................\n",
      "[CV 2/3; 129/140] END ..........n_neighbors=138;, score=0.197 total time=   0.0s\n",
      "[CV 3/3; 129/140] START n_neighbors=138.........................................\n",
      "[CV 3/3; 129/140] END ..........n_neighbors=138;, score=0.092 total time=   0.0s\n",
      "[CV 1/3; 130/140] START n_neighbors=139.........................................\n",
      "[CV 1/3; 130/140] END ..........n_neighbors=139;, score=0.145 total time=   0.0s\n",
      "[CV 2/3; 130/140] START n_neighbors=139.........................................\n",
      "[CV 2/3; 130/140] END ..........n_neighbors=139;, score=0.222 total time=   0.0s\n",
      "[CV 3/3; 130/140] START n_neighbors=139.........................................\n",
      "[CV 3/3; 130/140] END ..........n_neighbors=139;, score=0.092 total time=   0.0s\n",
      "[CV 1/3; 131/140] START n_neighbors=140.........................................\n",
      "[CV 1/3; 131/140] END ..........n_neighbors=140;, score=0.118 total time=   0.0s\n",
      "[CV 2/3; 131/140] START n_neighbors=140.........................................\n",
      "[CV 2/3; 131/140] END ..........n_neighbors=140;, score=0.171 total time=   0.0s\n",
      "[CV 2/3; 137/140] START n_neighbors=146.........................................\n",
      "[CV 2/3; 137/140] END ..........n_neighbors=146;, score=0.145 total time=   0.0s\n",
      "[CV 1/3; 138/140] START n_neighbors=147.........................................\n",
      "[CV 1/3; 138/140] END ..........n_neighbors=147;, score=0.145 total time=   0.0s\n",
      "[CV 3/3; 138/140] START n_neighbors=147.........................................\n",
      "[CV 3/3; 138/140] END ..........n_neighbors=147;, score=0.092 total time=   0.0s\n",
      "[CV 2/3; 139/140] START n_neighbors=148.........................................\n",
      "[CV 2/3; 139/140] END ..........n_neighbors=148;, score=0.118 total time=   0.0s\n",
      "[CV 1/3; 140/140] START n_neighbors=149.........................................\n",
      "[CV 1/3; 140/140] END ..........n_neighbors=149;, score=0.090 total time=   0.0s\n",
      "[CV 3/3; 140/140] START n_neighbors=149.........................................\n",
      "[CV 3/3; 140/140] END ..........n_neighbors=149;, score=0.092 total time=   0.0s\n",
      "[CV 3/5; 1/90] START n_neighbors=10.............................................\n",
      "[CV 3/5; 1/90] END ..............n_neighbors=10;, score=0.548 total time=   0.0s\n",
      "[CV 5/5; 1/90] START n_neighbors=10.............................................\n",
      "[CV 5/5; 1/90] END ..............n_neighbors=10;, score=0.491 total time=   0.0s\n",
      "[CV 4/5; 2/90] START n_neighbors=11.............................................\n",
      "[CV 4/5; 2/90] END ..............n_neighbors=11;, score=0.448 total time=   0.0s\n",
      "[CV 5/5; 2/90] START n_neighbors=11.............................................\n",
      "[CV 5/5; 2/90] END ..............n_neighbors=11;, score=0.540 total time=   0.0s\n",
      "[CV 2/5; 4/90] START n_neighbors=13.............................................\n",
      "[CV 2/5; 4/90] END ..............n_neighbors=13;, score=0.339 total time=   0.0s\n",
      "[CV 3/5; 4/90] START n_neighbors=13.............................................\n",
      "[CV 3/5; 4/90] END ..............n_neighbors=13;, score=0.522 total time=   0.0s\n",
      "[CV 4/5; 6/90] START n_neighbors=15.............................................\n",
      "[CV 4/5; 6/90] END ..............n_neighbors=15;, score=0.448 total time=   0.0s\n",
      "[CV 5/5; 6/90] START n_neighbors=15.............................................\n",
      "[CV 5/5; 6/90] END ..............n_neighbors=15;, score=0.456 total time=   0.0s\n",
      "[CV 1/5; 7/90] START n_neighbors=16.............................................\n",
      "[CV 1/5; 7/90] END ..............n_neighbors=16;, score=0.557 total time=   0.0s\n",
      "[CV 2/5; 7/90] START n_neighbors=16.............................................\n",
      "[CV 2/5; 7/90] END ..............n_neighbors=16;, score=0.296 total time=   0.0s\n",
      "[CV 4/5; 10/90] START n_neighbors=19............................................\n",
      "[CV 4/5; 10/90] END .............n_neighbors=19;, score=0.406 total time=   0.0s\n",
      "[CV 5/5; 10/90] START n_neighbors=19............................................\n",
      "[CV 5/5; 10/90] END .............n_neighbors=19;, score=0.464 total time=   0.0s\n",
      "[CV 1/5; 11/90] START n_neighbors=20............................................\n",
      "[CV 1/5; 11/90] END .............n_neighbors=20;, score=0.508 total time=   0.0s\n",
      "[CV 2/5; 11/90] START n_neighbors=20............................................\n",
      "[CV 2/5; 11/90] END .............n_neighbors=20;, score=0.314 total time=   0.0s\n",
      "[CV 5/5; 13/90] START n_neighbors=22............................................\n",
      "[CV 5/5; 13/90] END .............n_neighbors=22;, score=0.385 total time=   0.0s\n",
      "[CV 1/5; 14/90] START n_neighbors=23............................................\n",
      "[CV 1/5; 14/90] END .............n_neighbors=23;, score=0.515 total time=   0.0s\n",
      "[CV 2/5; 14/90] START n_neighbors=23............................................\n",
      "[CV 2/5; 14/90] END .............n_neighbors=23;, score=0.407 total time=   0.0s\n",
      "[CV 3/5; 14/90] START n_neighbors=23............................................\n",
      "[CV 3/5; 14/90] END .............n_neighbors=23;, score=0.514 total time=   0.0s\n",
      "[CV 4/5; 14/90] START n_neighbors=23............................................\n",
      "[CV 4/5; 14/90] END .............n_neighbors=23;, score=0.400 total time=   0.0s\n",
      "[CV 5/5; 14/90] START n_neighbors=23............................................\n",
      "[CV 5/5; 14/90] END .............n_neighbors=23;, score=0.429 total time=   0.0s\n",
      "[CV 1/5; 15/90] START n_neighbors=24............................................\n",
      "[CV 1/5; 15/90] END .............n_neighbors=24;, score=0.508 total time=   0.0s\n",
      "[CV 2/5; 15/90] START n_neighbors=24............................................\n",
      "[CV 2/5; 15/90] END .............n_neighbors=24;, score=0.320 total time=   0.0s\n",
      "[CV 2/5; 20/90] START n_neighbors=29............................................\n",
      "[CV 2/5; 20/90] END .............n_neighbors=29;, score=0.421 total time=   0.0s\n",
      "[CV 3/5; 20/90] START n_neighbors=29............................................\n",
      "[CV 3/5; 20/90] END .............n_neighbors=29;, score=0.537 total time=   0.0s\n",
      "[CV 4/5; 20/90] START n_neighbors=29............................................\n",
      "[CV 4/5; 20/90] END .............n_neighbors=29;, score=0.426 total time=   0.0s\n",
      "[CV 5/5; 20/90] START n_neighbors=29............................................\n",
      "[CV 3/5; 9/90] END ..............n_neighbors=18;, score=0.531 total time=   0.0s\n",
      "[CV 4/5; 9/90] START n_neighbors=18.............................................\n",
      "[CV 4/5; 9/90] END ..............n_neighbors=18;, score=0.387 total time=   0.0s\n",
      "[CV 3/5; 11/90] START n_neighbors=20............................................\n",
      "[CV 3/5; 11/90] END .............n_neighbors=20;, score=0.500 total time=   0.0s\n",
      "[CV 4/5; 11/90] START n_neighbors=20............................................\n",
      "[CV 4/5; 11/90] END .............n_neighbors=20;, score=0.426 total time=   0.0s\n",
      "[CV 5/5; 11/90] START n_neighbors=20............................................\n",
      "[CV 5/5; 11/90] END .............n_neighbors=20;, score=0.431 total time=   0.0s\n",
      "[CV 1/5; 12/90] START n_neighbors=21............................................\n",
      "[CV 1/5; 12/90] END .............n_neighbors=21;, score=0.523 total time=   0.0s\n",
      "[CV 3/5; 15/90] START n_neighbors=24............................................\n",
      "[CV 3/5; 15/90] END .............n_neighbors=24;, score=0.545 total time=   0.0s\n",
      "[CV 4/5; 15/90] START n_neighbors=24............................................\n",
      "[CV 4/5; 15/90] END .............n_neighbors=24;, score=0.419 total time=   0.0s\n",
      "[CV 5/5; 15/90] START n_neighbors=24............................................\n",
      "[CV 5/5; 15/90] END .............n_neighbors=24;, score=0.423 total time=   0.0s\n",
      "[CV 1/5; 16/90] START n_neighbors=25............................................\n",
      "[CV 1/5; 16/90] END .............n_neighbors=25;, score=0.559 total time=   0.0s\n",
      "[CV 2/5; 16/90] START n_neighbors=25............................................\n",
      "[CV 2/5; 16/90] END .............n_neighbors=25;, score=0.459 total time=   0.0s\n",
      "[CV 3/5; 16/90] START n_neighbors=25............................................\n",
      "[CV 3/5; 16/90] END .............n_neighbors=25;, score=0.537 total time=   0.0s\n",
      "[CV 4/5; 16/90] START n_neighbors=25............................................\n",
      "[CV 4/5; 16/90] END .............n_neighbors=25;, score=0.431 total time=   0.0s\n",
      "[CV 5/5; 16/90] START n_neighbors=25............................................\n",
      "[CV 5/5; 16/90] END .............n_neighbors=25;, score=0.429 total time=   0.0s\n",
      "[CV 5/5; 21/90] START n_neighbors=30............................................\n",
      "[CV 5/5; 21/90] END .............n_neighbors=30;, score=0.407 total time=   0.0s\n",
      "[CV 1/5; 22/90] START n_neighbors=31............................................\n",
      "[CV 1/5; 22/90] END .............n_neighbors=31;, score=0.545 total time=   0.0s\n",
      "[CV 2/5; 22/90] START n_neighbors=31............................................\n",
      "[CV 2/5; 22/90] END .............n_neighbors=31;, score=0.351 total time=   0.0s\n",
      "[CV 3/5; 22/90] START n_neighbors=31............................................\n",
      "[CV 3/5; 22/90] END .............n_neighbors=31;, score=0.554 total time=   0.0s\n",
      "[CV 4/5; 22/90] START n_neighbors=31............................................\n",
      "[CV 4/5; 22/90] END .............n_neighbors=31;, score=0.393 total time=   0.0s\n",
      "[CV 5/5; 22/90] START n_neighbors=31............................................\n",
      "[CV 5/5; 22/90] END .............n_neighbors=31;, score=0.400 total time=   0.0s\n",
      "[CV 1/5; 23/90] START n_neighbors=32............................................\n",
      "[CV 1/5; 23/90] END .............n_neighbors=32;, score=0.516 total time=   0.0s\n",
      "[CV 2/5; 23/90] START n_neighbors=32............................................\n",
      "[CV 2/5; 23/90] END .............n_neighbors=32;, score=0.346 total time=   0.0s\n",
      "[CV 4/5; 26/90] START n_neighbors=35............................................\n",
      "[CV 4/5; 26/90] END .............n_neighbors=35;, score=0.444 total time=   0.0s\n",
      "[CV 5/5; 26/90] START n_neighbors=35............................................\n",
      "[CV 5/5; 26/90] END .............n_neighbors=35;, score=0.407 total time=   0.0s\n",
      "[CV 1/5; 27/90] START n_neighbors=36............................................\n",
      "[CV 1/5; 27/90] END .............n_neighbors=36;, score=0.475 total time=   0.0s\n",
      "[CV 2/5; 27/90] START n_neighbors=36............................................\n",
      "[CV 2/5; 27/90] END .............n_neighbors=36;, score=0.429 total time=   0.0s\n",
      "[CV 3/5; 27/90] START n_neighbors=36............................................\n",
      "[CV 3/5; 27/90] END .............n_neighbors=36;, score=0.526 total time=   0.0s\n",
      "[CV 4/5; 27/90] START n_neighbors=36............................................\n",
      "[CV 4/5; 27/90] END .............n_neighbors=36;, score=0.456 total time=   0.0s\n",
      "[CV 5/5; 27/90] START n_neighbors=36............................................\n",
      "[CV 5/5; 27/90] END .............n_neighbors=36;, score=0.377 total time=   0.0s\n",
      "[CV 1/5; 28/90] START n_neighbors=37............................................\n",
      "[CV 1/5; 28/90] END .............n_neighbors=37;, score=0.467 total time=   0.0s\n",
      "[CV 4/5; 34/90] START n_neighbors=43............................................\n",
      "[CV 4/5; 34/90] END .............n_neighbors=43;, score=0.467 total time=   0.0s\n",
      "[CV 5/5; 34/90] START n_neighbors=43............................................\n",
      "[CV 5/5; 34/90] END .............n_neighbors=43;, score=0.441 total time=   0.0s\n",
      "[CV 1/5; 35/90] START n_neighbors=44............................................\n",
      "[CV 1/5; 35/90] END .............n_neighbors=44;, score=0.525 total time=   0.0s\n",
      "[CV 2/5; 35/90] START n_neighbors=44............................................\n",
      "[CV 2/5; 35/90] END .............n_neighbors=44;, score=0.370 total time=   0.0s\n",
      "[CV 3/5; 35/90] START n_neighbors=44............................................\n",
      "[CV 3/5; 35/90] END .............n_neighbors=44;, score=0.557 total time=   0.0s\n",
      "[CV 4/5; 35/90] START n_neighbors=44............................................\n",
      "[CV 4/5; 35/90] END .............n_neighbors=44;, score=0.475 total time=   0.0s\n",
      "[CV 5/5; 35/90] START n_neighbors=44............................................\n",
      "[CV 5/5; 35/90] END .............n_neighbors=44;, score=0.429 total time=   0.0s\n",
      "[CV 1/5; 36/90] START n_neighbors=45............................................\n",
      "[CV 1/5; 36/90] END .............n_neighbors=45;, score=0.562 total time=   0.0s\n",
      "[CV 1/5; 41/90] START n_neighbors=50............................................\n",
      "[CV 1/5; 41/90] END .............n_neighbors=50;, score=0.516 total time=   0.0s\n",
      "[CV 2/5; 41/90] START n_neighbors=50............................................\n",
      "[CV 2/5; 41/90] END .............n_neighbors=50;, score=0.327 total time=   0.0s\n",
      "[CV 3/5; 41/90] START n_neighbors=50............................................\n",
      "[CV 3/5; 41/90] END .............n_neighbors=50;, score=0.526 total time=   0.0s\n",
      "[CV 4/5; 41/90] START n_neighbors=50............................................\n",
      "[CV 4/5; 41/90] END .............n_neighbors=50;, score=0.456 total time=   0.0s\n",
      "[CV 5/5; 41/90] START n_neighbors=50............................................\n",
      "[CV 5/5; 41/90] END .............n_neighbors=50;, score=0.444 total time=   0.0s\n",
      "[CV 1/5; 42/90] START n_neighbors=51............................................\n",
      "[CV 1/5; 42/90] END .............n_neighbors=51;, score=0.500 total time=   0.0s\n",
      "[CV 2/5; 42/90] START n_neighbors=51............................................\n",
      "[CV 2/5; 42/90] END .............n_neighbors=51;, score=0.377 total time=   0.0s\n",
      "[CV 3/5; 42/90] START n_neighbors=51............................................\n",
      "[CV 3/5; 42/90] END .............n_neighbors=51;, score=0.576 total time=   0.0s\n",
      "[CV 3/5; 47/90] START n_neighbors=56............................................\n",
      "[CV 3/5; 47/90] END .............n_neighbors=56;, score=0.526 total time=   0.0s\n",
      "[CV 4/5; 47/90] START n_neighbors=56............................................\n",
      "[CV 4/5; 47/90] END .............n_neighbors=56;, score=0.448 total time=   0.0s\n",
      "[CV 5/5; 47/90] START n_neighbors=56............................................\n",
      "[CV 5/5; 47/90] END .............n_neighbors=56;, score=0.464 total time=   0.0s\n",
      "[CV 1/5; 48/90] START n_neighbors=57............................................\n",
      "[CV 1/5; 48/90] END .............n_neighbors=57;, score=0.500 total time=   0.0s\n",
      "[CV 2/5; 48/90] START n_neighbors=57............................................\n",
      "[CV 2/5; 48/90] END .............n_neighbors=57;, score=0.370 total time=   0.0s\n",
      "[CV 4/5; 12/90] END .............n_neighbors=21;, score=0.406 total time=   0.0s\n",
      "[CV 5/5; 12/90] START n_neighbors=21............................................\n",
      "[CV 5/5; 12/90] END .............n_neighbors=21;, score=0.464 total time=   0.0s\n",
      "[CV 1/5; 13/90] START n_neighbors=22............................................\n",
      "[CV 1/5; 13/90] END .............n_neighbors=22;, score=0.516 total time=   0.0s\n",
      "[CV 2/5; 13/90] START n_neighbors=22............................................\n",
      "[CV 2/5; 13/90] END .............n_neighbors=22;, score=0.286 total time=   0.0s\n",
      "[CV 3/5; 13/90] START n_neighbors=22............................................\n",
      "[CV 3/5; 13/90] END .............n_neighbors=22;, score=0.507 total time=   0.0s\n",
      "[CV 4/5; 13/90] START n_neighbors=22............................................\n",
      "[CV 4/5; 13/90] END .............n_neighbors=22;, score=0.413 total time=   0.0s\n",
      "[CV 4/5; 18/90] START n_neighbors=27............................................\n",
      "[CV 4/5; 18/90] END .............n_neighbors=27;, score=0.444 total time=   0.0s\n",
      "[CV 5/5; 18/90] START n_neighbors=27............................................\n",
      "[CV 5/5; 18/90] END .............n_neighbors=27;, score=0.464 total time=   0.0s\n",
      "[CV 1/5; 19/90] START n_neighbors=28............................................\n",
      "[CV 1/5; 19/90] END .............n_neighbors=28;, score=0.545 total time=   0.0s\n",
      "[CV 2/5; 19/90] START n_neighbors=28............................................\n",
      "[CV 2/5; 19/90] END .............n_neighbors=28;, score=0.436 total time=   0.0s\n",
      "[CV 3/5; 19/90] START n_neighbors=28............................................\n",
      "[CV 3/5; 19/90] END .............n_neighbors=28;, score=0.581 total time=   0.0s\n",
      "[CV 4/5; 19/90] START n_neighbors=28............................................\n",
      "[CV 4/5; 19/90] END .............n_neighbors=28;, score=0.433 total time=   0.0s\n",
      "[CV 5/5; 19/90] START n_neighbors=28............................................\n",
      "[CV 5/5; 19/90] END .............n_neighbors=28;, score=0.444 total time=   0.0s\n",
      "[CV 1/5; 20/90] START n_neighbors=29............................................\n",
      "[CV 1/5; 20/90] END .............n_neighbors=29;, score=0.571 total time=   0.0s\n",
      "[CV 1/5; 25/90] START n_neighbors=34............................................\n",
      "[CV 1/5; 25/90] END .............n_neighbors=34;, score=0.508 total time=   0.0s\n",
      "[CV 2/5; 25/90] START n_neighbors=34............................................\n",
      "[CV 2/5; 25/90] END .............n_neighbors=34;, score=0.385 total time=   0.0s\n",
      "[CV 3/5; 25/90] START n_neighbors=34............................................\n",
      "[CV 3/5; 25/90] END .............n_neighbors=34;, score=0.548 total time=   0.0s\n",
      "[CV 4/5; 25/90] START n_neighbors=34............................................\n",
      "[CV 4/5; 25/90] END .............n_neighbors=34;, score=0.400 total time=   0.0s\n",
      "[CV 5/5; 25/90] START n_neighbors=34............................................\n",
      "[CV 5/5; 25/90] END .............n_neighbors=34;, score=0.407 total time=   0.0s\n",
      "[CV 1/5; 26/90] START n_neighbors=35............................................\n",
      "[CV 1/5; 26/90] END .............n_neighbors=35;, score=0.531 total time=   0.0s\n",
      "[CV 2/5; 26/90] START n_neighbors=35............................................\n",
      "[CV 2/5; 26/90] END .............n_neighbors=35;, score=0.483 total time=   0.0s\n",
      "[CV 3/5; 26/90] START n_neighbors=35............................................\n",
      "[CV 3/5; 26/90] END .............n_neighbors=35;, score=0.554 total time=   0.0s\n",
      "[CV 3/5; 31/90] START n_neighbors=40............................................\n",
      "[CV 3/5; 31/90] END .............n_neighbors=40;, score=0.542 total time=   0.0s\n",
      "[CV 4/5; 31/90] START n_neighbors=40............................................\n",
      "[CV 4/5; 31/90] END .............n_neighbors=40;, score=0.467 total time=   0.0s\n",
      "[CV 5/5; 31/90] START n_neighbors=40............................................\n",
      "[CV 5/5; 31/90] END .............n_neighbors=40;, score=0.429 total time=   0.0s\n",
      "[CV 1/5; 32/90] START n_neighbors=41............................................\n",
      "[CV 1/5; 32/90] END .............n_neighbors=41;, score=0.508 total time=   0.0s\n",
      "[CV 2/5; 32/90] START n_neighbors=41............................................\n",
      "[CV 2/5; 32/90] END .............n_neighbors=41;, score=0.364 total time=   0.0s\n",
      "[CV 3/5; 32/90] START n_neighbors=41............................................\n",
      "[CV 3/5; 32/90] END .............n_neighbors=41;, score=0.571 total time=   0.0s\n",
      "[CV 4/5; 32/90] START n_neighbors=41............................................\n",
      "[CV 4/5; 32/90] END .............n_neighbors=41;, score=0.476 total time=   0.0s\n",
      "[CV 5/5; 32/90] START n_neighbors=41............................................\n",
      "[CV 5/5; 32/90] END .............n_neighbors=41;, score=0.456 total time=   0.0s\n",
      "[CV 3/5; 39/90] START n_neighbors=48............................................\n",
      "[CV 3/5; 39/90] END .............n_neighbors=48;, score=0.576 total time=   0.0s\n",
      "[CV 4/5; 39/90] START n_neighbors=48............................................\n",
      "[CV 4/5; 39/90] END .............n_neighbors=48;, score=0.483 total time=   0.0s\n",
      "[CV 5/5; 39/90] START n_neighbors=48............................................\n",
      "[CV 5/5; 39/90] END .............n_neighbors=48;, score=0.429 total time=   0.0s\n",
      "[CV 1/5; 40/90] START n_neighbors=49............................................\n",
      "[CV 1/5; 40/90] END .............n_neighbors=49;, score=0.545 total time=   0.0s\n",
      "[CV 2/5; 40/90] START n_neighbors=49............................................\n",
      "[CV 2/5; 40/90] END .............n_neighbors=49;, score=0.377 total time=   0.0s\n",
      "[CV 3/5; 40/90] START n_neighbors=49............................................\n",
      "[CV 3/5; 40/90] END .............n_neighbors=49;, score=0.576 total time=   0.0s\n",
      "[CV 4/5; 40/90] START n_neighbors=49............................................\n",
      "[CV 4/5; 40/90] END .............n_neighbors=49;, score=0.508 total time=   0.0s\n",
      "[CV 5/5; 40/90] START n_neighbors=49............................................\n",
      "[CV 5/5; 40/90] END .............n_neighbors=49;, score=0.421 total time=   0.0s\n",
      "[CV 5/5; 45/90] START n_neighbors=54............................................\n",
      "[CV 5/5; 45/90] END .............n_neighbors=54;, score=0.436 total time=   0.0s\n",
      "[CV 1/5; 46/90] START n_neighbors=55............................................\n",
      "[CV 1/5; 46/90] END .............n_neighbors=55;, score=0.500 total time=   0.0s\n",
      "[CV 2/5; 46/90] START n_neighbors=55............................................\n",
      "[CV 2/5; 46/90] END .............n_neighbors=55;, score=0.327 total time=   0.0s\n",
      "[CV 3/5; 46/90] START n_neighbors=55............................................\n",
      "[CV 3/5; 46/90] END .............n_neighbors=55;, score=0.526 total time=   0.0s\n",
      "[CV 4/5; 46/90] START n_neighbors=55............................................\n",
      "[CV 4/5; 46/90] END .............n_neighbors=55;, score=0.475 total time=   0.0s\n",
      "[CV 5/5; 46/90] START n_neighbors=55............................................\n",
      "[CV 5/5; 46/90] END .............n_neighbors=55;, score=0.448 total time=   0.0s\n",
      "[CV 1/5; 47/90] START n_neighbors=56............................................\n",
      "[CV 1/5; 47/90] END .............n_neighbors=56;, score=0.508 total time=   0.0s\n",
      "[CV 2/5; 47/90] START n_neighbors=56............................................\n",
      "[CV 2/5; 47/90] END .............n_neighbors=56;, score=0.314 total time=   0.0s\n",
      "[CV 1/5; 49/90] START n_neighbors=58............................................\n",
      "[CV 1/5; 49/90] END .............n_neighbors=58;, score=0.500 total time=   0.0s\n",
      "[CV 2/5; 49/90] START n_neighbors=58............................................\n",
      "[CV 2/5; 49/90] END .............n_neighbors=58;, score=0.308 total time=   0.0s\n",
      "[CV 3/5; 49/90] START n_neighbors=58............................................\n",
      "[CV 3/5; 49/90] END .............n_neighbors=58;, score=0.526 total time=   0.0s\n",
      "[CV 4/5; 49/90] START n_neighbors=58............................................\n",
      "[CV 4/5; 49/90] END .............n_neighbors=58;, score=0.448 total time=   0.0s\n",
      "[CV 5/5; 49/90] START n_neighbors=58............................................\n",
      "[CV 5/5; 49/90] END .............n_neighbors=58;, score=0.429 total time=   0.0s\n"
     ]
    },
    {
     "name": "stdout",
     "output_type": "stream",
     "text": [
      "[CV 5/5; 17/90] END .............n_neighbors=26;, score=0.407 total time=   0.0s\n",
      "[CV 1/5; 18/90] START n_neighbors=27............................................\n",
      "[CV 1/5; 18/90] END .............n_neighbors=27;, score=0.580 total time=   0.0s\n",
      "[CV 2/5; 18/90] START n_neighbors=27............................................\n",
      "[CV 2/5; 18/90] END .............n_neighbors=27;, score=0.414 total time=   0.0s\n",
      "[CV 3/5; 18/90] START n_neighbors=27............................................\n",
      "[CV 3/5; 18/90] END .............n_neighbors=27;, score=0.580 total time=   0.0s\n",
      "[CV 3/5; 23/90] START n_neighbors=32............................................\n",
      "[CV 3/5; 23/90] END .............n_neighbors=32;, score=0.557 total time=   0.0s\n",
      "[CV 4/5; 23/90] START n_neighbors=32............................................\n",
      "[CV 4/5; 23/90] END .............n_neighbors=32;, score=0.407 total time=   0.0s\n",
      "[CV 5/5; 23/90] START n_neighbors=32............................................\n",
      "[CV 5/5; 23/90] END .............n_neighbors=32;, score=0.407 total time=   0.0s\n",
      "[CV 1/5; 24/90] START n_neighbors=33............................................\n",
      "[CV 1/5; 24/90] END .............n_neighbors=33;, score=0.523 total time=   0.0s\n",
      "[CV 2/5; 24/90] START n_neighbors=33............................................\n",
      "[CV 2/5; 24/90] END .............n_neighbors=33;, score=0.364 total time=   0.0s\n",
      "[CV 3/5; 24/90] START n_neighbors=33............................................\n",
      "[CV 3/5; 24/90] END .............n_neighbors=33;, score=0.540 total time=   0.0s\n",
      "[CV 4/5; 24/90] START n_neighbors=33............................................\n",
      "[CV 4/5; 24/90] END .............n_neighbors=33;, score=0.426 total time=   0.0s\n",
      "[CV 5/5; 24/90] START n_neighbors=33............................................\n",
      "[CV 5/5; 24/90] END .............n_neighbors=33;, score=0.393 total time=   0.0s\n",
      "[CV 5/5; 29/90] START n_neighbors=38............................................\n",
      "[CV 5/5; 29/90] END .............n_neighbors=38;, score=0.400 total time=   0.0s\n",
      "[CV 1/5; 30/90] START n_neighbors=39............................................\n",
      "[CV 1/5; 30/90] END .............n_neighbors=39;, score=0.500 total time=   0.0s\n",
      "[CV 2/5; 30/90] START n_neighbors=39............................................\n",
      "[CV 2/5; 30/90] END .............n_neighbors=39;, score=0.393 total time=   0.0s\n",
      "[CV 3/5; 30/90] START n_neighbors=39............................................\n",
      "[CV 3/5; 30/90] END .............n_neighbors=39;, score=0.548 total time=   0.0s\n",
      "[CV 4/5; 30/90] START n_neighbors=39............................................\n",
      "[CV 4/5; 30/90] END .............n_neighbors=39;, score=0.469 total time=   0.0s\n",
      "[CV 5/5; 30/90] START n_neighbors=39............................................\n",
      "[CV 5/5; 30/90] END .............n_neighbors=39;, score=0.456 total time=   0.0s\n",
      "[CV 1/5; 31/90] START n_neighbors=40............................................\n",
      "[CV 1/5; 31/90] END .............n_neighbors=40;, score=0.508 total time=   0.0s\n",
      "[CV 2/5; 31/90] START n_neighbors=40............................................\n",
      "[CV 2/5; 31/90] END .............n_neighbors=40;, score=0.364 total time=   0.0s\n",
      "[CV 5/5; 37/90] START n_neighbors=46............................................\n",
      "[CV 5/5; 37/90] END .............n_neighbors=46;, score=0.421 total time=   0.0s\n",
      "[CV 1/5; 38/90] START n_neighbors=47............................................\n",
      "[CV 1/5; 38/90] END .............n_neighbors=47;, score=0.554 total time=   0.0s\n",
      "[CV 2/5; 38/90] START n_neighbors=47............................................\n",
      "[CV 2/5; 38/90] END .............n_neighbors=47;, score=0.400 total time=   0.0s\n",
      "[CV 3/5; 38/90] START n_neighbors=47............................................\n",
      "[CV 3/5; 38/90] END .............n_neighbors=47;, score=0.557 total time=   0.0s\n",
      "[CV 4/5; 38/90] START n_neighbors=47............................................\n",
      "[CV 4/5; 38/90] END .............n_neighbors=47;, score=0.500 total time=   0.0s\n",
      "[CV 5/5; 38/90] START n_neighbors=47............................................\n",
      "[CV 5/5; 38/90] END .............n_neighbors=47;, score=0.414 total time=   0.0s\n",
      "[CV 1/5; 39/90] START n_neighbors=48............................................\n",
      "[CV 1/5; 39/90] END .............n_neighbors=48;, score=0.508 total time=   0.0s\n",
      "[CV 2/5; 39/90] START n_neighbors=48............................................\n",
      "[CV 2/5; 39/90] END .............n_neighbors=48;, score=0.385 total time=   0.0s\n",
      "[CV 4/5; 42/90] START n_neighbors=51............................................\n",
      "[CV 4/5; 42/90] END .............n_neighbors=51;, score=0.456 total time=   0.0s\n",
      "[CV 5/5; 42/90] START n_neighbors=51............................................\n",
      "[CV 5/5; 42/90] END .............n_neighbors=51;, score=0.429 total time=   0.0s\n",
      "[CV 1/5; 43/90] START n_neighbors=52............................................\n",
      "[CV 1/5; 43/90] END .............n_neighbors=52;, score=0.492 total time=   0.0s\n",
      "[CV 2/5; 43/90] START n_neighbors=52............................................\n",
      "[CV 2/5; 43/90] END .............n_neighbors=52;, score=0.360 total time=   0.0s\n",
      "[CV 3/5; 43/90] START n_neighbors=52............................................\n",
      "[CV 3/5; 43/90] END .............n_neighbors=52;, score=0.526 total time=   0.0s\n",
      "[CV 4/5; 43/90] START n_neighbors=52............................................\n",
      "[CV 4/5; 43/90] END .............n_neighbors=52;, score=0.429 total time=   0.0s\n",
      "[CV 5/5; 43/90] START n_neighbors=52............................................\n",
      "[CV 5/5; 43/90] END .............n_neighbors=52;, score=0.444 total time=   0.0s\n",
      "[CV 1/5; 44/90] START n_neighbors=53............................................\n",
      "[CV 1/5; 44/90] END .............n_neighbors=53;, score=0.531 total time=   0.0s\n",
      "[CV 4/5; 50/90] START n_neighbors=59............................................\n",
      "[CV 4/5; 50/90] END .............n_neighbors=59;, score=0.441 total time=   0.0s\n",
      "[CV 5/5; 50/90] START n_neighbors=59............................................\n",
      "[CV 5/5; 50/90] END .............n_neighbors=59;, score=0.421 total time=   0.0s\n",
      "[CV 1/5; 51/90] START n_neighbors=60............................................\n",
      "[CV 1/5; 51/90] END .............n_neighbors=60;, score=0.500 total time=   0.0s\n",
      "[CV 2/5; 51/90] START n_neighbors=60............................................\n",
      "[CV 2/5; 51/90] END .............n_neighbors=60;, score=0.346 total time=   0.0s\n",
      "[CV 3/5; 51/90] START n_neighbors=60............................................\n",
      "[CV 3/5; 51/90] END .............n_neighbors=60;, score=0.526 total time=   0.0s\n",
      "[CV 4/5; 51/90] START n_neighbors=60............................................\n",
      "[CV 4/5; 51/90] END .............n_neighbors=60;, score=0.448 total time=   0.0s\n",
      "[CV 5/5; 51/90] START n_neighbors=60............................................\n",
      "[CV 5/5; 51/90] END .............n_neighbors=60;, score=0.421 total time=   0.0s\n",
      "[CV 1/5; 52/90] START n_neighbors=61............................................\n",
      "[CV 1/5; 52/90] END .............n_neighbors=61;, score=0.500 total time=   0.0s\n",
      "[CV 1/5; 57/90] START n_neighbors=66............................................\n",
      "[CV 1/5; 57/90] END .............n_neighbors=66;, score=0.516 total time=   0.0s\n",
      "[CV 2/5; 57/90] START n_neighbors=66............................................\n",
      "[CV 2/5; 57/90] END .............n_neighbors=66;, score=0.286 total time=   0.0s\n",
      "[CV 3/5; 57/90] START n_neighbors=66............................................\n",
      "[CV 3/5; 57/90] END .............n_neighbors=66;, score=0.526 total time=   0.0s\n",
      "[CV 4/5; 57/90] START n_neighbors=66............................................\n",
      "[CV 4/5; 57/90] END .............n_neighbors=66;, score=0.441 total time=   0.0s\n",
      "[CV 5/5; 57/90] START n_neighbors=66............................................\n",
      "[CV 5/5; 57/90] END .............n_neighbors=66;, score=0.407 total time=   0.0s\n",
      "[CV 1/5; 58/90] START n_neighbors=67............................................\n",
      "[CV 1/5; 58/90] END .............n_neighbors=67;, score=0.516 total time=   0.0s\n",
      "[CV 2/5; 58/90] START n_neighbors=67............................................\n",
      "[CV 2/5; 58/90] END .............n_neighbors=67;, score=0.314 total time=   0.0s\n",
      "[CV 5/5; 20/90] END .............n_neighbors=29;, score=0.414 total time=   0.0s\n",
      "[CV 1/5; 21/90] START n_neighbors=30............................................\n",
      "[CV 1/5; 21/90] END .............n_neighbors=30;, score=0.562 total time=   0.0s\n",
      "[CV 2/5; 21/90] START n_neighbors=30............................................\n",
      "[CV 2/5; 21/90] END .............n_neighbors=30;, score=0.302 total time=   0.0s\n",
      "[CV 3/5; 21/90] START n_neighbors=30............................................\n",
      "[CV 3/5; 21/90] END .............n_neighbors=30;, score=0.571 total time=   0.0s\n",
      "[CV 4/5; 21/90] START n_neighbors=30............................................\n",
      "[CV 4/5; 21/90] END .............n_neighbors=30;, score=0.407 total time=   0.0s\n",
      "[CV 2/5; 28/90] START n_neighbors=37............................................\n",
      "[CV 2/5; 28/90] END .............n_neighbors=37;, score=0.448 total time=   0.0s\n",
      "[CV 3/5; 28/90] START n_neighbors=37............................................\n",
      "[CV 3/5; 28/90] END .............n_neighbors=37;, score=0.500 total time=   0.0s\n",
      "[CV 4/5; 28/90] START n_neighbors=37............................................\n",
      "[CV 4/5; 28/90] END .............n_neighbors=37;, score=0.459 total time=   0.0s\n",
      "[CV 5/5; 28/90] START n_neighbors=37............................................\n",
      "[CV 5/5; 28/90] END .............n_neighbors=37;, score=0.456 total time=   0.0s\n",
      "[CV 1/5; 29/90] START n_neighbors=38............................................\n",
      "[CV 1/5; 29/90] END .............n_neighbors=38;, score=0.475 total time=   0.0s\n",
      "[CV 2/5; 29/90] START n_neighbors=38............................................\n",
      "[CV 2/5; 29/90] END .............n_neighbors=38;, score=0.364 total time=   0.0s\n",
      "[CV 3/5; 29/90] START n_neighbors=38............................................\n",
      "[CV 3/5; 29/90] END .............n_neighbors=38;, score=0.526 total time=   0.0s\n",
      "[CV 4/5; 29/90] START n_neighbors=38............................................\n",
      "[CV 4/5; 29/90] END .............n_neighbors=38;, score=0.467 total time=   0.0s\n",
      "[CV 1/5; 33/90] START n_neighbors=42............................................\n",
      "[CV 1/5; 33/90] END .............n_neighbors=42;, score=0.500 total time=   0.0s\n",
      "[CV 2/5; 33/90] START n_neighbors=42............................................\n",
      "[CV 2/5; 33/90] END .............n_neighbors=42;, score=0.377 total time=   0.0s\n",
      "[CV 3/5; 33/90] START n_neighbors=42............................................\n",
      "[CV 3/5; 33/90] END .............n_neighbors=42;, score=0.517 total time=   0.0s\n",
      "[CV 4/5; 33/90] START n_neighbors=42............................................\n",
      "[CV 4/5; 33/90] END .............n_neighbors=42;, score=0.467 total time=   0.0s\n",
      "[CV 5/5; 33/90] START n_neighbors=42............................................\n",
      "[CV 5/5; 33/90] END .............n_neighbors=42;, score=0.456 total time=   0.0s\n",
      "[CV 1/5; 34/90] START n_neighbors=43............................................\n",
      "[CV 1/5; 34/90] END .............n_neighbors=43;, score=0.548 total time=   0.0s\n",
      "[CV 2/5; 34/90] START n_neighbors=43............................................\n",
      "[CV 2/5; 34/90] END .............n_neighbors=43;, score=0.386 total time=   0.0s\n",
      "[CV 3/5; 34/90] START n_neighbors=43............................................\n",
      "[CV 3/5; 34/90] END .............n_neighbors=43;, score=0.523 total time=   0.0s\n",
      "[CV 2/5; 36/90] START n_neighbors=45............................................\n",
      "[CV 2/5; 36/90] END .............n_neighbors=45;, score=0.393 total time=   0.0s\n",
      "[CV 3/5; 36/90] START n_neighbors=45............................................\n",
      "[CV 3/5; 36/90] END .............n_neighbors=45;, score=0.557 total time=   0.0s\n",
      "[CV 4/5; 36/90] START n_neighbors=45............................................\n",
      "[CV 4/5; 36/90] END .............n_neighbors=45;, score=0.492 total time=   0.0s\n",
      "[CV 5/5; 36/90] START n_neighbors=45............................................\n",
      "[CV 5/5; 36/90] END .............n_neighbors=45;, score=0.421 total time=   0.0s\n",
      "[CV 1/5; 37/90] START n_neighbors=46............................................\n",
      "[CV 1/5; 37/90] END .............n_neighbors=46;, score=0.500 total time=   0.0s\n",
      "[CV 2/5; 37/90] START n_neighbors=46............................................\n",
      "[CV 2/5; 37/90] END .............n_neighbors=46;, score=0.377 total time=   0.0s\n",
      "[CV 3/5; 37/90] START n_neighbors=46............................................\n",
      "[CV 3/5; 37/90] END .............n_neighbors=46;, score=0.567 total time=   0.0s\n",
      "[CV 4/5; 37/90] START n_neighbors=46............................................\n",
      "[CV 4/5; 37/90] END .............n_neighbors=46;, score=0.508 total time=   0.0s\n",
      "[CV 2/5; 44/90] START n_neighbors=53............................................\n",
      "[CV 2/5; 44/90] END .............n_neighbors=53;, score=0.346 total time=   0.0s\n",
      "[CV 3/5; 44/90] START n_neighbors=53............................................\n",
      "[CV 3/5; 44/90] END .............n_neighbors=53;, score=0.552 total time=   0.0s\n",
      "[CV 4/5; 44/90] START n_neighbors=53............................................\n",
      "[CV 4/5; 44/90] END .............n_neighbors=53;, score=0.475 total time=   0.0s\n",
      "[CV 5/5; 44/90] START n_neighbors=53............................................\n",
      "[CV 5/5; 44/90] END .............n_neighbors=53;, score=0.429 total time=   0.0s\n",
      "[CV 1/5; 45/90] START n_neighbors=54............................................\n",
      "[CV 1/5; 45/90] END .............n_neighbors=54;, score=0.500 total time=   0.0s\n",
      "[CV 2/5; 45/90] START n_neighbors=54............................................\n",
      "[CV 2/5; 45/90] END .............n_neighbors=54;, score=0.353 total time=   0.0s\n",
      "[CV 3/5; 45/90] START n_neighbors=54............................................\n",
      "[CV 3/5; 45/90] END .............n_neighbors=54;, score=0.526 total time=   0.0s\n",
      "[CV 4/5; 45/90] START n_neighbors=54............................................\n",
      "[CV 4/5; 45/90] END .............n_neighbors=54;, score=0.456 total time=   0.0s\n",
      "[CV 2/5; 52/90] START n_neighbors=61............................................\n",
      "[CV 2/5; 52/90] END .............n_neighbors=61;, score=0.346 total time=   0.0s\n",
      "[CV 3/5; 52/90] START n_neighbors=61............................................\n",
      "[CV 3/5; 52/90] END .............n_neighbors=61;, score=0.517 total time=   0.0s\n",
      "[CV 4/5; 52/90] START n_neighbors=61............................................\n",
      "[CV 4/5; 52/90] END .............n_neighbors=61;, score=0.467 total time=   0.0s\n",
      "[CV 5/5; 52/90] START n_neighbors=61............................................\n",
      "[CV 5/5; 52/90] END .............n_neighbors=61;, score=0.448 total time=   0.0s\n",
      "[CV 1/5; 53/90] START n_neighbors=62............................................\n",
      "[CV 1/5; 53/90] END .............n_neighbors=62;, score=0.500 total time=   0.0s\n",
      "[CV 2/5; 53/90] START n_neighbors=62............................................\n",
      "[CV 2/5; 53/90] END .............n_neighbors=62;, score=0.320 total time=   0.0s\n",
      "[CV 3/5; 53/90] START n_neighbors=62............................................\n",
      "[CV 3/5; 53/90] END .............n_neighbors=62;, score=0.526 total time=   0.0s\n",
      "[CV 4/5; 53/90] START n_neighbors=62............................................\n",
      "[CV 4/5; 53/90] END .............n_neighbors=62;, score=0.441 total time=   0.0s\n",
      "[CV 4/5; 58/90] START n_neighbors=67............................................\n",
      "[CV 4/5; 58/90] END .............n_neighbors=67;, score=0.433 total time=   0.0s\n",
      "[CV 5/5; 58/90] START n_neighbors=67............................................\n",
      "[CV 5/5; 58/90] END .............n_neighbors=67;, score=0.400 total time=   0.0s\n",
      "[CV 1/5; 59/90] START n_neighbors=68............................................\n",
      "[CV 1/5; 59/90] END .............n_neighbors=68;, score=0.492 total time=   0.0s\n",
      "[CV 2/5; 59/90] START n_neighbors=68............................................\n",
      "[CV 2/5; 59/90] END .............n_neighbors=68;, score=0.280 total time=   0.0s\n",
      "[CV 3/5; 59/90] START n_neighbors=68............................................\n",
      "[CV 3/5; 59/90] END .............n_neighbors=68;, score=0.526 total time=   0.0s\n",
      "[CV 4/5; 59/90] START n_neighbors=68............................................\n",
      "[CV 4/5; 59/90] END .............n_neighbors=68;, score=0.441 total time=   0.0s\n"
     ]
    },
    {
     "name": "stdout",
     "output_type": "stream",
     "text": [
      "[CV 1/5; 50/90] START n_neighbors=59............................................\n",
      "[CV 1/5; 50/90] END .............n_neighbors=59;, score=0.500 total time=   0.0s\n",
      "[CV 2/5; 50/90] START n_neighbors=59............................................\n",
      "[CV 2/5; 50/90] END .............n_neighbors=59;, score=0.340 total time=   0.0s\n",
      "[CV 3/5; 50/90] START n_neighbors=59............................................\n",
      "[CV 3/5; 50/90] END .............n_neighbors=59;, score=0.526 total time=   0.0s\n",
      "[CV 3/5; 55/90] START n_neighbors=64............................................\n",
      "[CV 3/5; 55/90] END .............n_neighbors=64;, score=0.526 total time=   0.0s\n",
      "[CV 4/5; 55/90] START n_neighbors=64............................................\n",
      "[CV 4/5; 55/90] END .............n_neighbors=64;, score=0.441 total time=   0.0s\n",
      "[CV 5/5; 55/90] START n_neighbors=64............................................\n",
      "[CV 5/5; 55/90] END .............n_neighbors=64;, score=0.429 total time=   0.0s\n",
      "[CV 1/5; 56/90] START n_neighbors=65............................................\n",
      "[CV 1/5; 56/90] END .............n_neighbors=65;, score=0.516 total time=   0.0s\n",
      "[CV 2/5; 56/90] START n_neighbors=65............................................\n",
      "[CV 2/5; 56/90] END .............n_neighbors=65;, score=0.346 total time=   0.0s\n",
      "[CV 3/5; 56/90] START n_neighbors=65............................................\n",
      "[CV 3/5; 56/90] END .............n_neighbors=65;, score=0.526 total time=   0.0s\n",
      "[CV 4/5; 56/90] START n_neighbors=65............................................\n",
      "[CV 4/5; 56/90] END .............n_neighbors=65;, score=0.441 total time=   0.0s\n",
      "[CV 5/5; 56/90] START n_neighbors=65............................................\n",
      "[CV 5/5; 56/90] END .............n_neighbors=65;, score=0.421 total time=   0.0s\n",
      "[CV 2/5; 60/90] START n_neighbors=69............................................\n",
      "[CV 2/5; 60/90] END .............n_neighbors=69;, score=0.275 total time=   0.0s\n",
      "[CV 3/5; 60/90] START n_neighbors=69............................................\n",
      "[CV 3/5; 60/90] END .............n_neighbors=69;, score=0.508 total time=   0.0s\n",
      "[CV 4/5; 60/90] START n_neighbors=69............................................\n",
      "[CV 4/5; 60/90] END .............n_neighbors=69;, score=0.433 total time=   0.0s\n",
      "[CV 5/5; 60/90] START n_neighbors=69............................................\n",
      "[CV 5/5; 60/90] END .............n_neighbors=69;, score=0.400 total time=   0.0s\n",
      "[CV 1/5; 61/90] START n_neighbors=70............................................\n",
      "[CV 1/5; 61/90] END .............n_neighbors=70;, score=0.516 total time=   0.0s\n",
      "[CV 2/5; 61/90] START n_neighbors=70............................................\n",
      "[CV 2/5; 61/90] END .............n_neighbors=70;, score=0.240 total time=   0.0s\n",
      "[CV 3/5; 61/90] START n_neighbors=70............................................\n",
      "[CV 3/5; 61/90] END .............n_neighbors=70;, score=0.491 total time=   0.0s\n",
      "[CV 4/5; 61/90] START n_neighbors=70............................................\n",
      "[CV 4/5; 61/90] END .............n_neighbors=70;, score=0.433 total time=   0.0s\n",
      "[CV 4/5; 66/90] START n_neighbors=75............................................\n",
      "[CV 4/5; 66/90] END .............n_neighbors=75;, score=0.452 total time=   0.0s\n",
      "[CV 5/5; 66/90] START n_neighbors=75............................................\n",
      "[CV 5/5; 66/90] END .............n_neighbors=75;, score=0.421 total time=   0.0s\n",
      "[CV 1/5; 67/90] START n_neighbors=76............................................\n",
      "[CV 1/5; 67/90] END .............n_neighbors=76;, score=0.492 total time=   0.0s\n",
      "[CV 2/5; 67/90] START n_neighbors=76............................................\n",
      "[CV 2/5; 67/90] END .............n_neighbors=76;, score=0.245 total time=   0.0s\n",
      "[CV 3/5; 67/90] START n_neighbors=76............................................\n",
      "[CV 3/5; 67/90] END .............n_neighbors=76;, score=0.542 total time=   0.0s\n",
      "[CV 4/5; 67/90] START n_neighbors=76............................................\n",
      "[CV 4/5; 67/90] END .............n_neighbors=76;, score=0.433 total time=   0.0s\n",
      "[CV 5/5; 67/90] START n_neighbors=76............................................\n",
      "[CV 5/5; 67/90] END .............n_neighbors=76;, score=0.421 total time=   0.0s\n",
      "[CV 1/5; 68/90] START n_neighbors=77............................................\n",
      "[CV 1/5; 68/90] END .............n_neighbors=77;, score=0.508 total time=   0.0s\n",
      "[CV 1/5; 73/90] START n_neighbors=82............................................\n",
      "[CV 1/5; 73/90] END .............n_neighbors=82;, score=0.531 total time=   0.0s\n",
      "[CV 2/5; 73/90] START n_neighbors=82............................................\n",
      "[CV 2/5; 73/90] END .............n_neighbors=82;, score=0.346 total time=   0.0s\n",
      "[CV 3/5; 73/90] START n_neighbors=82............................................\n",
      "[CV 3/5; 73/90] END .............n_neighbors=82;, score=0.542 total time=   0.0s\n",
      "[CV 4/5; 73/90] START n_neighbors=82............................................\n",
      "[CV 4/5; 73/90] END .............n_neighbors=82;, score=0.426 total time=   0.0s\n",
      "[CV 5/5; 73/90] START n_neighbors=82............................................\n",
      "[CV 5/5; 73/90] END .............n_neighbors=82;, score=0.414 total time=   0.0s\n",
      "[CV 1/5; 74/90] START n_neighbors=83............................................\n",
      "[CV 1/5; 74/90] END .............n_neighbors=83;, score=0.531 total time=   0.0s\n",
      "[CV 2/5; 74/90] START n_neighbors=83............................................\n",
      "[CV 2/5; 74/90] END .............n_neighbors=83;, score=0.346 total time=   0.0s\n",
      "[CV 3/5; 74/90] START n_neighbors=83............................................\n",
      "[CV 3/5; 74/90] END .............n_neighbors=83;, score=0.542 total time=   0.0s\n",
      "[CV 5/5; 77/90] START n_neighbors=86............................................\n",
      "[CV 5/5; 77/90] END .............n_neighbors=86;, score=0.414 total time=   0.0s\n",
      "[CV 1/5; 78/90] START n_neighbors=87............................................\n",
      "[CV 1/5; 78/90] END .............n_neighbors=87;, score=0.562 total time=   0.0s\n",
      "[CV 2/5; 78/90] START n_neighbors=87............................................\n",
      "[CV 2/5; 78/90] END .............n_neighbors=87;, score=0.346 total time=   0.0s\n",
      "[CV 3/5; 78/90] START n_neighbors=87............................................\n",
      "[CV 3/5; 78/90] END .............n_neighbors=87;, score=0.526 total time=   0.0s\n",
      "[CV 4/5; 78/90] START n_neighbors=87............................................\n",
      "[CV 4/5; 78/90] END .............n_neighbors=87;, score=0.452 total time=   0.0s\n",
      "[CV 5/5; 78/90] START n_neighbors=87............................................\n",
      "[CV 5/5; 78/90] END .............n_neighbors=87;, score=0.414 total time=   0.0s\n",
      "[CV 1/5; 79/90] START n_neighbors=88............................................\n",
      "[CV 1/5; 79/90] END .............n_neighbors=88;, score=0.548 total time=   0.0s\n",
      "[CV 2/5; 79/90] START n_neighbors=88............................................\n",
      "[CV 2/5; 79/90] END .............n_neighbors=88;, score=0.314 total time=   0.0s\n",
      "[CV 4/5; 82/90] START n_neighbors=91............................................\n",
      "[CV 4/5; 82/90] END .............n_neighbors=91;, score=0.459 total time=   0.0s\n",
      "[CV 5/5; 82/90] START n_neighbors=91............................................\n",
      "[CV 5/5; 82/90] END .............n_neighbors=91;, score=0.414 total time=   0.0s\n",
      "[CV 1/5; 83/90] START n_neighbors=92............................................\n",
      "[CV 1/5; 83/90] END .............n_neighbors=92;, score=0.571 total time=   0.0s\n",
      "[CV 2/5; 83/90] START n_neighbors=92............................................\n",
      "[CV 2/5; 83/90] END .............n_neighbors=92;, score=0.286 total time=   0.0s\n",
      "[CV 3/5; 83/90] START n_neighbors=92............................................\n",
      "[CV 3/5; 83/90] END .............n_neighbors=92;, score=0.536 total time=   0.0s\n",
      "[CV 4/5; 83/90] START n_neighbors=92............................................\n",
      "[CV 4/5; 83/90] END .............n_neighbors=92;, score=0.459 total time=   0.0s\n",
      "[CV 5/5; 83/90] START n_neighbors=92............................................\n",
      "[CV 5/5; 83/90] END .............n_neighbors=92;, score=0.386 total time=   0.0s\n",
      "[CV 1/5; 84/90] START n_neighbors=93............................................\n",
      "Best score: 0.496389 using {'n_neighbors': 27}\n",
      "f1_score:  0.5970149253731344\n",
      "accuracy:  0.7662337662337663\n",
      "[[137  13]\n",
      " [ 41  40]]\n"
     ]
    },
    {
     "data": {
      "image/png": "[encoded data removed]",
      "text/plain": [
       "<Figure size 432x288 with 2 Axes>"
      ]
     },
     "metadata": {
      "needs_background": "light"
     },
     "output_type": "display_data"
    }
   ],
   "source": [
    "#DEFINE  PARAMETERS GRID\n",
    "from sklearn.neighbors import KNeighborsClassifier\n",
    "import numpy as np\n",
    "classifier = KNeighborsClassifier()\n",
    "parameters = {'n_neighbors':np.arange(10,100)}\n",
    "\n",
    "from sklearn.model_selection import GridSearchCV\n",
    "gs = GridSearchCV(classifier, parameters, cv=5, scoring = 'f1', verbose=50, n_jobs=-1)\n",
    "# We use just the two first PC\n",
    "gs = gs.fit(X_train_pca.iloc[:,:2], y_train) \n",
    "\n",
    "#Prediction\n",
    "print(\"Best score: %f using %s\" % (gs.best_score_, gs.best_params_))\n",
    "best_model = gs.best_estimator_\n",
    "y_pred = best_model.predict(X_test_pca.iloc[:,:2])\n",
    "\n",
    "print(\"f1_score: \", metrics.f1_score(y_test, y_pred))\n",
    "print(\"accuracy: \", metrics.accuracy_score(y_test, y_pred))\n",
    "\n",
    "from sklearn.metrics import confusion_matrix\n",
    "\n",
    "print(confusion_matrix(y_test, y_pred))\n",
    "\n",
    "sns.heatmap(confusion_matrix(y_test, y_pred), annot=True, fmt='d', cmap=\"Blues\"); #annot=True to annotate cells fmt: format\n"
   ]
  },
  {
   "cell_type": "code",
   "execution_count": 49,
   "metadata": {},
   "outputs": [
    {
     "name": "stdout",
     "output_type": "stream",
     "text": [
      "***RESULTS ON TRAIN SET***\n",
      "precision:  0.6721311475409836\n",
      "recall:  0.4385026737967914\n",
      "f1_score:  0.5307443365695792\n",
      "accuracy:  0.7299813780260708\n",
      "---\n",
      "***RESULTS ON TEST SET***\n",
      "precision:  0.7547169811320755\n",
      "recall:  0.49382716049382713\n",
      "f1_score:  0.5970149253731344\n",
      "accuracy:  0.7662337662337663\n"
     ]
    }
   ],
   "source": [
    "y_pred_train = best_model.predict(X_train_pca.iloc[:,:2])\n",
    "y_pred = best_model.predict(X_test_pca.iloc[:,:2])\n",
    "\n",
    "\n",
    "print('***RESULTS ON TRAIN SET***')\n",
    "print(\"precision: \", metrics.precision_score(y_train, y_pred_train)) # tp / (tp + fp)\n",
    "print(\"recall: \", metrics.recall_score(y_train, y_pred_train)) # tp / (tp + fn)\n",
    "print(\"f1_score: \", metrics.f1_score(y_train, y_pred_train)) #F1 = 2 * (precision * recall) / (precision + recall)\n",
    "print(\"accuracy: \", metrics.accuracy_score(y_train, y_pred_train)) # (tp+tn)/m\n",
    "print('---')\n",
    "print('***RESULTS ON TEST SET***')\n",
    "print(\"precision: \", metrics.precision_score(y_test, y_pred)) # tp / (tp + fp)\n",
    "print(\"recall: \", metrics.recall_score(y_test, y_pred)) # tp / (tp + fn)\n",
    "print(\"f1_score: \", metrics.f1_score(y_test, y_pred)) #F1 = 2 * (precision * recall) / (precision + recall)\n",
    "print(\"accuracy: \", metrics.accuracy_score(y_test, y_pred)) # (tp+tn)/m"
   ]
  },
  {
   "cell_type": "code",
   "execution_count": 50,
   "metadata": {},
   "outputs": [
    {
     "data": {
      "image/png": "[encoded data removed]",
      "text/plain": [
       "<Figure size 432x288 with 1 Axes>"
      ]
     },
     "metadata": {
      "needs_background": "light"
     },
     "output_type": "display_data"
    },
    {
     "name": "stdout",
     "output_type": "stream",
     "text": [
      "AUC: 0.84\n"
     ]
    }
   ],
   "source": [
    "#Using the three first PC\n",
    "X_train_pca_2=X_train_pca.iloc[:,:3]\n",
    "X_test_pca_2=X_test_pca.iloc[:,:3]\n",
    "\n",
    "model = KNeighborsClassifier(n_neighbors=27)\n",
    "model.fit(X_train_pca_2, y_train)\n",
    "y_pred = model.predict(X_test_pca_2)\n",
    "\n",
    "y_probs = model.predict_proba(X_test_pca_2) #predict_proba gives the probabilities for the target (0 and 1 in your case) \n",
    "\n",
    "fpr, tpr, thresholds=metrics.roc_curve(y_test,  y_probs[:,1])\n",
    "\n",
    "import matplotlib.pyplot as plt\n",
    "plt.plot(fpr, tpr, label='ROC')\n",
    "plt.plot([0, 1], [0, 1], color='darkblue', linestyle='--')\n",
    "plt.xlabel('False Positive Rate')\n",
    "plt.ylabel('True Positive Rate')\n",
    "plt.title('Receiver Operating Characteristic (ROC) Curve')\n",
    "plt.legend()\n",
    "plt.show()\n",
    "\n",
    "auc = metrics.roc_auc_score(y_test, y_probs[:,1])\n",
    "print('AUC: %.2f' % auc)"
   ]
  },
  {
   "cell_type": "markdown",
   "metadata": {},
   "source": [
    "### Using all the PC"
   ]
  },
  {
   "cell_type": "code",
   "execution_count": 51,
   "metadata": {},
   "outputs": [
    {
     "data": {
      "image/png": "[encoded data removed]",
      "text/plain": [
       "<Figure size 432x288 with 2 Axes>"
      ]
     },
     "metadata": {
      "needs_background": "light"
     },
     "output_type": "display_data"
    }
   ],
   "source": [
    "model = KNeighborsClassifier(n_neighbors=15)\n",
    "model.fit(X_train_pca, y_train)\n",
    "y_pred = model.predict(X_test_pca)\n",
    "\n",
    "#Confusion Matrix\n",
    "sns.heatmap(confusion_matrix(y_test, y_pred), annot=True, fmt='d', cmap=\"Blues\"); #annot=True to annotate cells fmt: format\n",
    "\n",
    "\n"
   ]
  },
  {
   "cell_type": "code",
   "execution_count": 52,
   "metadata": {},
   "outputs": [
    {
     "data": {
      "image/png": "[encoded data removed]",
      "text/plain": [
       "<Figure size 432x288 with 1 Axes>"
      ]
     },
     "metadata": {
      "needs_background": "light"
     },
     "output_type": "display_data"
    },
    {
     "name": "stdout",
     "output_type": "stream",
     "text": [
      "AUC: 0.84\n"
     ]
    }
   ],
   "source": [
    "#ROC\n",
    "y_probs = model.predict_proba(X_test_pca) #predict_proba gives the probabilities for the target (0 and 1 in your case) \n",
    "\n",
    "fpr, tpr, thresholds=metrics.roc_curve(y_test,  y_probs[:,1])\n",
    "\n",
    "import matplotlib.pyplot as plt\n",
    "plt.plot(fpr, tpr, label='ROC')\n",
    "plt.plot([0, 1], [0, 1], color='darkblue', linestyle='--')\n",
    "plt.xlabel('False Positive Rate')\n",
    "plt.ylabel('True Positive Rate')\n",
    "plt.title('Receiver Operating Characteristic (ROC) Curve')\n",
    "plt.legend()\n",
    "plt.show()\n",
    "\n",
    "auc = metrics.roc_auc_score(y_test, y_probs[:,1])\n",
    "print('AUC: %.2f' % auc)"
   ]
  },
  {
   "cell_type": "code",
   "execution_count": null,
   "metadata": {},
   "outputs": [],
   "source": []
  },
  {
   "cell_type": "code",
   "execution_count": null,
   "metadata": {},
   "outputs": [],
   "source": []
  },
  {
   "cell_type": "code",
   "execution_count": null,
   "metadata": {},
   "outputs": [],
   "source": []
  },
  {
   "cell_type": "code",
   "execution_count": null,
   "metadata": {},
   "outputs": [],
   "source": []
  }
 ],
 "metadata": {
  "kernelspec": {
   "display_name": "Python 3 (ipykernel)",
   "language": "python",
   "name": "python3"
  },
  "language_info": {
   "codemirror_mode": {
    "name": "ipython",
    "version": 3
   },
   "file_extension": ".py",
   "mimetype": "text/x-python",
   "name": "python",
   "nbconvert_exporter": "python",
   "pygments_lexer": "ipython3",
   "version": "3.9.7"
  }
 },
 "nbformat": 4,
 "nbformat_minor": 2
}

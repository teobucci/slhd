{
 "cells": [
  {
   "cell_type": "markdown",
   "metadata": {},
   "source": [
    "# Classification: Naive Bayes"
   ]
  },
  {
   "cell_type": "code",
   "execution_count": 1,
   "metadata": {},
   "outputs": [],
   "source": [
    "import pandas as pd\n",
    "data = pd.read_csv('diabetes.csv')"
   ]
  },
  {
   "cell_type": "code",
   "execution_count": 2,
   "metadata": {},
   "outputs": [],
   "source": [
    "#Separate X and y (explanatory variables and target variable)\n",
    "X = data.iloc[:,0:-1]\n",
    "column_names = list(X) \n",
    "y = data.iloc[:,-1] \n",
    "\n",
    "#X.head()\n",
    "#y.head()"
   ]
  },
  {
   "cell_type": "code",
   "execution_count": 3,
   "metadata": {},
   "outputs": [
    {
     "name": "stdout",
     "output_type": "stream",
     "text": [
      "(537, 8)\n",
      "(231, 8)\n"
     ]
    }
   ],
   "source": [
    "from sklearn.model_selection import train_test_split\n",
    "\n",
    "#SPLIT DATA INTO TRAIN AND TEST SET\n",
    "X_train, X_test, y_train, y_test = train_test_split(X, y, \n",
    "                                                    test_size =0.30, #by default is 75%-25%\n",
    "                                                    #shuffle is set True by default,\n",
    "                                                    stratify=y,\n",
    "                                                    random_state= 123) #fix random seed for replicability\n",
    "\n",
    "print(X_train.shape)\n",
    "print(X_test.shape)"
   ]
  },
  {
   "cell_type": "markdown",
   "metadata": {},
   "source": [
    "## Naive Bayes method"
   ]
  },
  {
   "cell_type": "markdown",
   "metadata": {},
   "source": [
    " - Bayes Theorem\n",
    " $$p(y|\\textbf{x}) = \\frac{p(\\textbf{x}|y)p(y)}{p(\\textbf{x})} = \\frac{p(\\textbf{x}|y)p(y)}{\\sum_{i=1}^H p(\\textbf{x}|y_i)p(y_i)} $$\n",
    " \n",
    " \n",
    " - Maximum a posteriory hypotesis\n",
    " $$y_{MAP} = \\arg \\max_{y \\in H} P(y|\\textbf{x}) = \\arg \\max \\frac{p(\\textbf{x}|y)p(y)}{\\sum_{i=1}^H p(\\textbf{x}|y_i)p(y_i)} $$\n",
    " \n",
    " \n",
    " - Independence (naive)\n",
    "$$P(\\textbf{x}|y) = P(x_1|y)P(x_2|y)...P(x_n|y)=\\prod_{j=1}^n P(x_j|y)$$\n",
    "\n",
    "\n",
    " - Categorical/discrete attributes\n",
    " $$P(x_j|y) = P(x_j = r_{jk} | y = v_n) $$\n",
    "empirical frequency of the observed class $v_n$\n",
    " \n",
    " \n",
    " - Numerical attribute\n",
    "  $$P(x_j|y) \\sim N(\\mu_{jh}, \\sigma_{jh}^2) $$\n",
    "assuming Gaussian density with empirical parameters "
   ]
  },
  {
   "cell_type": "code",
   "execution_count": 5,
   "metadata": {},
   "outputs": [],
   "source": [
    "'''\n",
    "NAIVE BAYES classifier:\n",
    "\n",
    "(1) Training is fast because only the probability of each class and the probability of each class given different input (x) values need to be calculated. \n",
    "(2) No coefficients need to be fitted by optimization procedures!\n",
    "\n",
    "Bernoulli Naive Bayes: it assumes that all our features are binary.\n",
    "Multinomial Naive Bayes: it is used when we discrete data\n",
    "Gaussian Naive Bayes: Naive Bayes can be extended to real-valued attributes, \n",
    "    most commonly by assuming a Gaussian distribution.\n",
    "    we can give prior probabilities of the classes with the parameter \n",
    "    priors : array-like, y_pred=shape (n_classes,)\n",
    "'''\n",
    "\n",
    "from sklearn.naive_bayes import GaussianNB #or alternative NB implementations\n",
    "\n",
    "model = GaussianNB()\n",
    "\n",
    "model.fit(X_train, y_train)\n",
    "y_pred=model.predict(X_test)\n",
    "\n",
    "y_pred_train=model.predict(X_train)"
   ]
  },
  {
   "cell_type": "code",
   "execution_count": 6,
   "metadata": {},
   "outputs": [
    {
     "name": "stdout",
     "output_type": "stream",
     "text": [
      "***RESULTS ON TEST SET***\n",
      "f1_score_test:  0.6666666666666666\n",
      "***RESULTS ON TRAIN SET***\n",
      "f1_score_test:  0.6288951841359773\n"
     ]
    }
   ],
   "source": [
    "#EVALUATE YOUR PREDICTION (on the y_test that you left aside)\n",
    "from sklearn.metrics import f1_score\n",
    "print('***RESULTS ON TEST SET***')\n",
    "print(\"f1_score_test: \", f1_score(y_test, y_pred))\n",
    "print('***RESULTS ON TRAIN SET***')\n",
    "print(\"f1_score_test: \", f1_score(y_train, y_pred_train))"
   ]
  },
  {
   "cell_type": "code",
   "execution_count": 7,
   "metadata": {},
   "outputs": [
    {
     "name": "stdout",
     "output_type": "stream",
     "text": [
      "              precision    recall  f1-score   support\n",
      "\n",
      "           0       0.81      0.87      0.84       150\n",
      "           1       0.72      0.62      0.67        81\n",
      "\n",
      "    accuracy                           0.78       231\n",
      "   macro avg       0.77      0.75      0.75       231\n",
      "weighted avg       0.78      0.78      0.78       231\n",
      "\n"
     ]
    }
   ],
   "source": [
    "#PRINT SOME FURTHER METRICS\n",
    "from sklearn.metrics import classification_report\n",
    "print(classification_report(y_test, y_pred))"
   ]
  },
  {
   "cell_type": "code",
   "execution_count": 8,
   "metadata": {},
   "outputs": [
    {
     "name": "stdout",
     "output_type": "stream",
     "text": [
      "[[131  19]\n",
      " [ 31  50]]\n"
     ]
    }
   ],
   "source": [
    "#CONFUSION MATRIX\n",
    "from sklearn.metrics import confusion_matrix\n",
    "print(confusion_matrix(y_test, y_pred))"
   ]
  },
  {
   "cell_type": "code",
   "execution_count": 9,
   "metadata": {},
   "outputs": [
    {
     "data": {
      "image/png": "[encoded data removed]",
      "text/plain": [
       "<Figure size 432x288 with 2 Axes>"
      ]
     },
     "metadata": {
      "needs_background": "light"
     },
     "output_type": "display_data"
    }
   ],
   "source": [
    "%matplotlib inline\n",
    "import seaborn as sns\n",
    "\n",
    "\n",
    "# Plot confusion matrix\n",
    "sns.heatmap(confusion_matrix(y_test, y_pred), annot=True, fmt='d', cmap=\"Blues\"); #annot=True to annotate cells fmt: format\n"
   ]
  },
  {
   "cell_type": "code",
   "execution_count": 10,
   "metadata": {},
   "outputs": [
    {
     "data": {
      "image/png": "[encoded data removed]",
      "text/plain": [
       "<Figure size 432x288 with 1 Axes>"
      ]
     },
     "metadata": {
      "needs_background": "light"
     },
     "output_type": "display_data"
    },
    {
     "name": "stdout",
     "output_type": "stream",
     "text": [
      "AUC: 0.85\n"
     ]
    }
   ],
   "source": [
    "from sklearn import metrics\n",
    "\n",
    "y_probs = model.predict_proba(X_test) #predict_proba gives the probabilities for the target (0 and 1 in your case) \n",
    "\n",
    "fpr, tpr, thresholds=metrics.roc_curve(y_test,  y_probs[:,1])\n",
    "\n",
    "import matplotlib.pyplot as plt\n",
    "plt.plot(fpr, tpr, label='ROC')\n",
    "plt.plot([0, 1], [0, 1], color='darkblue', linestyle='--')\n",
    "plt.xlabel('False Positive Rate')\n",
    "plt.ylabel('True Positive Rate')\n",
    "plt.title('Receiver Operating Characteristic (ROC) Curve')\n",
    "plt.legend()\n",
    "plt.show()\n",
    "\n",
    "auc = metrics.roc_auc_score(y_test, y_probs[:,1])\n",
    "print('AUC: %.2f' % auc)"
   ]
  },
  {
   "cell_type": "code",
   "execution_count": null,
   "metadata": {},
   "outputs": [],
   "source": []
  }
 ],
 "metadata": {
  "kernelspec": {
   "display_name": "Python 3 (ipykernel)",
   "language": "python",
   "name": "python3"
  },
  "language_info": {
   "codemirror_mode": {
    "name": "ipython",
    "version": 3
   },
   "file_extension": ".py",
   "mimetype": "text/x-python",
   "name": "python",
   "nbconvert_exporter": "python",
   "pygments_lexer": "ipython3",
   "version": "3.9.7"
  }
 },
 "nbformat": 4,
 "nbformat_minor": 2
}
